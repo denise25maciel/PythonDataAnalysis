{
  "nbformat": 4,
  "nbformat_minor": 0,
  "metadata": {
    "colab": {
      "name": "vd1_dadosClimaticos.ipynb",
      "provenance": [],
      "toc_visible": true,
      "authorship_tag": "ABX9TyPdHTq/ivqnajNKbg9+9lRl",
      "include_colab_link": true
    },
    "kernelspec": {
      "name": "python3",
      "display_name": "Python 3"
    },
    "language_info": {
      "name": "python"
    }
  },
  "cells": [
    {
      "cell_type": "markdown",
      "metadata": {
        "id": "view-in-github",
        "colab_type": "text"
      },
      "source": [
        "<a href=\"https://colab.research.google.com/github/denise25maciel/analiseDadosPython/blob/main/vd1_dadosClimaticos.ipynb\" target=\"_parent\"><img src=\"https://colab.research.google.com/assets/colab-badge.svg\" alt=\"Open In Colab\"/></a>"
      ]
    },
    {
      "cell_type": "markdown",
      "source": [
        "# Projeto 1: Avaliação de dados climáticos"
      ],
      "metadata": {
        "id": "emYWeA1iT4dr"
      }
    },
    {
      "cell_type": "markdown",
      "source": [
        "O conjunto de dados utilizados trata-se de série temporal que coleta, por hora, dados sobre a condição climática de uma localização. São registrados dados como a temperatura, temperatura do momento de orvalho, humidade relativa, velocidade do vento, visibilidade, pressão e condições climáticas."
      ],
      "metadata": {
        "id": "XXuafSkAV5-n"
      }
    },
    {
      "cell_type": "markdown",
      "source": [
        "Nesse notebook serão abordadas as funções:\n",
        "\n",
        "*   nunique() e unique()\n",
        "*   value_counts()\n",
        "*   filtering\n",
        "*   groupby()\n",
        "*   isnull() e notnull()\n",
        "*   rename()\n",
        "*   mean()\n",
        "*   std() #desvio padrão\n",
        "*   var() #variância\n",
        "*   str.contains\n",
        "*   operador e\n",
        "*   operador ou\n",
        "*   min()\n",
        "*   max()\n",
        "\n"
      ],
      "metadata": {
        "id": "nLfL1XmTQSsV"
      }
    },
    {
      "cell_type": "markdown",
      "source": [
        "# Etapa1: Importando arquivo e bibliotecas"
      ],
      "metadata": {
        "id": "z7l6A7c1Vk9N"
      }
    },
    {
      "cell_type": "code",
      "source": [
        "import pandas as pd\n"
      ],
      "metadata": {
        "id": "a2qLE__EQU0S"
      },
      "execution_count": 1,
      "outputs": []
    },
    {
      "cell_type": "code",
      "execution_count": 2,
      "metadata": {
        "id": "Fx4VYCUbLvaU"
      },
      "outputs": [],
      "source": [
        "df = pd.read_csv(\"/content/vd1_dadosClimaticos.csv\")"
      ]
    },
    {
      "cell_type": "markdown",
      "source": [
        "# Etapa2: Conhecendo os dados"
      ],
      "metadata": {
        "id": "sxGG1pSbVefO"
      }
    },
    {
      "cell_type": "markdown",
      "source": [
        "Metadados sobre o arquivo"
      ],
      "metadata": {
        "id": "ke14lrnrZWSu"
      }
    },
    {
      "cell_type": "code",
      "source": [
        "df.info()"
      ],
      "metadata": {
        "colab": {
          "base_uri": "https://localhost:8080/"
        },
        "id": "EEY3Nrq8ZOdz",
        "outputId": "4c470404-3606-416c-e9d8-7ee38d71b6e6"
      },
      "execution_count": 3,
      "outputs": [
        {
          "output_type": "stream",
          "name": "stdout",
          "text": [
            "<class 'pandas.core.frame.DataFrame'>\n",
            "RangeIndex: 8784 entries, 0 to 8783\n",
            "Data columns (total 8 columns):\n",
            " #   Column            Non-Null Count  Dtype  \n",
            "---  ------            --------------  -----  \n",
            " 0   Date/Time         8784 non-null   object \n",
            " 1   Temp_C            8784 non-null   float64\n",
            " 2   Dew Point Temp_C  8784 non-null   float64\n",
            " 3   Rel Hum_%         8784 non-null   int64  \n",
            " 4   Wind Speed_km/h   8784 non-null   int64  \n",
            " 5   Visibility_km     8784 non-null   float64\n",
            " 6   Press_kPa         8784 non-null   float64\n",
            " 7   Weather           8784 non-null   object \n",
            "dtypes: float64(4), int64(2), object(2)\n",
            "memory usage: 549.1+ KB\n"
          ]
        }
      ]
    },
    {
      "cell_type": "code",
      "source": [
        "df.head()"
      ],
      "metadata": {
        "colab": {
          "base_uri": "https://localhost:8080/",
          "height": 310
        },
        "id": "uve2J5AvWg4N",
        "outputId": "242a9d3a-4ad6-47a2-f334-a080287286c5"
      },
      "execution_count": 4,
      "outputs": [
        {
          "output_type": "execute_result",
          "data": {
            "text/html": [
              "<div>\n",
              "<style scoped>\n",
              "    .dataframe tbody tr th:only-of-type {\n",
              "        vertical-align: middle;\n",
              "    }\n",
              "\n",
              "    .dataframe tbody tr th {\n",
              "        vertical-align: top;\n",
              "    }\n",
              "\n",
              "    .dataframe thead th {\n",
              "        text-align: right;\n",
              "    }\n",
              "</style>\n",
              "<table border=\"1\" class=\"dataframe\">\n",
              "  <thead>\n",
              "    <tr style=\"text-align: right;\">\n",
              "      <th></th>\n",
              "      <th>Date/Time</th>\n",
              "      <th>Temp_C</th>\n",
              "      <th>Dew Point Temp_C</th>\n",
              "      <th>Rel Hum_%</th>\n",
              "      <th>Wind Speed_km/h</th>\n",
              "      <th>Visibility_km</th>\n",
              "      <th>Press_kPa</th>\n",
              "      <th>Weather</th>\n",
              "    </tr>\n",
              "  </thead>\n",
              "  <tbody>\n",
              "    <tr>\n",
              "      <th>0</th>\n",
              "      <td>1/1/2012 0:00</td>\n",
              "      <td>-1.8</td>\n",
              "      <td>-3.9</td>\n",
              "      <td>86</td>\n",
              "      <td>4</td>\n",
              "      <td>8.0</td>\n",
              "      <td>101.24</td>\n",
              "      <td>Fog</td>\n",
              "    </tr>\n",
              "    <tr>\n",
              "      <th>1</th>\n",
              "      <td>1/1/2012 1:00</td>\n",
              "      <td>-1.8</td>\n",
              "      <td>-3.7</td>\n",
              "      <td>87</td>\n",
              "      <td>4</td>\n",
              "      <td>8.0</td>\n",
              "      <td>101.24</td>\n",
              "      <td>Fog</td>\n",
              "    </tr>\n",
              "    <tr>\n",
              "      <th>2</th>\n",
              "      <td>1/1/2012 2:00</td>\n",
              "      <td>-1.8</td>\n",
              "      <td>-3.4</td>\n",
              "      <td>89</td>\n",
              "      <td>7</td>\n",
              "      <td>4.0</td>\n",
              "      <td>101.26</td>\n",
              "      <td>Freezing Drizzle,Fog</td>\n",
              "    </tr>\n",
              "    <tr>\n",
              "      <th>3</th>\n",
              "      <td>1/1/2012 3:00</td>\n",
              "      <td>-1.5</td>\n",
              "      <td>-3.2</td>\n",
              "      <td>88</td>\n",
              "      <td>6</td>\n",
              "      <td>4.0</td>\n",
              "      <td>101.27</td>\n",
              "      <td>Freezing Drizzle,Fog</td>\n",
              "    </tr>\n",
              "    <tr>\n",
              "      <th>4</th>\n",
              "      <td>1/1/2012 4:00</td>\n",
              "      <td>-1.5</td>\n",
              "      <td>-3.3</td>\n",
              "      <td>88</td>\n",
              "      <td>7</td>\n",
              "      <td>4.8</td>\n",
              "      <td>101.23</td>\n",
              "      <td>Fog</td>\n",
              "    </tr>\n",
              "  </tbody>\n",
              "</table>\n",
              "</div>"
            ],
            "text/plain": [
              "       Date/Time  Temp_C  ...  Press_kPa               Weather\n",
              "0  1/1/2012 0:00    -1.8  ...     101.24                   Fog\n",
              "1  1/1/2012 1:00    -1.8  ...     101.24                   Fog\n",
              "2  1/1/2012 2:00    -1.8  ...     101.26  Freezing Drizzle,Fog\n",
              "3  1/1/2012 3:00    -1.5  ...     101.27  Freezing Drizzle,Fog\n",
              "4  1/1/2012 4:00    -1.5  ...     101.23                   Fog\n",
              "\n",
              "[5 rows x 8 columns]"
            ]
          },
          "metadata": {},
          "execution_count": 4
        }
      ]
    },
    {
      "cell_type": "code",
      "source": [
        "df.shape\n",
        "#(linhas, colunas)"
      ],
      "metadata": {
        "colab": {
          "base_uri": "https://localhost:8080/"
        },
        "id": "U_cJfwt3W2lI",
        "outputId": "0ba3edff-6773-4d9b-9df7-ed97930f5ec1"
      },
      "execution_count": 5,
      "outputs": [
        {
          "output_type": "execute_result",
          "data": {
            "text/plain": [
              "(8784, 8)"
            ]
          },
          "metadata": {},
          "execution_count": 5
        }
      ]
    },
    {
      "cell_type": "code",
      "source": [
        "df.dtypes"
      ],
      "metadata": {
        "colab": {
          "base_uri": "https://localhost:8080/"
        },
        "id": "75O2NYroWzty",
        "outputId": "394a488c-5f59-4e08-f569-c2656329c7e8"
      },
      "execution_count": 6,
      "outputs": [
        {
          "output_type": "execute_result",
          "data": {
            "text/plain": [
              "Date/Time            object\n",
              "Temp_C              float64\n",
              "Dew Point Temp_C    float64\n",
              "Rel Hum_%             int64\n",
              "Wind Speed_km/h       int64\n",
              "Visibility_km       float64\n",
              "Press_kPa           float64\n",
              "Weather              object\n",
              "dtype: object"
            ]
          },
          "metadata": {},
          "execution_count": 6
        }
      ]
    },
    {
      "cell_type": "code",
      "source": [
        "df.columns"
      ],
      "metadata": {
        "colab": {
          "base_uri": "https://localhost:8080/"
        },
        "id": "szfYi5_2VuTy",
        "outputId": "e691c0e9-f2ab-4089-c3f9-e3d168811a87"
      },
      "execution_count": 7,
      "outputs": [
        {
          "output_type": "execute_result",
          "data": {
            "text/plain": [
              "Index(['Date/Time', 'Temp_C', 'Dew Point Temp_C', 'Rel Hum_%',\n",
              "       'Wind Speed_km/h', 'Visibility_km', 'Press_kPa', 'Weather'],\n",
              "      dtype='object')"
            ]
          },
          "metadata": {},
          "execution_count": 7
        }
      ]
    },
    {
      "cell_type": "code",
      "source": [
        "df.count()"
      ],
      "metadata": {
        "colab": {
          "base_uri": "https://localhost:8080/"
        },
        "id": "3J22xpw0YTjS",
        "outputId": "c8cb57f4-3dc8-407e-fed7-6e507fbc32a2"
      },
      "execution_count": 8,
      "outputs": [
        {
          "output_type": "execute_result",
          "data": {
            "text/plain": [
              "Date/Time           8784\n",
              "Temp_C              8784\n",
              "Dew Point Temp_C    8784\n",
              "Rel Hum_%           8784\n",
              "Wind Speed_km/h     8784\n",
              "Visibility_km       8784\n",
              "Press_kPa           8784\n",
              "Weather             8784\n",
              "dtype: int64"
            ]
          },
          "metadata": {},
          "execution_count": 8
        }
      ]
    },
    {
      "cell_type": "code",
      "source": [
        "df['Weather'].unique()\n",
        "#retorna os valores da coluna 'Weather' apresentando os dados de forma única"
      ],
      "metadata": {
        "colab": {
          "base_uri": "https://localhost:8080/"
        },
        "id": "A7ZnmwXNXZ3S",
        "outputId": "dcc8dd4f-2b05-4985-82eb-30f39570ca91"
      },
      "execution_count": 9,
      "outputs": [
        {
          "output_type": "execute_result",
          "data": {
            "text/plain": [
              "array(['Fog', 'Freezing Drizzle,Fog', 'Mostly Cloudy', 'Cloudy', 'Rain',\n",
              "       'Rain Showers', 'Mainly Clear', 'Snow Showers', 'Snow', 'Clear',\n",
              "       'Freezing Rain,Fog', 'Freezing Rain', 'Freezing Drizzle',\n",
              "       'Rain,Snow', 'Moderate Snow', 'Freezing Drizzle,Snow',\n",
              "       'Freezing Rain,Snow Grains', 'Snow,Blowing Snow', 'Freezing Fog',\n",
              "       'Haze', 'Rain,Fog', 'Drizzle,Fog', 'Drizzle',\n",
              "       'Freezing Drizzle,Haze', 'Freezing Rain,Haze', 'Snow,Haze',\n",
              "       'Snow,Fog', 'Snow,Ice Pellets', 'Rain,Haze', 'Thunderstorms,Rain',\n",
              "       'Thunderstorms,Rain Showers', 'Thunderstorms,Heavy Rain Showers',\n",
              "       'Thunderstorms,Rain Showers,Fog', 'Thunderstorms',\n",
              "       'Thunderstorms,Rain,Fog',\n",
              "       'Thunderstorms,Moderate Rain Showers,Fog', 'Rain Showers,Fog',\n",
              "       'Rain Showers,Snow Showers', 'Snow Pellets', 'Rain,Snow,Fog',\n",
              "       'Moderate Rain,Fog', 'Freezing Rain,Ice Pellets,Fog',\n",
              "       'Drizzle,Ice Pellets,Fog', 'Drizzle,Snow', 'Rain,Ice Pellets',\n",
              "       'Drizzle,Snow,Fog', 'Rain,Snow Grains', 'Rain,Snow,Ice Pellets',\n",
              "       'Snow Showers,Fog', 'Moderate Snow,Blowing Snow'], dtype=object)"
            ]
          },
          "metadata": {},
          "execution_count": 9
        }
      ]
    },
    {
      "cell_type": "code",
      "source": [
        "df.nunique()\n",
        "df['Visibility_km'].nunique()\n",
        "#apresenta a soma de valores do conjunto de dados/ coluna, agrupando os mesmos através de valores únicos"
      ],
      "metadata": {
        "colab": {
          "base_uri": "https://localhost:8080/"
        },
        "id": "-lSnW_s4Xzlj",
        "outputId": "489a3aa0-7485-45e2-bdd1-6c3388347ccd"
      },
      "execution_count": 10,
      "outputs": [
        {
          "output_type": "execute_result",
          "data": {
            "text/plain": [
              "24"
            ]
          },
          "metadata": {},
          "execution_count": 10
        }
      ]
    },
    {
      "cell_type": "code",
      "source": [
        "df['Weather'].value_counts()\n",
        "#apresenta a soma de valores de uma coluna que correspondem ao grupo de valor único"
      ],
      "metadata": {
        "colab": {
          "base_uri": "https://localhost:8080/"
        },
        "id": "sah8ow87YsD-",
        "outputId": "87cc07f3-7b9b-4eb6-fae0-4320c24bddf9"
      },
      "execution_count": 11,
      "outputs": [
        {
          "output_type": "execute_result",
          "data": {
            "text/plain": [
              "Mainly Clear                               2106\n",
              "Mostly Cloudy                              2069\n",
              "Cloudy                                     1728\n",
              "Clear                                      1326\n",
              "Snow                                        390\n",
              "Rain                                        306\n",
              "Rain Showers                                188\n",
              "Fog                                         150\n",
              "Rain,Fog                                    116\n",
              "Drizzle,Fog                                  80\n",
              "Snow Showers                                 60\n",
              "Drizzle                                      41\n",
              "Snow,Fog                                     37\n",
              "Snow,Blowing Snow                            19\n",
              "Rain,Snow                                    18\n",
              "Haze                                         16\n",
              "Thunderstorms,Rain Showers                   16\n",
              "Drizzle,Snow,Fog                             15\n",
              "Freezing Rain                                14\n",
              "Freezing Drizzle,Snow                        11\n",
              "Freezing Drizzle                              7\n",
              "Snow,Ice Pellets                              6\n",
              "Freezing Drizzle,Fog                          6\n",
              "Snow,Haze                                     5\n",
              "Moderate Snow                                 4\n",
              "Snow Showers,Fog                              4\n",
              "Freezing Rain,Fog                             4\n",
              "Freezing Fog                                  4\n",
              "Rain,Snow,Ice Pellets                         4\n",
              "Freezing Drizzle,Haze                         3\n",
              "Rain,Haze                                     3\n",
              "Thunderstorms,Rain Showers,Fog                3\n",
              "Thunderstorms,Rain                            3\n",
              "Drizzle,Snow                                  2\n",
              "Rain Showers,Snow Showers                     2\n",
              "Freezing Rain,Haze                            2\n",
              "Thunderstorms                                 2\n",
              "Moderate Snow,Blowing Snow                    2\n",
              "Freezing Rain,Ice Pellets,Fog                 1\n",
              "Snow Pellets                                  1\n",
              "Rain,Ice Pellets                              1\n",
              "Freezing Rain,Snow Grains                     1\n",
              "Thunderstorms,Rain,Fog                        1\n",
              "Thunderstorms,Moderate Rain Showers,Fog       1\n",
              "Rain,Snow,Fog                                 1\n",
              "Moderate Rain,Fog                             1\n",
              "Rain,Snow Grains                              1\n",
              "Rain Showers,Fog                              1\n",
              "Thunderstorms,Heavy Rain Showers              1\n",
              "Drizzle,Ice Pellets,Fog                       1\n",
              "Name: Weather, dtype: int64"
            ]
          },
          "metadata": {},
          "execution_count": 11
        }
      ]
    },
    {
      "cell_type": "code",
      "source": [
        "df.isnull().sum()"
      ],
      "metadata": {
        "colab": {
          "base_uri": "https://localhost:8080/"
        },
        "id": "_461NNRNeeST",
        "outputId": "42c333f4-1cc8-4271-8f09-72096ad5020e"
      },
      "execution_count": 12,
      "outputs": [
        {
          "output_type": "execute_result",
          "data": {
            "text/plain": [
              "Date/Time           0\n",
              "Temp_C              0\n",
              "Dew Point Temp_C    0\n",
              "Rel Hum_%           0\n",
              "Wind Speed_km/h     0\n",
              "Visibility_km       0\n",
              "Press_kPa           0\n",
              "Weather             0\n",
              "dtype: int64"
            ]
          },
          "metadata": {},
          "execution_count": 12
        }
      ]
    },
    {
      "cell_type": "code",
      "source": [
        "df.columns"
      ],
      "metadata": {
        "colab": {
          "base_uri": "https://localhost:8080/"
        },
        "id": "1bAd7cbBety-",
        "outputId": "e03e07be-8e79-4d2b-e2e7-2b51aafe1781"
      },
      "execution_count": 13,
      "outputs": [
        {
          "output_type": "execute_result",
          "data": {
            "text/plain": [
              "Index(['Date/Time', 'Temp_C', 'Dew Point Temp_C', 'Rel Hum_%',\n",
              "       'Wind Speed_km/h', 'Visibility_km', 'Press_kPa', 'Weather'],\n",
              "      dtype='object')"
            ]
          },
          "metadata": {},
          "execution_count": 13
        }
      ]
    },
    {
      "cell_type": "code",
      "source": [
        "df.rename(columns = { \n",
        "    'Date/Time':'dataHora',\n",
        "    'Temp_C':'temperatura', \n",
        "    'Dew Point Temp_C':'tempOrvalho',\n",
        "    'Rel Hum_%':'humidadeRelativa' ,\n",
        "    'Wind Speed_km/h':'velocidadeVento',\n",
        "    'Visibility_km':'visibilidade',\n",
        "    'Press_kPa':'pressao' ,\n",
        "    'Weather':'clima' ,\n",
        "     }, inplace=True)\n",
        "\n",
        "    "
      ],
      "metadata": {
        "id": "rk3g-fONexhc"
      },
      "execution_count": 14,
      "outputs": []
    },
    {
      "cell_type": "code",
      "source": [
        "df.columns"
      ],
      "metadata": {
        "colab": {
          "base_uri": "https://localhost:8080/"
        },
        "id": "GXZJHsH-gFsJ",
        "outputId": "f2a6b2e4-da33-43d3-b144-71f079ebe222"
      },
      "execution_count": 15,
      "outputs": [
        {
          "output_type": "execute_result",
          "data": {
            "text/plain": [
              "Index(['dataHora', 'temperatura', 'tempOrvalho', 'humidadeRelativa',\n",
              "       'velocidadeVento', 'visibilidade', 'pressao', 'clima'],\n",
              "      dtype='object')"
            ]
          },
          "metadata": {},
          "execution_count": 15
        }
      ]
    },
    {
      "cell_type": "markdown",
      "source": [
        "# Etapa3: Respondendo questões sobre os dados"
      ],
      "metadata": {
        "id": "4N_DsxaGZb2_"
      }
    },
    {
      "cell_type": "markdown",
      "source": [
        "# Q1: encontre todos os valores únicos de \"Velocidade do Vento (velocidadeVento)\" nos dados\n"
      ],
      "metadata": {
        "id": "3ItCb8rzS7X4"
      }
    },
    {
      "cell_type": "markdown",
      "source": [
        "\n",
        "\n",
        "\n",
        "\n"
      ],
      "metadata": {
        "id": "dGexKaTpZi9i"
      }
    },
    {
      "cell_type": "code",
      "source": [
        "df.nunique()"
      ],
      "metadata": {
        "colab": {
          "base_uri": "https://localhost:8080/"
        },
        "id": "Nh8eP13iacGP",
        "outputId": "10dfde36-30c1-488a-802f-d8018e98d3b5"
      },
      "execution_count": 16,
      "outputs": [
        {
          "output_type": "execute_result",
          "data": {
            "text/plain": [
              "dataHora            8784\n",
              "temperatura          533\n",
              "tempOrvalho          489\n",
              "humidadeRelativa      83\n",
              "velocidadeVento       34\n",
              "visibilidade          24\n",
              "pressao              518\n",
              "clima                 50\n",
              "dtype: int64"
            ]
          },
          "metadata": {},
          "execution_count": 16
        }
      ]
    },
    {
      "cell_type": "code",
      "source": [
        "df['clima'].nunique()"
      ],
      "metadata": {
        "colab": {
          "base_uri": "https://localhost:8080/"
        },
        "id": "3lwpEvpMapie",
        "outputId": "ee7e9ea5-c74d-44b8-8467-2bfb638a288f"
      },
      "execution_count": 17,
      "outputs": [
        {
          "output_type": "execute_result",
          "data": {
            "text/plain": [
              "50"
            ]
          },
          "metadata": {},
          "execution_count": 17
        }
      ]
    },
    {
      "cell_type": "code",
      "source": [
        "df['clima'].unique()"
      ],
      "metadata": {
        "colab": {
          "base_uri": "https://localhost:8080/"
        },
        "id": "7XrsqWCRahQX",
        "outputId": "3cefb061-02a4-427a-d3fe-5975407a877d"
      },
      "execution_count": 18,
      "outputs": [
        {
          "output_type": "execute_result",
          "data": {
            "text/plain": [
              "array(['Fog', 'Freezing Drizzle,Fog', 'Mostly Cloudy', 'Cloudy', 'Rain',\n",
              "       'Rain Showers', 'Mainly Clear', 'Snow Showers', 'Snow', 'Clear',\n",
              "       'Freezing Rain,Fog', 'Freezing Rain', 'Freezing Drizzle',\n",
              "       'Rain,Snow', 'Moderate Snow', 'Freezing Drizzle,Snow',\n",
              "       'Freezing Rain,Snow Grains', 'Snow,Blowing Snow', 'Freezing Fog',\n",
              "       'Haze', 'Rain,Fog', 'Drizzle,Fog', 'Drizzle',\n",
              "       'Freezing Drizzle,Haze', 'Freezing Rain,Haze', 'Snow,Haze',\n",
              "       'Snow,Fog', 'Snow,Ice Pellets', 'Rain,Haze', 'Thunderstorms,Rain',\n",
              "       'Thunderstorms,Rain Showers', 'Thunderstorms,Heavy Rain Showers',\n",
              "       'Thunderstorms,Rain Showers,Fog', 'Thunderstorms',\n",
              "       'Thunderstorms,Rain,Fog',\n",
              "       'Thunderstorms,Moderate Rain Showers,Fog', 'Rain Showers,Fog',\n",
              "       'Rain Showers,Snow Showers', 'Snow Pellets', 'Rain,Snow,Fog',\n",
              "       'Moderate Rain,Fog', 'Freezing Rain,Ice Pellets,Fog',\n",
              "       'Drizzle,Ice Pellets,Fog', 'Drizzle,Snow', 'Rain,Ice Pellets',\n",
              "       'Drizzle,Snow,Fog', 'Rain,Snow Grains', 'Rain,Snow,Ice Pellets',\n",
              "       'Snow Showers,Fog', 'Moderate Snow,Blowing Snow'], dtype=object)"
            ]
          },
          "metadata": {},
          "execution_count": 18
        }
      ]
    },
    {
      "cell_type": "code",
      "source": [
        "df['velocidadeVento'].value_counts()"
      ],
      "metadata": {
        "colab": {
          "base_uri": "https://localhost:8080/"
        },
        "id": "iyYgsB-WaBEW",
        "outputId": "0f0c4239-68fe-4b45-d778-ebaf5acd01e8"
      },
      "execution_count": 19,
      "outputs": [
        {
          "output_type": "execute_result",
          "data": {
            "text/plain": [
              "9     830\n",
              "11    791\n",
              "13    735\n",
              "15    719\n",
              "7     677\n",
              "17    666\n",
              "19    616\n",
              "6     609\n",
              "20    496\n",
              "4     474\n",
              "22    439\n",
              "24    374\n",
              "0     309\n",
              "26    242\n",
              "28    205\n",
              "30    161\n",
              "32    139\n",
              "33     85\n",
              "35     53\n",
              "37     45\n",
              "39     24\n",
              "41     22\n",
              "44     14\n",
              "43     13\n",
              "48     13\n",
              "46     11\n",
              "52      7\n",
              "57      5\n",
              "50      4\n",
              "2       2\n",
              "63      1\n",
              "54      1\n",
              "70      1\n",
              "83      1\n",
              "Name: velocidadeVento, dtype: int64"
            ]
          },
          "metadata": {},
          "execution_count": 19
        }
      ]
    },
    {
      "cell_type": "markdown",
      "source": [
        "# Q2: encontre os registros em que Weather(clima) é igual a Clear"
      ],
      "metadata": {
        "id": "esRoSRVcTXh9"
      }
    },
    {
      "cell_type": "code",
      "source": [
        "df[df['clima']== 'Clear']"
      ],
      "metadata": {
        "colab": {
          "base_uri": "https://localhost:8080/",
          "height": 458
        },
        "id": "hpOzr9-Tc0BH",
        "outputId": "5b467d68-b120-4842-e70c-f70e9b4739b1"
      },
      "execution_count": 20,
      "outputs": [
        {
          "output_type": "execute_result",
          "data": {
            "text/html": [
              "<div>\n",
              "<style scoped>\n",
              "    .dataframe tbody tr th:only-of-type {\n",
              "        vertical-align: middle;\n",
              "    }\n",
              "\n",
              "    .dataframe tbody tr th {\n",
              "        vertical-align: top;\n",
              "    }\n",
              "\n",
              "    .dataframe thead th {\n",
              "        text-align: right;\n",
              "    }\n",
              "</style>\n",
              "<table border=\"1\" class=\"dataframe\">\n",
              "  <thead>\n",
              "    <tr style=\"text-align: right;\">\n",
              "      <th></th>\n",
              "      <th>dataHora</th>\n",
              "      <th>temperatura</th>\n",
              "      <th>tempOrvalho</th>\n",
              "      <th>humidadeRelativa</th>\n",
              "      <th>velocidadeVento</th>\n",
              "      <th>visibilidade</th>\n",
              "      <th>pressao</th>\n",
              "      <th>clima</th>\n",
              "    </tr>\n",
              "  </thead>\n",
              "  <tbody>\n",
              "    <tr>\n",
              "      <th>67</th>\n",
              "      <td>1/3/2012 19:00</td>\n",
              "      <td>-16.9</td>\n",
              "      <td>-24.8</td>\n",
              "      <td>50</td>\n",
              "      <td>24</td>\n",
              "      <td>25.0</td>\n",
              "      <td>101.74</td>\n",
              "      <td>Clear</td>\n",
              "    </tr>\n",
              "    <tr>\n",
              "      <th>114</th>\n",
              "      <td>1/5/2012 18:00</td>\n",
              "      <td>-7.1</td>\n",
              "      <td>-14.4</td>\n",
              "      <td>56</td>\n",
              "      <td>11</td>\n",
              "      <td>25.0</td>\n",
              "      <td>100.71</td>\n",
              "      <td>Clear</td>\n",
              "    </tr>\n",
              "    <tr>\n",
              "      <th>115</th>\n",
              "      <td>1/5/2012 19:00</td>\n",
              "      <td>-9.2</td>\n",
              "      <td>-15.4</td>\n",
              "      <td>61</td>\n",
              "      <td>7</td>\n",
              "      <td>25.0</td>\n",
              "      <td>100.80</td>\n",
              "      <td>Clear</td>\n",
              "    </tr>\n",
              "    <tr>\n",
              "      <th>116</th>\n",
              "      <td>1/5/2012 20:00</td>\n",
              "      <td>-9.8</td>\n",
              "      <td>-15.7</td>\n",
              "      <td>62</td>\n",
              "      <td>9</td>\n",
              "      <td>25.0</td>\n",
              "      <td>100.83</td>\n",
              "      <td>Clear</td>\n",
              "    </tr>\n",
              "    <tr>\n",
              "      <th>117</th>\n",
              "      <td>1/5/2012 21:00</td>\n",
              "      <td>-9.0</td>\n",
              "      <td>-14.8</td>\n",
              "      <td>63</td>\n",
              "      <td>13</td>\n",
              "      <td>25.0</td>\n",
              "      <td>100.83</td>\n",
              "      <td>Clear</td>\n",
              "    </tr>\n",
              "    <tr>\n",
              "      <th>...</th>\n",
              "      <td>...</td>\n",
              "      <td>...</td>\n",
              "      <td>...</td>\n",
              "      <td>...</td>\n",
              "      <td>...</td>\n",
              "      <td>...</td>\n",
              "      <td>...</td>\n",
              "      <td>...</td>\n",
              "    </tr>\n",
              "    <tr>\n",
              "      <th>8646</th>\n",
              "      <td>12/26/2012 6:00</td>\n",
              "      <td>-13.4</td>\n",
              "      <td>-14.8</td>\n",
              "      <td>89</td>\n",
              "      <td>4</td>\n",
              "      <td>25.0</td>\n",
              "      <td>102.47</td>\n",
              "      <td>Clear</td>\n",
              "    </tr>\n",
              "    <tr>\n",
              "      <th>8698</th>\n",
              "      <td>12/28/2012 10:00</td>\n",
              "      <td>-6.1</td>\n",
              "      <td>-8.6</td>\n",
              "      <td>82</td>\n",
              "      <td>19</td>\n",
              "      <td>24.1</td>\n",
              "      <td>101.27</td>\n",
              "      <td>Clear</td>\n",
              "    </tr>\n",
              "    <tr>\n",
              "      <th>8713</th>\n",
              "      <td>12/29/2012 1:00</td>\n",
              "      <td>-11.9</td>\n",
              "      <td>-13.6</td>\n",
              "      <td>87</td>\n",
              "      <td>11</td>\n",
              "      <td>25.0</td>\n",
              "      <td>101.31</td>\n",
              "      <td>Clear</td>\n",
              "    </tr>\n",
              "    <tr>\n",
              "      <th>8714</th>\n",
              "      <td>12/29/2012 2:00</td>\n",
              "      <td>-11.8</td>\n",
              "      <td>-13.1</td>\n",
              "      <td>90</td>\n",
              "      <td>13</td>\n",
              "      <td>25.0</td>\n",
              "      <td>101.33</td>\n",
              "      <td>Clear</td>\n",
              "    </tr>\n",
              "    <tr>\n",
              "      <th>8756</th>\n",
              "      <td>12/30/2012 20:00</td>\n",
              "      <td>-13.8</td>\n",
              "      <td>-16.5</td>\n",
              "      <td>80</td>\n",
              "      <td>24</td>\n",
              "      <td>25.0</td>\n",
              "      <td>101.52</td>\n",
              "      <td>Clear</td>\n",
              "    </tr>\n",
              "  </tbody>\n",
              "</table>\n",
              "<p>1326 rows × 8 columns</p>\n",
              "</div>"
            ],
            "text/plain": [
              "              dataHora  temperatura  tempOrvalho  ...  visibilidade  pressao  clima\n",
              "67      1/3/2012 19:00        -16.9        -24.8  ...          25.0   101.74  Clear\n",
              "114     1/5/2012 18:00         -7.1        -14.4  ...          25.0   100.71  Clear\n",
              "115     1/5/2012 19:00         -9.2        -15.4  ...          25.0   100.80  Clear\n",
              "116     1/5/2012 20:00         -9.8        -15.7  ...          25.0   100.83  Clear\n",
              "117     1/5/2012 21:00         -9.0        -14.8  ...          25.0   100.83  Clear\n",
              "...                ...          ...          ...  ...           ...      ...    ...\n",
              "8646   12/26/2012 6:00        -13.4        -14.8  ...          25.0   102.47  Clear\n",
              "8698  12/28/2012 10:00         -6.1         -8.6  ...          24.1   101.27  Clear\n",
              "8713   12/29/2012 1:00        -11.9        -13.6  ...          25.0   101.31  Clear\n",
              "8714   12/29/2012 2:00        -11.8        -13.1  ...          25.0   101.33  Clear\n",
              "8756  12/30/2012 20:00        -13.8        -16.5  ...          25.0   101.52  Clear\n",
              "\n",
              "[1326 rows x 8 columns]"
            ]
          },
          "metadata": {},
          "execution_count": 20
        }
      ]
    },
    {
      "cell_type": "code",
      "source": [
        "#código equivalente com group by\n",
        "df.groupby('clima').get_group('Clear')"
      ],
      "metadata": {
        "colab": {
          "base_uri": "https://localhost:8080/",
          "height": 458
        },
        "id": "Vg5CqTN0dGZp",
        "outputId": "98a83be9-e7c9-44cd-cbcd-19e8016c0111"
      },
      "execution_count": 21,
      "outputs": [
        {
          "output_type": "execute_result",
          "data": {
            "text/html": [
              "<div>\n",
              "<style scoped>\n",
              "    .dataframe tbody tr th:only-of-type {\n",
              "        vertical-align: middle;\n",
              "    }\n",
              "\n",
              "    .dataframe tbody tr th {\n",
              "        vertical-align: top;\n",
              "    }\n",
              "\n",
              "    .dataframe thead th {\n",
              "        text-align: right;\n",
              "    }\n",
              "</style>\n",
              "<table border=\"1\" class=\"dataframe\">\n",
              "  <thead>\n",
              "    <tr style=\"text-align: right;\">\n",
              "      <th></th>\n",
              "      <th>dataHora</th>\n",
              "      <th>temperatura</th>\n",
              "      <th>tempOrvalho</th>\n",
              "      <th>humidadeRelativa</th>\n",
              "      <th>velocidadeVento</th>\n",
              "      <th>visibilidade</th>\n",
              "      <th>pressao</th>\n",
              "      <th>clima</th>\n",
              "    </tr>\n",
              "  </thead>\n",
              "  <tbody>\n",
              "    <tr>\n",
              "      <th>67</th>\n",
              "      <td>1/3/2012 19:00</td>\n",
              "      <td>-16.9</td>\n",
              "      <td>-24.8</td>\n",
              "      <td>50</td>\n",
              "      <td>24</td>\n",
              "      <td>25.0</td>\n",
              "      <td>101.74</td>\n",
              "      <td>Clear</td>\n",
              "    </tr>\n",
              "    <tr>\n",
              "      <th>114</th>\n",
              "      <td>1/5/2012 18:00</td>\n",
              "      <td>-7.1</td>\n",
              "      <td>-14.4</td>\n",
              "      <td>56</td>\n",
              "      <td>11</td>\n",
              "      <td>25.0</td>\n",
              "      <td>100.71</td>\n",
              "      <td>Clear</td>\n",
              "    </tr>\n",
              "    <tr>\n",
              "      <th>115</th>\n",
              "      <td>1/5/2012 19:00</td>\n",
              "      <td>-9.2</td>\n",
              "      <td>-15.4</td>\n",
              "      <td>61</td>\n",
              "      <td>7</td>\n",
              "      <td>25.0</td>\n",
              "      <td>100.80</td>\n",
              "      <td>Clear</td>\n",
              "    </tr>\n",
              "    <tr>\n",
              "      <th>116</th>\n",
              "      <td>1/5/2012 20:00</td>\n",
              "      <td>-9.8</td>\n",
              "      <td>-15.7</td>\n",
              "      <td>62</td>\n",
              "      <td>9</td>\n",
              "      <td>25.0</td>\n",
              "      <td>100.83</td>\n",
              "      <td>Clear</td>\n",
              "    </tr>\n",
              "    <tr>\n",
              "      <th>117</th>\n",
              "      <td>1/5/2012 21:00</td>\n",
              "      <td>-9.0</td>\n",
              "      <td>-14.8</td>\n",
              "      <td>63</td>\n",
              "      <td>13</td>\n",
              "      <td>25.0</td>\n",
              "      <td>100.83</td>\n",
              "      <td>Clear</td>\n",
              "    </tr>\n",
              "    <tr>\n",
              "      <th>...</th>\n",
              "      <td>...</td>\n",
              "      <td>...</td>\n",
              "      <td>...</td>\n",
              "      <td>...</td>\n",
              "      <td>...</td>\n",
              "      <td>...</td>\n",
              "      <td>...</td>\n",
              "      <td>...</td>\n",
              "    </tr>\n",
              "    <tr>\n",
              "      <th>8646</th>\n",
              "      <td>12/26/2012 6:00</td>\n",
              "      <td>-13.4</td>\n",
              "      <td>-14.8</td>\n",
              "      <td>89</td>\n",
              "      <td>4</td>\n",
              "      <td>25.0</td>\n",
              "      <td>102.47</td>\n",
              "      <td>Clear</td>\n",
              "    </tr>\n",
              "    <tr>\n",
              "      <th>8698</th>\n",
              "      <td>12/28/2012 10:00</td>\n",
              "      <td>-6.1</td>\n",
              "      <td>-8.6</td>\n",
              "      <td>82</td>\n",
              "      <td>19</td>\n",
              "      <td>24.1</td>\n",
              "      <td>101.27</td>\n",
              "      <td>Clear</td>\n",
              "    </tr>\n",
              "    <tr>\n",
              "      <th>8713</th>\n",
              "      <td>12/29/2012 1:00</td>\n",
              "      <td>-11.9</td>\n",
              "      <td>-13.6</td>\n",
              "      <td>87</td>\n",
              "      <td>11</td>\n",
              "      <td>25.0</td>\n",
              "      <td>101.31</td>\n",
              "      <td>Clear</td>\n",
              "    </tr>\n",
              "    <tr>\n",
              "      <th>8714</th>\n",
              "      <td>12/29/2012 2:00</td>\n",
              "      <td>-11.8</td>\n",
              "      <td>-13.1</td>\n",
              "      <td>90</td>\n",
              "      <td>13</td>\n",
              "      <td>25.0</td>\n",
              "      <td>101.33</td>\n",
              "      <td>Clear</td>\n",
              "    </tr>\n",
              "    <tr>\n",
              "      <th>8756</th>\n",
              "      <td>12/30/2012 20:00</td>\n",
              "      <td>-13.8</td>\n",
              "      <td>-16.5</td>\n",
              "      <td>80</td>\n",
              "      <td>24</td>\n",
              "      <td>25.0</td>\n",
              "      <td>101.52</td>\n",
              "      <td>Clear</td>\n",
              "    </tr>\n",
              "  </tbody>\n",
              "</table>\n",
              "<p>1326 rows × 8 columns</p>\n",
              "</div>"
            ],
            "text/plain": [
              "              dataHora  temperatura  tempOrvalho  ...  visibilidade  pressao  clima\n",
              "67      1/3/2012 19:00        -16.9        -24.8  ...          25.0   101.74  Clear\n",
              "114     1/5/2012 18:00         -7.1        -14.4  ...          25.0   100.71  Clear\n",
              "115     1/5/2012 19:00         -9.2        -15.4  ...          25.0   100.80  Clear\n",
              "116     1/5/2012 20:00         -9.8        -15.7  ...          25.0   100.83  Clear\n",
              "117     1/5/2012 21:00         -9.0        -14.8  ...          25.0   100.83  Clear\n",
              "...                ...          ...          ...  ...           ...      ...    ...\n",
              "8646   12/26/2012 6:00        -13.4        -14.8  ...          25.0   102.47  Clear\n",
              "8698  12/28/2012 10:00         -6.1         -8.6  ...          24.1   101.27  Clear\n",
              "8713   12/29/2012 1:00        -11.9        -13.6  ...          25.0   101.31  Clear\n",
              "8714   12/29/2012 2:00        -11.8        -13.1  ...          25.0   101.33  Clear\n",
              "8756  12/30/2012 20:00        -13.8        -16.5  ...          25.0   101.52  Clear\n",
              "\n",
              "[1326 rows x 8 columns]"
            ]
          },
          "metadata": {},
          "execution_count": 21
        }
      ]
    },
    {
      "cell_type": "markdown",
      "source": [
        "# Q3: encontre o número de vezes em que 'Wind speed (velocidade vento)' é igual a 4"
      ],
      "metadata": {
        "id": "RJIh-rsRTRK8"
      }
    },
    {
      "cell_type": "code",
      "source": [
        "df[df['velocidadeVento'] ==4]"
      ],
      "metadata": {
        "colab": {
          "base_uri": "https://localhost:8080/",
          "height": 597
        },
        "id": "L_zudE7UdoJW",
        "outputId": "9975bbfa-4bd9-4e69-eb01-37230a14c7ad"
      },
      "execution_count": 22,
      "outputs": [
        {
          "output_type": "execute_result",
          "data": {
            "text/html": [
              "<div>\n",
              "<style scoped>\n",
              "    .dataframe tbody tr th:only-of-type {\n",
              "        vertical-align: middle;\n",
              "    }\n",
              "\n",
              "    .dataframe tbody tr th {\n",
              "        vertical-align: top;\n",
              "    }\n",
              "\n",
              "    .dataframe thead th {\n",
              "        text-align: right;\n",
              "    }\n",
              "</style>\n",
              "<table border=\"1\" class=\"dataframe\">\n",
              "  <thead>\n",
              "    <tr style=\"text-align: right;\">\n",
              "      <th></th>\n",
              "      <th>dataHora</th>\n",
              "      <th>temperatura</th>\n",
              "      <th>tempOrvalho</th>\n",
              "      <th>humidadeRelativa</th>\n",
              "      <th>velocidadeVento</th>\n",
              "      <th>visibilidade</th>\n",
              "      <th>pressao</th>\n",
              "      <th>clima</th>\n",
              "    </tr>\n",
              "  </thead>\n",
              "  <tbody>\n",
              "    <tr>\n",
              "      <th>0</th>\n",
              "      <td>1/1/2012 0:00</td>\n",
              "      <td>-1.8</td>\n",
              "      <td>-3.9</td>\n",
              "      <td>86</td>\n",
              "      <td>4</td>\n",
              "      <td>8.0</td>\n",
              "      <td>101.24</td>\n",
              "      <td>Fog</td>\n",
              "    </tr>\n",
              "    <tr>\n",
              "      <th>1</th>\n",
              "      <td>1/1/2012 1:00</td>\n",
              "      <td>-1.8</td>\n",
              "      <td>-3.7</td>\n",
              "      <td>87</td>\n",
              "      <td>4</td>\n",
              "      <td>8.0</td>\n",
              "      <td>101.24</td>\n",
              "      <td>Fog</td>\n",
              "    </tr>\n",
              "    <tr>\n",
              "      <th>96</th>\n",
              "      <td>1/5/2012 0:00</td>\n",
              "      <td>-8.8</td>\n",
              "      <td>-11.7</td>\n",
              "      <td>79</td>\n",
              "      <td>4</td>\n",
              "      <td>9.7</td>\n",
              "      <td>100.32</td>\n",
              "      <td>Snow</td>\n",
              "    </tr>\n",
              "    <tr>\n",
              "      <th>101</th>\n",
              "      <td>1/5/2012 5:00</td>\n",
              "      <td>-7.0</td>\n",
              "      <td>-9.5</td>\n",
              "      <td>82</td>\n",
              "      <td>4</td>\n",
              "      <td>4.0</td>\n",
              "      <td>100.19</td>\n",
              "      <td>Snow</td>\n",
              "    </tr>\n",
              "    <tr>\n",
              "      <th>146</th>\n",
              "      <td>1/7/2012 2:00</td>\n",
              "      <td>-8.1</td>\n",
              "      <td>-11.1</td>\n",
              "      <td>79</td>\n",
              "      <td>4</td>\n",
              "      <td>19.3</td>\n",
              "      <td>100.15</td>\n",
              "      <td>Cloudy</td>\n",
              "    </tr>\n",
              "    <tr>\n",
              "      <th>...</th>\n",
              "      <td>...</td>\n",
              "      <td>...</td>\n",
              "      <td>...</td>\n",
              "      <td>...</td>\n",
              "      <td>...</td>\n",
              "      <td>...</td>\n",
              "      <td>...</td>\n",
              "      <td>...</td>\n",
              "    </tr>\n",
              "    <tr>\n",
              "      <th>8768</th>\n",
              "      <td>12/31/2012 8:00</td>\n",
              "      <td>-8.6</td>\n",
              "      <td>-10.3</td>\n",
              "      <td>87</td>\n",
              "      <td>4</td>\n",
              "      <td>3.2</td>\n",
              "      <td>101.14</td>\n",
              "      <td>Snow Showers</td>\n",
              "    </tr>\n",
              "    <tr>\n",
              "      <th>8769</th>\n",
              "      <td>12/31/2012 9:00</td>\n",
              "      <td>-8.1</td>\n",
              "      <td>-9.6</td>\n",
              "      <td>89</td>\n",
              "      <td>4</td>\n",
              "      <td>2.4</td>\n",
              "      <td>101.09</td>\n",
              "      <td>Snow</td>\n",
              "    </tr>\n",
              "    <tr>\n",
              "      <th>8770</th>\n",
              "      <td>12/31/2012 10:00</td>\n",
              "      <td>-7.4</td>\n",
              "      <td>-8.9</td>\n",
              "      <td>89</td>\n",
              "      <td>4</td>\n",
              "      <td>6.4</td>\n",
              "      <td>101.05</td>\n",
              "      <td>Snow,Fog</td>\n",
              "    </tr>\n",
              "    <tr>\n",
              "      <th>8772</th>\n",
              "      <td>12/31/2012 12:00</td>\n",
              "      <td>-5.8</td>\n",
              "      <td>-7.5</td>\n",
              "      <td>88</td>\n",
              "      <td>4</td>\n",
              "      <td>12.9</td>\n",
              "      <td>100.78</td>\n",
              "      <td>Snow</td>\n",
              "    </tr>\n",
              "    <tr>\n",
              "      <th>8773</th>\n",
              "      <td>12/31/2012 13:00</td>\n",
              "      <td>-4.6</td>\n",
              "      <td>-6.6</td>\n",
              "      <td>86</td>\n",
              "      <td>4</td>\n",
              "      <td>12.9</td>\n",
              "      <td>100.63</td>\n",
              "      <td>Snow</td>\n",
              "    </tr>\n",
              "  </tbody>\n",
              "</table>\n",
              "<p>474 rows × 8 columns</p>\n",
              "</div>"
            ],
            "text/plain": [
              "              dataHora  temperatura  ...  pressao         clima\n",
              "0        1/1/2012 0:00         -1.8  ...   101.24           Fog\n",
              "1        1/1/2012 1:00         -1.8  ...   101.24           Fog\n",
              "96       1/5/2012 0:00         -8.8  ...   100.32          Snow\n",
              "101      1/5/2012 5:00         -7.0  ...   100.19          Snow\n",
              "146      1/7/2012 2:00         -8.1  ...   100.15        Cloudy\n",
              "...                ...          ...  ...      ...           ...\n",
              "8768   12/31/2012 8:00         -8.6  ...   101.14  Snow Showers\n",
              "8769   12/31/2012 9:00         -8.1  ...   101.09          Snow\n",
              "8770  12/31/2012 10:00         -7.4  ...   101.05      Snow,Fog\n",
              "8772  12/31/2012 12:00         -5.8  ...   100.78          Snow\n",
              "8773  12/31/2012 13:00         -4.6  ...   100.63          Snow\n",
              "\n",
              "[474 rows x 8 columns]"
            ]
          },
          "metadata": {},
          "execution_count": 22
        }
      ]
    },
    {
      "cell_type": "markdown",
      "source": [
        "# Q4: qual a média da \"visibilidade\"?\n",
        "\n"
      ],
      "metadata": {
        "id": "v_mcDrtsTdGT"
      }
    },
    {
      "cell_type": "markdown",
      "source": [
        "*   IMPORTANTE: não devemos tomar decisões apenas com base na média. É importante considerar o desvio padrão dos dados. Dados com menor desvio padrão, podem representar menor chance de risco, visto que os valores oscilam menos entre si."
      ],
      "metadata": {
        "id": "cNdE35xaThuB"
      }
    },
    {
      "cell_type": "code",
      "source": [
        "df['visibilidade'].mean()"
      ],
      "metadata": {
        "colab": {
          "base_uri": "https://localhost:8080/"
        },
        "id": "-AfWnJbFhtlq",
        "outputId": "89b117c6-5f5b-4eaa-95bf-d31df73626d5"
      },
      "execution_count": 23,
      "outputs": [
        {
          "output_type": "execute_result",
          "data": {
            "text/plain": [
              "27.66444672131151"
            ]
          },
          "metadata": {},
          "execution_count": 23
        }
      ]
    },
    {
      "cell_type": "markdown",
      "source": [
        "# Q5: qual o desvio padrão da \"humidadeRelativa\" nesses dados?\n"
      ],
      "metadata": {
        "id": "7wZTINzmTllC"
      }
    },
    {
      "cell_type": "markdown",
      "source": [
        "*  IMPORTANTE: o desvio padrão é a raiz quadrada da variância. Na variância elevamos os valores ao quadrado (o que distorce a unidade amostral). Para que possamos comparar dados na unidade amostral inicial deve-se realizar o cálculo do desvio padrão.*"
      ],
      "metadata": {
        "id": "IKjEQlaeTqyP"
      }
    },
    {
      "cell_type": "code",
      "source": [
        "df['humidadeRelativa'].std()"
      ],
      "metadata": {
        "colab": {
          "base_uri": "https://localhost:8080/"
        },
        "id": "eu922ik5iKpQ",
        "outputId": "13ab1fed-b88f-425e-a15e-e2c3071ca595"
      },
      "execution_count": 24,
      "outputs": [
        {
          "output_type": "execute_result",
          "data": {
            "text/plain": [
              "16.918881470076556"
            ]
          },
          "metadata": {},
          "execution_count": 24
        }
      ]
    },
    {
      "cell_type": "markdown",
      "source": [
        "# Q6: qual a variância da humidade relativa"
      ],
      "metadata": {
        "id": "zgNYuYFxTsNf"
      }
    },
    {
      "cell_type": "markdown",
      "source": [
        "\n",
        "*   Importante: lembre-se que a unidade final da variância é a únidade mensurada elevada ao quadrado. Logo, é intererssante calcular o desvio padrão(raiz quadrada da variância) para a realização das análises.\n",
        "\n",
        "\n",
        "\n",
        "\n"
      ],
      "metadata": {
        "id": "k7hERJZ4g55Q"
      }
    },
    {
      "cell_type": "code",
      "source": [
        "df['humidadeRelativa'].var()"
      ],
      "metadata": {
        "colab": {
          "base_uri": "https://localhost:8080/"
        },
        "id": "Cxqlz6tEgpNR",
        "outputId": "3fa05cd9-a5e2-42fd-cd9c-fcf2a8220bcb"
      },
      "execution_count": 25,
      "outputs": [
        {
          "output_type": "execute_result",
          "data": {
            "text/plain": [
              "286.2485501984998"
            ]
          },
          "metadata": {},
          "execution_count": 25
        }
      ]
    },
    {
      "cell_type": "markdown",
      "source": [
        "# Q7: encontre todas as instâncias onde 'Snow' é registrado"
      ],
      "metadata": {
        "id": "9TXXszLKTxIQ"
      }
    },
    {
      "cell_type": "code",
      "source": [
        "#retorna apenas tuplas com o registro 'snow'\n",
        "df[df['clima']== 'Snow']\n"
      ],
      "metadata": {
        "colab": {
          "base_uri": "https://localhost:8080/",
          "height": 511
        },
        "id": "hhrn2IHleNTp",
        "outputId": "c3f1c302-b366-47a1-d8cd-ef17d17355f8"
      },
      "execution_count": 26,
      "outputs": [
        {
          "output_type": "execute_result",
          "data": {
            "text/html": [
              "<div>\n",
              "<style scoped>\n",
              "    .dataframe tbody tr th:only-of-type {\n",
              "        vertical-align: middle;\n",
              "    }\n",
              "\n",
              "    .dataframe tbody tr th {\n",
              "        vertical-align: top;\n",
              "    }\n",
              "\n",
              "    .dataframe thead th {\n",
              "        text-align: right;\n",
              "    }\n",
              "</style>\n",
              "<table border=\"1\" class=\"dataframe\">\n",
              "  <thead>\n",
              "    <tr style=\"text-align: right;\">\n",
              "      <th></th>\n",
              "      <th>dataHora</th>\n",
              "      <th>temperatura</th>\n",
              "      <th>tempOrvalho</th>\n",
              "      <th>humidadeRelativa</th>\n",
              "      <th>velocidadeVento</th>\n",
              "      <th>visibilidade</th>\n",
              "      <th>pressao</th>\n",
              "      <th>clima</th>\n",
              "    </tr>\n",
              "  </thead>\n",
              "  <tbody>\n",
              "    <tr>\n",
              "      <th>55</th>\n",
              "      <td>1/3/2012 7:00</td>\n",
              "      <td>-14.0</td>\n",
              "      <td>-19.5</td>\n",
              "      <td>63</td>\n",
              "      <td>19</td>\n",
              "      <td>25.0</td>\n",
              "      <td>100.95</td>\n",
              "      <td>Snow</td>\n",
              "    </tr>\n",
              "    <tr>\n",
              "      <th>84</th>\n",
              "      <td>1/4/2012 12:00</td>\n",
              "      <td>-13.7</td>\n",
              "      <td>-21.7</td>\n",
              "      <td>51</td>\n",
              "      <td>11</td>\n",
              "      <td>24.1</td>\n",
              "      <td>101.25</td>\n",
              "      <td>Snow</td>\n",
              "    </tr>\n",
              "    <tr>\n",
              "      <th>86</th>\n",
              "      <td>1/4/2012 14:00</td>\n",
              "      <td>-11.3</td>\n",
              "      <td>-19.0</td>\n",
              "      <td>53</td>\n",
              "      <td>7</td>\n",
              "      <td>19.3</td>\n",
              "      <td>100.97</td>\n",
              "      <td>Snow</td>\n",
              "    </tr>\n",
              "    <tr>\n",
              "      <th>87</th>\n",
              "      <td>1/4/2012 15:00</td>\n",
              "      <td>-10.2</td>\n",
              "      <td>-16.3</td>\n",
              "      <td>61</td>\n",
              "      <td>11</td>\n",
              "      <td>9.7</td>\n",
              "      <td>100.89</td>\n",
              "      <td>Snow</td>\n",
              "    </tr>\n",
              "    <tr>\n",
              "      <th>88</th>\n",
              "      <td>1/4/2012 16:00</td>\n",
              "      <td>-9.4</td>\n",
              "      <td>-15.5</td>\n",
              "      <td>61</td>\n",
              "      <td>13</td>\n",
              "      <td>19.3</td>\n",
              "      <td>100.79</td>\n",
              "      <td>Snow</td>\n",
              "    </tr>\n",
              "    <tr>\n",
              "      <th>...</th>\n",
              "      <td>...</td>\n",
              "      <td>...</td>\n",
              "      <td>...</td>\n",
              "      <td>...</td>\n",
              "      <td>...</td>\n",
              "      <td>...</td>\n",
              "      <td>...</td>\n",
              "      <td>...</td>\n",
              "    </tr>\n",
              "    <tr>\n",
              "      <th>8779</th>\n",
              "      <td>12/31/2012 19:00</td>\n",
              "      <td>0.1</td>\n",
              "      <td>-2.7</td>\n",
              "      <td>81</td>\n",
              "      <td>30</td>\n",
              "      <td>9.7</td>\n",
              "      <td>100.13</td>\n",
              "      <td>Snow</td>\n",
              "    </tr>\n",
              "    <tr>\n",
              "      <th>8780</th>\n",
              "      <td>12/31/2012 20:00</td>\n",
              "      <td>0.2</td>\n",
              "      <td>-2.4</td>\n",
              "      <td>83</td>\n",
              "      <td>24</td>\n",
              "      <td>9.7</td>\n",
              "      <td>100.03</td>\n",
              "      <td>Snow</td>\n",
              "    </tr>\n",
              "    <tr>\n",
              "      <th>8781</th>\n",
              "      <td>12/31/2012 21:00</td>\n",
              "      <td>-0.5</td>\n",
              "      <td>-1.5</td>\n",
              "      <td>93</td>\n",
              "      <td>28</td>\n",
              "      <td>4.8</td>\n",
              "      <td>99.95</td>\n",
              "      <td>Snow</td>\n",
              "    </tr>\n",
              "    <tr>\n",
              "      <th>8782</th>\n",
              "      <td>12/31/2012 22:00</td>\n",
              "      <td>-0.2</td>\n",
              "      <td>-1.8</td>\n",
              "      <td>89</td>\n",
              "      <td>28</td>\n",
              "      <td>9.7</td>\n",
              "      <td>99.91</td>\n",
              "      <td>Snow</td>\n",
              "    </tr>\n",
              "    <tr>\n",
              "      <th>8783</th>\n",
              "      <td>12/31/2012 23:00</td>\n",
              "      <td>0.0</td>\n",
              "      <td>-2.1</td>\n",
              "      <td>86</td>\n",
              "      <td>30</td>\n",
              "      <td>11.3</td>\n",
              "      <td>99.89</td>\n",
              "      <td>Snow</td>\n",
              "    </tr>\n",
              "  </tbody>\n",
              "</table>\n",
              "<p>390 rows × 8 columns</p>\n",
              "</div>"
            ],
            "text/plain": [
              "              dataHora  temperatura  tempOrvalho  ...  visibilidade  pressao  clima\n",
              "55       1/3/2012 7:00        -14.0        -19.5  ...          25.0   100.95   Snow\n",
              "84      1/4/2012 12:00        -13.7        -21.7  ...          24.1   101.25   Snow\n",
              "86      1/4/2012 14:00        -11.3        -19.0  ...          19.3   100.97   Snow\n",
              "87      1/4/2012 15:00        -10.2        -16.3  ...           9.7   100.89   Snow\n",
              "88      1/4/2012 16:00         -9.4        -15.5  ...          19.3   100.79   Snow\n",
              "...                ...          ...          ...  ...           ...      ...    ...\n",
              "8779  12/31/2012 19:00          0.1         -2.7  ...           9.7   100.13   Snow\n",
              "8780  12/31/2012 20:00          0.2         -2.4  ...           9.7   100.03   Snow\n",
              "8781  12/31/2012 21:00         -0.5         -1.5  ...           4.8    99.95   Snow\n",
              "8782  12/31/2012 22:00         -0.2         -1.8  ...           9.7    99.91   Snow\n",
              "8783  12/31/2012 23:00          0.0         -2.1  ...          11.3    99.89   Snow\n",
              "\n",
              "[390 rows x 8 columns]"
            ]
          },
          "metadata": {},
          "execution_count": 26
        }
      ]
    },
    {
      "cell_type": "code",
      "source": [
        "#No entanto, a coluna apresenta o registro snow combinado com outras palavras\n",
        "df['clima'].value_counts()"
      ],
      "metadata": {
        "colab": {
          "base_uri": "https://localhost:8080/"
        },
        "id": "JOreyT6ekm1C",
        "outputId": "8f3232cd-d4cb-40f6-cb7b-12689abfe944"
      },
      "execution_count": 27,
      "outputs": [
        {
          "output_type": "execute_result",
          "data": {
            "text/plain": [
              "Mainly Clear                               2106\n",
              "Mostly Cloudy                              2069\n",
              "Cloudy                                     1728\n",
              "Clear                                      1326\n",
              "Snow                                        390\n",
              "Rain                                        306\n",
              "Rain Showers                                188\n",
              "Fog                                         150\n",
              "Rain,Fog                                    116\n",
              "Drizzle,Fog                                  80\n",
              "Snow Showers                                 60\n",
              "Drizzle                                      41\n",
              "Snow,Fog                                     37\n",
              "Snow,Blowing Snow                            19\n",
              "Rain,Snow                                    18\n",
              "Haze                                         16\n",
              "Thunderstorms,Rain Showers                   16\n",
              "Drizzle,Snow,Fog                             15\n",
              "Freezing Rain                                14\n",
              "Freezing Drizzle,Snow                        11\n",
              "Freezing Drizzle                              7\n",
              "Snow,Ice Pellets                              6\n",
              "Freezing Drizzle,Fog                          6\n",
              "Snow,Haze                                     5\n",
              "Moderate Snow                                 4\n",
              "Snow Showers,Fog                              4\n",
              "Freezing Rain,Fog                             4\n",
              "Freezing Fog                                  4\n",
              "Rain,Snow,Ice Pellets                         4\n",
              "Freezing Drizzle,Haze                         3\n",
              "Rain,Haze                                     3\n",
              "Thunderstorms,Rain Showers,Fog                3\n",
              "Thunderstorms,Rain                            3\n",
              "Drizzle,Snow                                  2\n",
              "Rain Showers,Snow Showers                     2\n",
              "Freezing Rain,Haze                            2\n",
              "Thunderstorms                                 2\n",
              "Moderate Snow,Blowing Snow                    2\n",
              "Freezing Rain,Ice Pellets,Fog                 1\n",
              "Snow Pellets                                  1\n",
              "Rain,Ice Pellets                              1\n",
              "Freezing Rain,Snow Grains                     1\n",
              "Thunderstorms,Rain,Fog                        1\n",
              "Thunderstorms,Moderate Rain Showers,Fog       1\n",
              "Rain,Snow,Fog                                 1\n",
              "Moderate Rain,Fog                             1\n",
              "Rain,Snow Grains                              1\n",
              "Rain Showers,Fog                              1\n",
              "Thunderstorms,Heavy Rain Showers              1\n",
              "Drizzle,Ice Pellets,Fog                       1\n",
              "Name: clima, dtype: int64"
            ]
          },
          "metadata": {},
          "execution_count": 27
        }
      ]
    },
    {
      "cell_type": "code",
      "source": [
        "#Logo, a busca adequada é:\n",
        "df[df['clima'].str.contains('Snow')]"
      ],
      "metadata": {
        "colab": {
          "base_uri": "https://localhost:8080/",
          "height": 597
        },
        "id": "tAjutwGGlKyu",
        "outputId": "31e06542-23e4-47b0-bbe0-e5164ae722ff"
      },
      "execution_count": 28,
      "outputs": [
        {
          "output_type": "execute_result",
          "data": {
            "text/html": [
              "<div>\n",
              "<style scoped>\n",
              "    .dataframe tbody tr th:only-of-type {\n",
              "        vertical-align: middle;\n",
              "    }\n",
              "\n",
              "    .dataframe tbody tr th {\n",
              "        vertical-align: top;\n",
              "    }\n",
              "\n",
              "    .dataframe thead th {\n",
              "        text-align: right;\n",
              "    }\n",
              "</style>\n",
              "<table border=\"1\" class=\"dataframe\">\n",
              "  <thead>\n",
              "    <tr style=\"text-align: right;\">\n",
              "      <th></th>\n",
              "      <th>dataHora</th>\n",
              "      <th>temperatura</th>\n",
              "      <th>tempOrvalho</th>\n",
              "      <th>humidadeRelativa</th>\n",
              "      <th>velocidadeVento</th>\n",
              "      <th>visibilidade</th>\n",
              "      <th>pressao</th>\n",
              "      <th>clima</th>\n",
              "    </tr>\n",
              "  </thead>\n",
              "  <tbody>\n",
              "    <tr>\n",
              "      <th>41</th>\n",
              "      <td>1/2/2012 17:00</td>\n",
              "      <td>-2.1</td>\n",
              "      <td>-9.5</td>\n",
              "      <td>57</td>\n",
              "      <td>22</td>\n",
              "      <td>25.0</td>\n",
              "      <td>99.66</td>\n",
              "      <td>Snow Showers</td>\n",
              "    </tr>\n",
              "    <tr>\n",
              "      <th>44</th>\n",
              "      <td>1/2/2012 20:00</td>\n",
              "      <td>-5.6</td>\n",
              "      <td>-13.4</td>\n",
              "      <td>54</td>\n",
              "      <td>24</td>\n",
              "      <td>25.0</td>\n",
              "      <td>100.07</td>\n",
              "      <td>Snow Showers</td>\n",
              "    </tr>\n",
              "    <tr>\n",
              "      <th>45</th>\n",
              "      <td>1/2/2012 21:00</td>\n",
              "      <td>-5.8</td>\n",
              "      <td>-12.8</td>\n",
              "      <td>58</td>\n",
              "      <td>26</td>\n",
              "      <td>25.0</td>\n",
              "      <td>100.15</td>\n",
              "      <td>Snow Showers</td>\n",
              "    </tr>\n",
              "    <tr>\n",
              "      <th>47</th>\n",
              "      <td>1/2/2012 23:00</td>\n",
              "      <td>-7.4</td>\n",
              "      <td>-14.1</td>\n",
              "      <td>59</td>\n",
              "      <td>17</td>\n",
              "      <td>19.3</td>\n",
              "      <td>100.27</td>\n",
              "      <td>Snow Showers</td>\n",
              "    </tr>\n",
              "    <tr>\n",
              "      <th>48</th>\n",
              "      <td>1/3/2012 0:00</td>\n",
              "      <td>-9.0</td>\n",
              "      <td>-16.0</td>\n",
              "      <td>57</td>\n",
              "      <td>28</td>\n",
              "      <td>25.0</td>\n",
              "      <td>100.35</td>\n",
              "      <td>Snow Showers</td>\n",
              "    </tr>\n",
              "    <tr>\n",
              "      <th>...</th>\n",
              "      <td>...</td>\n",
              "      <td>...</td>\n",
              "      <td>...</td>\n",
              "      <td>...</td>\n",
              "      <td>...</td>\n",
              "      <td>...</td>\n",
              "      <td>...</td>\n",
              "      <td>...</td>\n",
              "    </tr>\n",
              "    <tr>\n",
              "      <th>8779</th>\n",
              "      <td>12/31/2012 19:00</td>\n",
              "      <td>0.1</td>\n",
              "      <td>-2.7</td>\n",
              "      <td>81</td>\n",
              "      <td>30</td>\n",
              "      <td>9.7</td>\n",
              "      <td>100.13</td>\n",
              "      <td>Snow</td>\n",
              "    </tr>\n",
              "    <tr>\n",
              "      <th>8780</th>\n",
              "      <td>12/31/2012 20:00</td>\n",
              "      <td>0.2</td>\n",
              "      <td>-2.4</td>\n",
              "      <td>83</td>\n",
              "      <td>24</td>\n",
              "      <td>9.7</td>\n",
              "      <td>100.03</td>\n",
              "      <td>Snow</td>\n",
              "    </tr>\n",
              "    <tr>\n",
              "      <th>8781</th>\n",
              "      <td>12/31/2012 21:00</td>\n",
              "      <td>-0.5</td>\n",
              "      <td>-1.5</td>\n",
              "      <td>93</td>\n",
              "      <td>28</td>\n",
              "      <td>4.8</td>\n",
              "      <td>99.95</td>\n",
              "      <td>Snow</td>\n",
              "    </tr>\n",
              "    <tr>\n",
              "      <th>8782</th>\n",
              "      <td>12/31/2012 22:00</td>\n",
              "      <td>-0.2</td>\n",
              "      <td>-1.8</td>\n",
              "      <td>89</td>\n",
              "      <td>28</td>\n",
              "      <td>9.7</td>\n",
              "      <td>99.91</td>\n",
              "      <td>Snow</td>\n",
              "    </tr>\n",
              "    <tr>\n",
              "      <th>8783</th>\n",
              "      <td>12/31/2012 23:00</td>\n",
              "      <td>0.0</td>\n",
              "      <td>-2.1</td>\n",
              "      <td>86</td>\n",
              "      <td>30</td>\n",
              "      <td>11.3</td>\n",
              "      <td>99.89</td>\n",
              "      <td>Snow</td>\n",
              "    </tr>\n",
              "  </tbody>\n",
              "</table>\n",
              "<p>583 rows × 8 columns</p>\n",
              "</div>"
            ],
            "text/plain": [
              "              dataHora  temperatura  ...  pressao         clima\n",
              "41      1/2/2012 17:00         -2.1  ...    99.66  Snow Showers\n",
              "44      1/2/2012 20:00         -5.6  ...   100.07  Snow Showers\n",
              "45      1/2/2012 21:00         -5.8  ...   100.15  Snow Showers\n",
              "47      1/2/2012 23:00         -7.4  ...   100.27  Snow Showers\n",
              "48       1/3/2012 0:00         -9.0  ...   100.35  Snow Showers\n",
              "...                ...          ...  ...      ...           ...\n",
              "8779  12/31/2012 19:00          0.1  ...   100.13          Snow\n",
              "8780  12/31/2012 20:00          0.2  ...   100.03          Snow\n",
              "8781  12/31/2012 21:00         -0.5  ...    99.95          Snow\n",
              "8782  12/31/2012 22:00         -0.2  ...    99.91          Snow\n",
              "8783  12/31/2012 23:00          0.0  ...    99.89          Snow\n",
              "\n",
              "[583 rows x 8 columns]"
            ]
          },
          "metadata": {},
          "execution_count": 28
        }
      ]
    },
    {
      "cell_type": "code",
      "source": [
        "df['clima'].count()"
      ],
      "metadata": {
        "colab": {
          "base_uri": "https://localhost:8080/"
        },
        "id": "Hx3XhgXOmpbe",
        "outputId": "594b30ca-aba9-4b90-f53b-4b796f4e65c9"
      },
      "execution_count": 29,
      "outputs": [
        {
          "output_type": "execute_result",
          "data": {
            "text/plain": [
              "8784"
            ]
          },
          "metadata": {},
          "execution_count": 29
        }
      ]
    },
    {
      "cell_type": "code",
      "source": [
        "resultado = df[df['clima'].str.contains('Snow')]\n",
        "resultado['clima'].value_counts()\n"
      ],
      "metadata": {
        "colab": {
          "base_uri": "https://localhost:8080/"
        },
        "id": "73xYDqgzlpBn",
        "outputId": "d7755926-6abc-4286-bd93-70d34ff16145"
      },
      "execution_count": 30,
      "outputs": [
        {
          "output_type": "execute_result",
          "data": {
            "text/plain": [
              "Snow                          390\n",
              "Snow Showers                   60\n",
              "Snow,Fog                       37\n",
              "Snow,Blowing Snow              19\n",
              "Rain,Snow                      18\n",
              "Drizzle,Snow,Fog               15\n",
              "Freezing Drizzle,Snow          11\n",
              "Snow,Ice Pellets                6\n",
              "Snow,Haze                       5\n",
              "Moderate Snow                   4\n",
              "Rain,Snow,Ice Pellets           4\n",
              "Snow Showers,Fog                4\n",
              "Moderate Snow,Blowing Snow      2\n",
              "Rain Showers,Snow Showers       2\n",
              "Drizzle,Snow                    2\n",
              "Rain,Snow Grains                1\n",
              "Freezing Rain,Snow Grains       1\n",
              "Snow Pellets                    1\n",
              "Rain,Snow,Fog                   1\n",
              "Name: clima, dtype: int64"
            ]
          },
          "metadata": {},
          "execution_count": 30
        }
      ]
    },
    {
      "cell_type": "markdown",
      "source": [
        "# Q8: Renomeie as Tuplas da coluna clima"
      ],
      "metadata": {
        "id": "NDOpNp29T4c2"
      }
    },
    {
      "cell_type": "code",
      "source": [
        "df['clima'] = df['clima'].map({'Snow':'Neve',\n",
        "                             'Snow, Showers':'Neve, Pancadas de chuva',\n",
        "                             'Snow,Fog':'Neve, Nevoeiro',\n",
        "                             'Snow,Blowing Snow ':'Neve, Neve-sopro',\n",
        "                             'Rain,Snow':'Chuva, Neve',\n",
        "                             'Drizzle,Snow,Fog':'Chuvisco, neve, nevoeiro',\n",
        "                             'Freezing Drizzle,Snow':'Chuvisco gelado, Neve',\n",
        "                             'Snow,Ice Pellets':'Neve, Pelotas de Gelo',\n",
        "                             'Snow, Fog':'Neve, Nevoeiro',\n",
        "                             'Moderate Snow':'Neve Moderada',\n",
        "                             'Snow showers, Fog':'Aguaceiros de neve, Neve',\n",
        "                             'Rain, Snow, Ice pellets':'Chuva, Neve, Pelotas de gelo',\n",
        "                             'Drizzle Snow':'Garoa de neve',\n",
        "                             'Rain showers, snow showers':'Pancadas de chuva, Pancadas de neve',\n",
        "                             'Moderate snow, blown snow':'Neve moderada, Neve-sopro',\n",
        "                             'Rain, Snow, Fog':'Chuva, Neve, Nevoeiro',\n",
        "                             'Rain, Snow Grains':'Chuva, Grãos de neve',\n",
        "                             'Snow Pallets':'Pelotas de neve',\n",
        "                             'Freezing Rain, Snow Grains':'Chuva congelante, Grãos de neve'})\n",
        "\n"
      ],
      "metadata": {
        "id": "iTQyFHDXwgyE"
      },
      "execution_count": 31,
      "outputs": []
    },
    {
      "cell_type": "code",
      "source": [
        "df.columns"
      ],
      "metadata": {
        "colab": {
          "base_uri": "https://localhost:8080/"
        },
        "id": "LCV3xvb3ARZo",
        "outputId": "5ed99ffd-e919-428a-8ad0-593d1b96a984"
      },
      "execution_count": 32,
      "outputs": [
        {
          "output_type": "execute_result",
          "data": {
            "text/plain": [
              "Index(['dataHora', 'temperatura', 'tempOrvalho', 'humidadeRelativa',\n",
              "       'velocidadeVento', 'visibilidade', 'pressao', 'clima'],\n",
              "      dtype='object')"
            ]
          },
          "metadata": {},
          "execution_count": 32
        }
      ]
    },
    {
      "cell_type": "markdown",
      "source": [
        "# Q10: Encontre todas as tuplas em que \"velocidadeVento\" é maior que 24 e a \"visibilidade\" é igual a 25"
      ],
      "metadata": {
        "id": "E5EGrEauUHi9"
      }
    },
    {
      "cell_type": "code",
      "source": [
        "df.columns"
      ],
      "metadata": {
        "colab": {
          "base_uri": "https://localhost:8080/"
        },
        "id": "mWBymSUdnG1T",
        "outputId": "19a01b74-c5ad-4517-945a-5adbf6cc841a"
      },
      "execution_count": 33,
      "outputs": [
        {
          "output_type": "execute_result",
          "data": {
            "text/plain": [
              "Index(['dataHora', 'temperatura', 'tempOrvalho', 'humidadeRelativa',\n",
              "       'velocidadeVento', 'visibilidade', 'pressao', 'clima'],\n",
              "      dtype='object')"
            ]
          },
          "metadata": {},
          "execution_count": 33
        }
      ]
    },
    {
      "cell_type": "code",
      "source": [
        "df[(df['velocidadeVento']>24) & (df['visibilidade']==25)]"
      ],
      "metadata": {
        "colab": {
          "base_uri": "https://localhost:8080/",
          "height": 493
        },
        "id": "ASWaqBp4nVD-",
        "outputId": "d3c74648-3960-4263-f8c8-ad10e4b885d9"
      },
      "execution_count": 34,
      "outputs": [
        {
          "output_type": "execute_result",
          "data": {
            "text/html": [
              "<div>\n",
              "<style scoped>\n",
              "    .dataframe tbody tr th:only-of-type {\n",
              "        vertical-align: middle;\n",
              "    }\n",
              "\n",
              "    .dataframe tbody tr th {\n",
              "        vertical-align: top;\n",
              "    }\n",
              "\n",
              "    .dataframe thead th {\n",
              "        text-align: right;\n",
              "    }\n",
              "</style>\n",
              "<table border=\"1\" class=\"dataframe\">\n",
              "  <thead>\n",
              "    <tr style=\"text-align: right;\">\n",
              "      <th></th>\n",
              "      <th>dataHora</th>\n",
              "      <th>temperatura</th>\n",
              "      <th>tempOrvalho</th>\n",
              "      <th>humidadeRelativa</th>\n",
              "      <th>velocidadeVento</th>\n",
              "      <th>visibilidade</th>\n",
              "      <th>pressao</th>\n",
              "      <th>clima</th>\n",
              "    </tr>\n",
              "  </thead>\n",
              "  <tbody>\n",
              "    <tr>\n",
              "      <th>23</th>\n",
              "      <td>1/1/2012 23:00</td>\n",
              "      <td>5.3</td>\n",
              "      <td>2.0</td>\n",
              "      <td>79</td>\n",
              "      <td>30</td>\n",
              "      <td>25.0</td>\n",
              "      <td>99.31</td>\n",
              "      <td>NaN</td>\n",
              "    </tr>\n",
              "    <tr>\n",
              "      <th>24</th>\n",
              "      <td>1/2/2012 0:00</td>\n",
              "      <td>5.2</td>\n",
              "      <td>1.5</td>\n",
              "      <td>77</td>\n",
              "      <td>35</td>\n",
              "      <td>25.0</td>\n",
              "      <td>99.26</td>\n",
              "      <td>NaN</td>\n",
              "    </tr>\n",
              "    <tr>\n",
              "      <th>25</th>\n",
              "      <td>1/2/2012 1:00</td>\n",
              "      <td>4.6</td>\n",
              "      <td>0.0</td>\n",
              "      <td>72</td>\n",
              "      <td>39</td>\n",
              "      <td>25.0</td>\n",
              "      <td>99.26</td>\n",
              "      <td>NaN</td>\n",
              "    </tr>\n",
              "    <tr>\n",
              "      <th>26</th>\n",
              "      <td>1/2/2012 2:00</td>\n",
              "      <td>3.9</td>\n",
              "      <td>-0.9</td>\n",
              "      <td>71</td>\n",
              "      <td>32</td>\n",
              "      <td>25.0</td>\n",
              "      <td>99.26</td>\n",
              "      <td>NaN</td>\n",
              "    </tr>\n",
              "    <tr>\n",
              "      <th>27</th>\n",
              "      <td>1/2/2012 3:00</td>\n",
              "      <td>3.7</td>\n",
              "      <td>-1.5</td>\n",
              "      <td>69</td>\n",
              "      <td>33</td>\n",
              "      <td>25.0</td>\n",
              "      <td>99.30</td>\n",
              "      <td>NaN</td>\n",
              "    </tr>\n",
              "    <tr>\n",
              "      <th>...</th>\n",
              "      <td>...</td>\n",
              "      <td>...</td>\n",
              "      <td>...</td>\n",
              "      <td>...</td>\n",
              "      <td>...</td>\n",
              "      <td>...</td>\n",
              "      <td>...</td>\n",
              "      <td>...</td>\n",
              "    </tr>\n",
              "    <tr>\n",
              "      <th>8705</th>\n",
              "      <td>12/28/2012 17:00</td>\n",
              "      <td>-8.6</td>\n",
              "      <td>-12.0</td>\n",
              "      <td>76</td>\n",
              "      <td>26</td>\n",
              "      <td>25.0</td>\n",
              "      <td>101.34</td>\n",
              "      <td>NaN</td>\n",
              "    </tr>\n",
              "    <tr>\n",
              "      <th>8753</th>\n",
              "      <td>12/30/2012 17:00</td>\n",
              "      <td>-12.1</td>\n",
              "      <td>-15.8</td>\n",
              "      <td>74</td>\n",
              "      <td>28</td>\n",
              "      <td>25.0</td>\n",
              "      <td>101.26</td>\n",
              "      <td>NaN</td>\n",
              "    </tr>\n",
              "    <tr>\n",
              "      <th>8755</th>\n",
              "      <td>12/30/2012 19:00</td>\n",
              "      <td>-13.4</td>\n",
              "      <td>-16.5</td>\n",
              "      <td>77</td>\n",
              "      <td>26</td>\n",
              "      <td>25.0</td>\n",
              "      <td>101.47</td>\n",
              "      <td>NaN</td>\n",
              "    </tr>\n",
              "    <tr>\n",
              "      <th>8759</th>\n",
              "      <td>12/30/2012 23:00</td>\n",
              "      <td>-12.1</td>\n",
              "      <td>-15.1</td>\n",
              "      <td>78</td>\n",
              "      <td>28</td>\n",
              "      <td>25.0</td>\n",
              "      <td>101.52</td>\n",
              "      <td>NaN</td>\n",
              "    </tr>\n",
              "    <tr>\n",
              "      <th>8760</th>\n",
              "      <td>12/31/2012 0:00</td>\n",
              "      <td>-11.1</td>\n",
              "      <td>-14.4</td>\n",
              "      <td>77</td>\n",
              "      <td>26</td>\n",
              "      <td>25.0</td>\n",
              "      <td>101.51</td>\n",
              "      <td>NaN</td>\n",
              "    </tr>\n",
              "  </tbody>\n",
              "</table>\n",
              "<p>308 rows × 8 columns</p>\n",
              "</div>"
            ],
            "text/plain": [
              "              dataHora  temperatura  tempOrvalho  ...  visibilidade  pressao  clima\n",
              "23      1/1/2012 23:00          5.3          2.0  ...          25.0    99.31    NaN\n",
              "24       1/2/2012 0:00          5.2          1.5  ...          25.0    99.26    NaN\n",
              "25       1/2/2012 1:00          4.6          0.0  ...          25.0    99.26    NaN\n",
              "26       1/2/2012 2:00          3.9         -0.9  ...          25.0    99.26    NaN\n",
              "27       1/2/2012 3:00          3.7         -1.5  ...          25.0    99.30    NaN\n",
              "...                ...          ...          ...  ...           ...      ...    ...\n",
              "8705  12/28/2012 17:00         -8.6        -12.0  ...          25.0   101.34    NaN\n",
              "8753  12/30/2012 17:00        -12.1        -15.8  ...          25.0   101.26    NaN\n",
              "8755  12/30/2012 19:00        -13.4        -16.5  ...          25.0   101.47    NaN\n",
              "8759  12/30/2012 23:00        -12.1        -15.1  ...          25.0   101.52    NaN\n",
              "8760   12/31/2012 0:00        -11.1        -14.4  ...          25.0   101.51    NaN\n",
              "\n",
              "[308 rows x 8 columns]"
            ]
          },
          "metadata": {},
          "execution_count": 34
        }
      ]
    },
    {
      "cell_type": "markdown",
      "source": [
        "# Q11: Agrupando a coluna de \"Clima\", qual seria o resultado da média, valor mínimo e valor máximo para as demais colunas"
      ],
      "metadata": {
        "id": "bJUP1oVmUMVz"
      }
    },
    {
      "cell_type": "code",
      "source": [
        "dfMean= df.groupby('clima').mean()"
      ],
      "metadata": {
        "id": "1Xb9gkoGoPQn"
      },
      "execution_count": 35,
      "outputs": []
    },
    {
      "cell_type": "code",
      "source": [
        "dfMin= df.groupby('clima').min()\n"
      ],
      "metadata": {
        "id": "QJUb7fxtpKe3"
      },
      "execution_count": 36,
      "outputs": []
    },
    {
      "cell_type": "code",
      "source": [
        "dfMax= df.groupby('clima').max()"
      ],
      "metadata": {
        "id": "b0latkUdpYiu"
      },
      "execution_count": 37,
      "outputs": []
    },
    {
      "cell_type": "markdown",
      "source": [
        "# Q11: unir os Data Frames df_Mean, df_Max, df_Min. Ao término, exportar os Data Frames em um arquivo .csv"
      ],
      "metadata": {
        "id": "wLx1TXCPUVhP"
      }
    },
    {
      "cell_type": "code",
      "source": [
        "dfMean=dfMean.add_prefix('mean_')\n",
        "dfMean.columns"
      ],
      "metadata": {
        "colab": {
          "base_uri": "https://localhost:8080/"
        },
        "id": "SuApwQD-CyRv",
        "outputId": "c24b2f72-18b1-48f4-d13d-e206a51e975e"
      },
      "execution_count": 38,
      "outputs": [
        {
          "output_type": "execute_result",
          "data": {
            "text/plain": [
              "Index(['mean_temperatura', 'mean_tempOrvalho', 'mean_humidadeRelativa',\n",
              "       'mean_velocidadeVento', 'mean_visibilidade', 'mean_pressao'],\n",
              "      dtype='object')"
            ]
          },
          "metadata": {},
          "execution_count": 38
        }
      ]
    },
    {
      "cell_type": "code",
      "source": [
        "dfMin=dfMin.add_prefix('min_')\n",
        "dfMin.columns"
      ],
      "metadata": {
        "colab": {
          "base_uri": "https://localhost:8080/"
        },
        "id": "EtvNR5ZfC8di",
        "outputId": "24bf0dba-ad5d-46c5-f55f-7e61bfae65ad"
      },
      "execution_count": 39,
      "outputs": [
        {
          "output_type": "execute_result",
          "data": {
            "text/plain": [
              "Index(['min_dataHora', 'min_temperatura', 'min_tempOrvalho',\n",
              "       'min_humidadeRelativa', 'min_velocidadeVento', 'min_visibilidade',\n",
              "       'min_pressao'],\n",
              "      dtype='object')"
            ]
          },
          "metadata": {},
          "execution_count": 39
        }
      ]
    },
    {
      "cell_type": "code",
      "source": [
        "dfMax=dfMax.add_prefix('max_')\n",
        "dfMax.columns"
      ],
      "metadata": {
        "colab": {
          "base_uri": "https://localhost:8080/"
        },
        "id": "DPKxociSDBhR",
        "outputId": "1f2f9862-edfa-4226-a02f-516ea2a42e34"
      },
      "execution_count": 40,
      "outputs": [
        {
          "output_type": "execute_result",
          "data": {
            "text/plain": [
              "Index(['max_dataHora', 'max_temperatura', 'max_tempOrvalho',\n",
              "       'max_humidadeRelativa', 'max_velocidadeVento', 'max_visibilidade',\n",
              "       'max_pressao'],\n",
              "      dtype='object')"
            ]
          },
          "metadata": {},
          "execution_count": 40
        }
      ]
    },
    {
      "cell_type": "code",
      "source": [
        ""
      ],
      "metadata": {
        "colab": {
          "base_uri": "https://localhost:8080/",
          "height": 361
        },
        "id": "VnjxKM2lQ2Re",
        "outputId": "63bf2cbd-c03a-4332-d7b0-f01f615c6f8b"
      },
      "execution_count": 49,
      "outputs": [
        {
          "output_type": "execute_result",
          "data": {
            "text/html": [
              "<div>\n",
              "<style scoped>\n",
              "    .dataframe tbody tr th:only-of-type {\n",
              "        vertical-align: middle;\n",
              "    }\n",
              "\n",
              "    .dataframe tbody tr th {\n",
              "        vertical-align: top;\n",
              "    }\n",
              "\n",
              "    .dataframe thead th {\n",
              "        text-align: right;\n",
              "    }\n",
              "</style>\n",
              "<table border=\"1\" class=\"dataframe\">\n",
              "  <thead>\n",
              "    <tr style=\"text-align: right;\">\n",
              "      <th></th>\n",
              "      <th>mean_temperatura</th>\n",
              "      <th>mean_tempOrvalho</th>\n",
              "      <th>mean_humidadeRelativa</th>\n",
              "      <th>mean_velocidadeVento</th>\n",
              "      <th>mean_visibilidade</th>\n",
              "      <th>mean_pressao</th>\n",
              "    </tr>\n",
              "    <tr>\n",
              "      <th>clima</th>\n",
              "      <th></th>\n",
              "      <th></th>\n",
              "      <th></th>\n",
              "      <th></th>\n",
              "      <th></th>\n",
              "      <th></th>\n",
              "    </tr>\n",
              "  </thead>\n",
              "  <tbody>\n",
              "    <tr>\n",
              "      <th>Chuva, Neve</th>\n",
              "      <td>1.055556</td>\n",
              "      <td>-0.566667</td>\n",
              "      <td>89.000000</td>\n",
              "      <td>28.388889</td>\n",
              "      <td>11.672222</td>\n",
              "      <td>99.951111</td>\n",
              "    </tr>\n",
              "    <tr>\n",
              "      <th>Chuvisco gelado, Neve</th>\n",
              "      <td>-5.109091</td>\n",
              "      <td>-7.072727</td>\n",
              "      <td>86.090909</td>\n",
              "      <td>16.272727</td>\n",
              "      <td>5.872727</td>\n",
              "      <td>100.520909</td>\n",
              "    </tr>\n",
              "    <tr>\n",
              "      <th>Chuvisco, neve, nevoeiro</th>\n",
              "      <td>0.693333</td>\n",
              "      <td>0.120000</td>\n",
              "      <td>95.866667</td>\n",
              "      <td>15.533333</td>\n",
              "      <td>5.513333</td>\n",
              "      <td>99.281333</td>\n",
              "    </tr>\n",
              "    <tr>\n",
              "      <th>Neve</th>\n",
              "      <td>-4.524103</td>\n",
              "      <td>-7.623333</td>\n",
              "      <td>79.307692</td>\n",
              "      <td>20.038462</td>\n",
              "      <td>11.171795</td>\n",
              "      <td>100.536103</td>\n",
              "    </tr>\n",
              "    <tr>\n",
              "      <th>Neve Moderada</th>\n",
              "      <td>-5.525000</td>\n",
              "      <td>-7.250000</td>\n",
              "      <td>87.750000</td>\n",
              "      <td>33.750000</td>\n",
              "      <td>0.750000</td>\n",
              "      <td>100.275000</td>\n",
              "    </tr>\n",
              "  </tbody>\n",
              "</table>\n",
              "</div>"
            ],
            "text/plain": [
              "                          mean_temperatura  ...  mean_pressao\n",
              "clima                                       ...              \n",
              "Chuva, Neve                       1.055556  ...     99.951111\n",
              "Chuvisco gelado, Neve            -5.109091  ...    100.520909\n",
              "Chuvisco, neve, nevoeiro          0.693333  ...     99.281333\n",
              "Neve                             -4.524103  ...    100.536103\n",
              "Neve Moderada                    -5.525000  ...    100.275000\n",
              "\n",
              "[5 rows x 6 columns]"
            ]
          },
          "metadata": {},
          "execution_count": 49
        }
      ]
    },
    {
      "cell_type": "code",
      "source": [
        "mergeDf = pd.merge(pd.merge(dfMean, dfMin, how = 'inner', on = 'clima'),dfMax,on = 'clima')\n"
      ],
      "metadata": {
        "id": "Je8hlE2CEOQm"
      },
      "execution_count": 53,
      "outputs": []
    },
    {
      "cell_type": "code",
      "source": [
        "mergeDf\n"
      ],
      "metadata": {
        "colab": {
          "base_uri": "https://localhost:8080/",
          "height": 494
        },
        "id": "lMYhTGfHRym2",
        "outputId": "4fbeeaca-578a-42cf-d5e5-cbe5724ee428"
      },
      "execution_count": 56,
      "outputs": [
        {
          "output_type": "execute_result",
          "data": {
            "text/html": [
              "<div>\n",
              "<style scoped>\n",
              "    .dataframe tbody tr th:only-of-type {\n",
              "        vertical-align: middle;\n",
              "    }\n",
              "\n",
              "    .dataframe tbody tr th {\n",
              "        vertical-align: top;\n",
              "    }\n",
              "\n",
              "    .dataframe thead th {\n",
              "        text-align: right;\n",
              "    }\n",
              "</style>\n",
              "<table border=\"1\" class=\"dataframe\">\n",
              "  <thead>\n",
              "    <tr style=\"text-align: right;\">\n",
              "      <th></th>\n",
              "      <th>mean_temperatura</th>\n",
              "      <th>mean_tempOrvalho</th>\n",
              "      <th>mean_humidadeRelativa</th>\n",
              "      <th>mean_velocidadeVento</th>\n",
              "      <th>mean_visibilidade</th>\n",
              "      <th>mean_pressao</th>\n",
              "      <th>min_dataHora</th>\n",
              "      <th>min_temperatura</th>\n",
              "      <th>min_tempOrvalho</th>\n",
              "      <th>min_humidadeRelativa</th>\n",
              "      <th>min_velocidadeVento</th>\n",
              "      <th>min_visibilidade</th>\n",
              "      <th>min_pressao</th>\n",
              "      <th>max_dataHora</th>\n",
              "      <th>max_temperatura</th>\n",
              "      <th>max_tempOrvalho</th>\n",
              "      <th>max_humidadeRelativa</th>\n",
              "      <th>max_velocidadeVento</th>\n",
              "      <th>max_visibilidade</th>\n",
              "      <th>max_pressao</th>\n",
              "    </tr>\n",
              "    <tr>\n",
              "      <th>clima</th>\n",
              "      <th></th>\n",
              "      <th></th>\n",
              "      <th></th>\n",
              "      <th></th>\n",
              "      <th></th>\n",
              "      <th></th>\n",
              "      <th></th>\n",
              "      <th></th>\n",
              "      <th></th>\n",
              "      <th></th>\n",
              "      <th></th>\n",
              "      <th></th>\n",
              "      <th></th>\n",
              "      <th></th>\n",
              "      <th></th>\n",
              "      <th></th>\n",
              "      <th></th>\n",
              "      <th></th>\n",
              "      <th></th>\n",
              "      <th></th>\n",
              "    </tr>\n",
              "  </thead>\n",
              "  <tbody>\n",
              "    <tr>\n",
              "      <th>Chuva, Neve</th>\n",
              "      <td>1.055556</td>\n",
              "      <td>-0.566667</td>\n",
              "      <td>89.000000</td>\n",
              "      <td>28.388889</td>\n",
              "      <td>11.672222</td>\n",
              "      <td>99.951111</td>\n",
              "      <td>1/10/2012 5:00</td>\n",
              "      <td>0.6</td>\n",
              "      <td>-1.7</td>\n",
              "      <td>81</td>\n",
              "      <td>13</td>\n",
              "      <td>2.4</td>\n",
              "      <td>98.18</td>\n",
              "      <td>4/23/2012 3:00</td>\n",
              "      <td>1.7</td>\n",
              "      <td>0.5</td>\n",
              "      <td>94</td>\n",
              "      <td>52</td>\n",
              "      <td>25.0</td>\n",
              "      <td>101.07</td>\n",
              "    </tr>\n",
              "    <tr>\n",
              "      <th>Chuvisco gelado, Neve</th>\n",
              "      <td>-5.109091</td>\n",
              "      <td>-7.072727</td>\n",
              "      <td>86.090909</td>\n",
              "      <td>16.272727</td>\n",
              "      <td>5.872727</td>\n",
              "      <td>100.520909</td>\n",
              "      <td>1/13/2012 3:00</td>\n",
              "      <td>-8.3</td>\n",
              "      <td>-10.4</td>\n",
              "      <td>79</td>\n",
              "      <td>6</td>\n",
              "      <td>2.4</td>\n",
              "      <td>99.19</td>\n",
              "      <td>3/2/2012 12:00</td>\n",
              "      <td>-3.3</td>\n",
              "      <td>-4.6</td>\n",
              "      <td>94</td>\n",
              "      <td>24</td>\n",
              "      <td>12.9</td>\n",
              "      <td>101.18</td>\n",
              "    </tr>\n",
              "    <tr>\n",
              "      <th>Chuvisco, neve, nevoeiro</th>\n",
              "      <td>0.693333</td>\n",
              "      <td>0.120000</td>\n",
              "      <td>95.866667</td>\n",
              "      <td>15.533333</td>\n",
              "      <td>5.513333</td>\n",
              "      <td>99.281333</td>\n",
              "      <td>12/18/2012 21:00</td>\n",
              "      <td>0.3</td>\n",
              "      <td>-0.1</td>\n",
              "      <td>92</td>\n",
              "      <td>7</td>\n",
              "      <td>2.4</td>\n",
              "      <td>97.79</td>\n",
              "      <td>12/22/2012 3:00</td>\n",
              "      <td>1.1</td>\n",
              "      <td>0.6</td>\n",
              "      <td>98</td>\n",
              "      <td>32</td>\n",
              "      <td>9.7</td>\n",
              "      <td>100.15</td>\n",
              "    </tr>\n",
              "    <tr>\n",
              "      <th>Neve</th>\n",
              "      <td>-4.524103</td>\n",
              "      <td>-7.623333</td>\n",
              "      <td>79.307692</td>\n",
              "      <td>20.038462</td>\n",
              "      <td>11.171795</td>\n",
              "      <td>100.536103</td>\n",
              "      <td>1/10/2012 1:00</td>\n",
              "      <td>-16.7</td>\n",
              "      <td>-24.6</td>\n",
              "      <td>41</td>\n",
              "      <td>0</td>\n",
              "      <td>1.0</td>\n",
              "      <td>97.75</td>\n",
              "      <td>4/27/2012 9:00</td>\n",
              "      <td>3.7</td>\n",
              "      <td>0.3</td>\n",
              "      <td>96</td>\n",
              "      <td>57</td>\n",
              "      <td>25.0</td>\n",
              "      <td>102.73</td>\n",
              "    </tr>\n",
              "    <tr>\n",
              "      <th>Neve Moderada</th>\n",
              "      <td>-5.525000</td>\n",
              "      <td>-7.250000</td>\n",
              "      <td>87.750000</td>\n",
              "      <td>33.750000</td>\n",
              "      <td>0.750000</td>\n",
              "      <td>100.275000</td>\n",
              "      <td>1/12/2012 15:00</td>\n",
              "      <td>-6.3</td>\n",
              "      <td>-7.6</td>\n",
              "      <td>83</td>\n",
              "      <td>26</td>\n",
              "      <td>0.6</td>\n",
              "      <td>99.88</td>\n",
              "      <td>12/27/2012 9:00</td>\n",
              "      <td>-4.9</td>\n",
              "      <td>-6.7</td>\n",
              "      <td>93</td>\n",
              "      <td>39</td>\n",
              "      <td>0.8</td>\n",
              "      <td>100.67</td>\n",
              "    </tr>\n",
              "    <tr>\n",
              "      <th>Neve, Nevoeiro</th>\n",
              "      <td>-5.075676</td>\n",
              "      <td>-6.364865</td>\n",
              "      <td>90.675676</td>\n",
              "      <td>17.324324</td>\n",
              "      <td>4.537838</td>\n",
              "      <td>100.688649</td>\n",
              "      <td>12/16/2012 15:00</td>\n",
              "      <td>-10.1</td>\n",
              "      <td>-12.0</td>\n",
              "      <td>77</td>\n",
              "      <td>4</td>\n",
              "      <td>1.2</td>\n",
              "      <td>99.38</td>\n",
              "      <td>3/14/2012 19:00</td>\n",
              "      <td>1.1</td>\n",
              "      <td>0.8</td>\n",
              "      <td>99</td>\n",
              "      <td>35</td>\n",
              "      <td>9.7</td>\n",
              "      <td>102.07</td>\n",
              "    </tr>\n",
              "    <tr>\n",
              "      <th>Neve, Pelotas de Gelo</th>\n",
              "      <td>-1.883333</td>\n",
              "      <td>-3.666667</td>\n",
              "      <td>87.666667</td>\n",
              "      <td>23.833333</td>\n",
              "      <td>7.416667</td>\n",
              "      <td>100.548333</td>\n",
              "      <td>12/10/2012 3:00</td>\n",
              "      <td>-4.3</td>\n",
              "      <td>-5.9</td>\n",
              "      <td>76</td>\n",
              "      <td>19</td>\n",
              "      <td>2.8</td>\n",
              "      <td>99.40</td>\n",
              "      <td>3/3/2012 4:00</td>\n",
              "      <td>0.8</td>\n",
              "      <td>-1.7</td>\n",
              "      <td>92</td>\n",
              "      <td>33</td>\n",
              "      <td>11.3</td>\n",
              "      <td>100.96</td>\n",
              "    </tr>\n",
              "  </tbody>\n",
              "</table>\n",
              "</div>"
            ],
            "text/plain": [
              "                          mean_temperatura  ...  max_pressao\n",
              "clima                                       ...             \n",
              "Chuva, Neve                       1.055556  ...       101.07\n",
              "Chuvisco gelado, Neve            -5.109091  ...       101.18\n",
              "Chuvisco, neve, nevoeiro          0.693333  ...       100.15\n",
              "Neve                             -4.524103  ...       102.73\n",
              "Neve Moderada                    -5.525000  ...       100.67\n",
              "Neve, Nevoeiro                   -5.075676  ...       102.07\n",
              "Neve, Pelotas de Gelo            -1.883333  ...       100.96\n",
              "\n",
              "[7 rows x 20 columns]"
            ]
          },
          "metadata": {},
          "execution_count": 56
        }
      ]
    },
    {
      "cell_type": "code",
      "source": [
        "mergeDf.to_csv('out.csv')"
      ],
      "metadata": {
        "id": "w3iYhaeMSO2X"
      },
      "execution_count": 57,
      "outputs": []
    },
    {
      "cell_type": "markdown",
      "source": [
        "\n"
      ],
      "metadata": {
        "id": "EFKptzJ3o0qr"
      }
    },
    {
      "cell_type": "markdown",
      "source": [
        "# Q12: Selecione todos os registros onde o clima = 'Fog' (nublado)"
      ],
      "metadata": {
        "id": "d1zAeRcLUfdP"
      }
    },
    {
      "cell_type": "code",
      "source": [
        "df[df['clima']=='Fog']"
      ],
      "metadata": {
        "colab": {
          "base_uri": "https://localhost:8080/",
          "height": 49
        },
        "id": "mKc4AHOtozsh",
        "outputId": "967a4013-5b22-4d24-8183-0682d0c018a1"
      },
      "execution_count": 41,
      "outputs": [
        {
          "output_type": "execute_result",
          "data": {
            "text/html": [
              "<div>\n",
              "<style scoped>\n",
              "    .dataframe tbody tr th:only-of-type {\n",
              "        vertical-align: middle;\n",
              "    }\n",
              "\n",
              "    .dataframe tbody tr th {\n",
              "        vertical-align: top;\n",
              "    }\n",
              "\n",
              "    .dataframe thead th {\n",
              "        text-align: right;\n",
              "    }\n",
              "</style>\n",
              "<table border=\"1\" class=\"dataframe\">\n",
              "  <thead>\n",
              "    <tr style=\"text-align: right;\">\n",
              "      <th></th>\n",
              "      <th>dataHora</th>\n",
              "      <th>temperatura</th>\n",
              "      <th>tempOrvalho</th>\n",
              "      <th>humidadeRelativa</th>\n",
              "      <th>velocidadeVento</th>\n",
              "      <th>visibilidade</th>\n",
              "      <th>pressao</th>\n",
              "      <th>clima</th>\n",
              "    </tr>\n",
              "  </thead>\n",
              "  <tbody>\n",
              "  </tbody>\n",
              "</table>\n",
              "</div>"
            ],
            "text/plain": [
              "Empty DataFrame\n",
              "Columns: [dataHora, temperatura, tempOrvalho, humidadeRelativa, velocidadeVento, visibilidade, pressao, clima]\n",
              "Index: []"
            ]
          },
          "metadata": {},
          "execution_count": 41
        }
      ]
    },
    {
      "cell_type": "markdown",
      "source": [
        "# Q13: Encontre todas as tuplas onde o Clima é 'Clear' ou visibilidade é acima de 40"
      ],
      "metadata": {
        "id": "TK_D6I8wUlTX"
      }
    },
    {
      "cell_type": "code",
      "source": [
        "df[(df['clima'] == 'Clear') | (df['visibilidade']>40)]"
      ],
      "metadata": {
        "colab": {
          "base_uri": "https://localhost:8080/",
          "height": 511
        },
        "id": "lvNudPKrskDR",
        "outputId": "afb2896c-492e-4506-fb09-db4252c9265a"
      },
      "execution_count": 42,
      "outputs": [
        {
          "output_type": "execute_result",
          "data": {
            "text/html": [
              "<div>\n",
              "<style scoped>\n",
              "    .dataframe tbody tr th:only-of-type {\n",
              "        vertical-align: middle;\n",
              "    }\n",
              "\n",
              "    .dataframe tbody tr th {\n",
              "        vertical-align: top;\n",
              "    }\n",
              "\n",
              "    .dataframe thead th {\n",
              "        text-align: right;\n",
              "    }\n",
              "</style>\n",
              "<table border=\"1\" class=\"dataframe\">\n",
              "  <thead>\n",
              "    <tr style=\"text-align: right;\">\n",
              "      <th></th>\n",
              "      <th>dataHora</th>\n",
              "      <th>temperatura</th>\n",
              "      <th>tempOrvalho</th>\n",
              "      <th>humidadeRelativa</th>\n",
              "      <th>velocidadeVento</th>\n",
              "      <th>visibilidade</th>\n",
              "      <th>pressao</th>\n",
              "      <th>clima</th>\n",
              "    </tr>\n",
              "  </thead>\n",
              "  <tbody>\n",
              "    <tr>\n",
              "      <th>106</th>\n",
              "      <td>1/5/2012 10:00</td>\n",
              "      <td>-6.0</td>\n",
              "      <td>-10.0</td>\n",
              "      <td>73</td>\n",
              "      <td>17</td>\n",
              "      <td>48.3</td>\n",
              "      <td>100.45</td>\n",
              "      <td>NaN</td>\n",
              "    </tr>\n",
              "    <tr>\n",
              "      <th>107</th>\n",
              "      <td>1/5/2012 11:00</td>\n",
              "      <td>-5.6</td>\n",
              "      <td>-10.2</td>\n",
              "      <td>70</td>\n",
              "      <td>22</td>\n",
              "      <td>48.3</td>\n",
              "      <td>100.41</td>\n",
              "      <td>NaN</td>\n",
              "    </tr>\n",
              "    <tr>\n",
              "      <th>108</th>\n",
              "      <td>1/5/2012 12:00</td>\n",
              "      <td>-4.7</td>\n",
              "      <td>-9.6</td>\n",
              "      <td>69</td>\n",
              "      <td>20</td>\n",
              "      <td>48.3</td>\n",
              "      <td>100.38</td>\n",
              "      <td>NaN</td>\n",
              "    </tr>\n",
              "    <tr>\n",
              "      <th>109</th>\n",
              "      <td>1/5/2012 13:00</td>\n",
              "      <td>-4.4</td>\n",
              "      <td>-9.7</td>\n",
              "      <td>66</td>\n",
              "      <td>26</td>\n",
              "      <td>48.3</td>\n",
              "      <td>100.40</td>\n",
              "      <td>NaN</td>\n",
              "    </tr>\n",
              "    <tr>\n",
              "      <th>110</th>\n",
              "      <td>1/5/2012 14:00</td>\n",
              "      <td>-5.1</td>\n",
              "      <td>-10.7</td>\n",
              "      <td>65</td>\n",
              "      <td>22</td>\n",
              "      <td>48.3</td>\n",
              "      <td>100.46</td>\n",
              "      <td>NaN</td>\n",
              "    </tr>\n",
              "    <tr>\n",
              "      <th>...</th>\n",
              "      <td>...</td>\n",
              "      <td>...</td>\n",
              "      <td>...</td>\n",
              "      <td>...</td>\n",
              "      <td>...</td>\n",
              "      <td>...</td>\n",
              "      <td>...</td>\n",
              "      <td>...</td>\n",
              "    </tr>\n",
              "    <tr>\n",
              "      <th>8748</th>\n",
              "      <td>12/30/2012 12:00</td>\n",
              "      <td>-12.2</td>\n",
              "      <td>-15.7</td>\n",
              "      <td>75</td>\n",
              "      <td>26</td>\n",
              "      <td>48.3</td>\n",
              "      <td>100.91</td>\n",
              "      <td>NaN</td>\n",
              "    </tr>\n",
              "    <tr>\n",
              "      <th>8749</th>\n",
              "      <td>12/30/2012 13:00</td>\n",
              "      <td>-12.4</td>\n",
              "      <td>-16.2</td>\n",
              "      <td>73</td>\n",
              "      <td>37</td>\n",
              "      <td>48.3</td>\n",
              "      <td>100.92</td>\n",
              "      <td>NaN</td>\n",
              "    </tr>\n",
              "    <tr>\n",
              "      <th>8750</th>\n",
              "      <td>12/30/2012 14:00</td>\n",
              "      <td>-11.8</td>\n",
              "      <td>-16.1</td>\n",
              "      <td>70</td>\n",
              "      <td>37</td>\n",
              "      <td>48.3</td>\n",
              "      <td>100.96</td>\n",
              "      <td>NaN</td>\n",
              "    </tr>\n",
              "    <tr>\n",
              "      <th>8751</th>\n",
              "      <td>12/30/2012 15:00</td>\n",
              "      <td>-11.3</td>\n",
              "      <td>-15.6</td>\n",
              "      <td>70</td>\n",
              "      <td>32</td>\n",
              "      <td>48.3</td>\n",
              "      <td>101.05</td>\n",
              "      <td>NaN</td>\n",
              "    </tr>\n",
              "    <tr>\n",
              "      <th>8752</th>\n",
              "      <td>12/30/2012 16:00</td>\n",
              "      <td>-11.4</td>\n",
              "      <td>-15.5</td>\n",
              "      <td>72</td>\n",
              "      <td>26</td>\n",
              "      <td>48.3</td>\n",
              "      <td>101.15</td>\n",
              "      <td>NaN</td>\n",
              "    </tr>\n",
              "  </tbody>\n",
              "</table>\n",
              "<p>2014 rows × 8 columns</p>\n",
              "</div>"
            ],
            "text/plain": [
              "              dataHora  temperatura  tempOrvalho  ...  visibilidade  pressao  clima\n",
              "106     1/5/2012 10:00         -6.0        -10.0  ...          48.3   100.45    NaN\n",
              "107     1/5/2012 11:00         -5.6        -10.2  ...          48.3   100.41    NaN\n",
              "108     1/5/2012 12:00         -4.7         -9.6  ...          48.3   100.38    NaN\n",
              "109     1/5/2012 13:00         -4.4         -9.7  ...          48.3   100.40    NaN\n",
              "110     1/5/2012 14:00         -5.1        -10.7  ...          48.3   100.46    NaN\n",
              "...                ...          ...          ...  ...           ...      ...    ...\n",
              "8748  12/30/2012 12:00        -12.2        -15.7  ...          48.3   100.91    NaN\n",
              "8749  12/30/2012 13:00        -12.4        -16.2  ...          48.3   100.92    NaN\n",
              "8750  12/30/2012 14:00        -11.8        -16.1  ...          48.3   100.96    NaN\n",
              "8751  12/30/2012 15:00        -11.3        -15.6  ...          48.3   101.05    NaN\n",
              "8752  12/30/2012 16:00        -11.4        -15.5  ...          48.3   101.15    NaN\n",
              "\n",
              "[2014 rows x 8 columns]"
            ]
          },
          "metadata": {},
          "execution_count": 42
        }
      ]
    },
    {
      "cell_type": "markdown",
      "source": [
        "# Q14: Encontre todas as tuplas onde o Clima é 'Clear' e a 'humidadeRelativa' é maior do que 50"
      ],
      "metadata": {
        "id": "vU1N7xYfUsTF"
      }
    },
    {
      "cell_type": "code",
      "source": [
        "df[(df['clima']=='Clear') & (df['humidadeRelativa']>50)]"
      ],
      "metadata": {
        "colab": {
          "base_uri": "https://localhost:8080/",
          "height": 49
        },
        "id": "OIk4Vkx7sF8P",
        "outputId": "30bb2d47-deb6-4c2a-a4fe-069833497534"
      },
      "execution_count": 43,
      "outputs": [
        {
          "output_type": "execute_result",
          "data": {
            "text/html": [
              "<div>\n",
              "<style scoped>\n",
              "    .dataframe tbody tr th:only-of-type {\n",
              "        vertical-align: middle;\n",
              "    }\n",
              "\n",
              "    .dataframe tbody tr th {\n",
              "        vertical-align: top;\n",
              "    }\n",
              "\n",
              "    .dataframe thead th {\n",
              "        text-align: right;\n",
              "    }\n",
              "</style>\n",
              "<table border=\"1\" class=\"dataframe\">\n",
              "  <thead>\n",
              "    <tr style=\"text-align: right;\">\n",
              "      <th></th>\n",
              "      <th>dataHora</th>\n",
              "      <th>temperatura</th>\n",
              "      <th>tempOrvalho</th>\n",
              "      <th>humidadeRelativa</th>\n",
              "      <th>velocidadeVento</th>\n",
              "      <th>visibilidade</th>\n",
              "      <th>pressao</th>\n",
              "      <th>clima</th>\n",
              "    </tr>\n",
              "  </thead>\n",
              "  <tbody>\n",
              "  </tbody>\n",
              "</table>\n",
              "</div>"
            ],
            "text/plain": [
              "Empty DataFrame\n",
              "Columns: [dataHora, temperatura, tempOrvalho, humidadeRelativa, velocidadeVento, visibilidade, pressao, clima]\n",
              "Index: []"
            ]
          },
          "metadata": {},
          "execution_count": 43
        }
      ]
    },
    {
      "cell_type": "markdown",
      "source": [
        "# Q15: encontre todas as tuplas em que 'Clima' é Clear e 'humidade' é maior que 50 ou 'visibilidade' é acima de 40"
      ],
      "metadata": {
        "id": "ofhsMASZUywO"
      }
    },
    {
      "cell_type": "code",
      "source": [
        "df[(df['clima']=='Clear') & (df['humidadeRelativa']>50)|(df['visibilidade']>40)]"
      ],
      "metadata": {
        "colab": {
          "base_uri": "https://localhost:8080/",
          "height": 511
        },
        "id": "l3I5eguZt9YK",
        "outputId": "ea9b2a0c-fdeb-4a1b-8a72-90605ac59b82"
      },
      "execution_count": 44,
      "outputs": [
        {
          "output_type": "execute_result",
          "data": {
            "text/html": [
              "<div>\n",
              "<style scoped>\n",
              "    .dataframe tbody tr th:only-of-type {\n",
              "        vertical-align: middle;\n",
              "    }\n",
              "\n",
              "    .dataframe tbody tr th {\n",
              "        vertical-align: top;\n",
              "    }\n",
              "\n",
              "    .dataframe thead th {\n",
              "        text-align: right;\n",
              "    }\n",
              "</style>\n",
              "<table border=\"1\" class=\"dataframe\">\n",
              "  <thead>\n",
              "    <tr style=\"text-align: right;\">\n",
              "      <th></th>\n",
              "      <th>dataHora</th>\n",
              "      <th>temperatura</th>\n",
              "      <th>tempOrvalho</th>\n",
              "      <th>humidadeRelativa</th>\n",
              "      <th>velocidadeVento</th>\n",
              "      <th>visibilidade</th>\n",
              "      <th>pressao</th>\n",
              "      <th>clima</th>\n",
              "    </tr>\n",
              "  </thead>\n",
              "  <tbody>\n",
              "    <tr>\n",
              "      <th>106</th>\n",
              "      <td>1/5/2012 10:00</td>\n",
              "      <td>-6.0</td>\n",
              "      <td>-10.0</td>\n",
              "      <td>73</td>\n",
              "      <td>17</td>\n",
              "      <td>48.3</td>\n",
              "      <td>100.45</td>\n",
              "      <td>NaN</td>\n",
              "    </tr>\n",
              "    <tr>\n",
              "      <th>107</th>\n",
              "      <td>1/5/2012 11:00</td>\n",
              "      <td>-5.6</td>\n",
              "      <td>-10.2</td>\n",
              "      <td>70</td>\n",
              "      <td>22</td>\n",
              "      <td>48.3</td>\n",
              "      <td>100.41</td>\n",
              "      <td>NaN</td>\n",
              "    </tr>\n",
              "    <tr>\n",
              "      <th>108</th>\n",
              "      <td>1/5/2012 12:00</td>\n",
              "      <td>-4.7</td>\n",
              "      <td>-9.6</td>\n",
              "      <td>69</td>\n",
              "      <td>20</td>\n",
              "      <td>48.3</td>\n",
              "      <td>100.38</td>\n",
              "      <td>NaN</td>\n",
              "    </tr>\n",
              "    <tr>\n",
              "      <th>109</th>\n",
              "      <td>1/5/2012 13:00</td>\n",
              "      <td>-4.4</td>\n",
              "      <td>-9.7</td>\n",
              "      <td>66</td>\n",
              "      <td>26</td>\n",
              "      <td>48.3</td>\n",
              "      <td>100.40</td>\n",
              "      <td>NaN</td>\n",
              "    </tr>\n",
              "    <tr>\n",
              "      <th>110</th>\n",
              "      <td>1/5/2012 14:00</td>\n",
              "      <td>-5.1</td>\n",
              "      <td>-10.7</td>\n",
              "      <td>65</td>\n",
              "      <td>22</td>\n",
              "      <td>48.3</td>\n",
              "      <td>100.46</td>\n",
              "      <td>NaN</td>\n",
              "    </tr>\n",
              "    <tr>\n",
              "      <th>...</th>\n",
              "      <td>...</td>\n",
              "      <td>...</td>\n",
              "      <td>...</td>\n",
              "      <td>...</td>\n",
              "      <td>...</td>\n",
              "      <td>...</td>\n",
              "      <td>...</td>\n",
              "      <td>...</td>\n",
              "    </tr>\n",
              "    <tr>\n",
              "      <th>8748</th>\n",
              "      <td>12/30/2012 12:00</td>\n",
              "      <td>-12.2</td>\n",
              "      <td>-15.7</td>\n",
              "      <td>75</td>\n",
              "      <td>26</td>\n",
              "      <td>48.3</td>\n",
              "      <td>100.91</td>\n",
              "      <td>NaN</td>\n",
              "    </tr>\n",
              "    <tr>\n",
              "      <th>8749</th>\n",
              "      <td>12/30/2012 13:00</td>\n",
              "      <td>-12.4</td>\n",
              "      <td>-16.2</td>\n",
              "      <td>73</td>\n",
              "      <td>37</td>\n",
              "      <td>48.3</td>\n",
              "      <td>100.92</td>\n",
              "      <td>NaN</td>\n",
              "    </tr>\n",
              "    <tr>\n",
              "      <th>8750</th>\n",
              "      <td>12/30/2012 14:00</td>\n",
              "      <td>-11.8</td>\n",
              "      <td>-16.1</td>\n",
              "      <td>70</td>\n",
              "      <td>37</td>\n",
              "      <td>48.3</td>\n",
              "      <td>100.96</td>\n",
              "      <td>NaN</td>\n",
              "    </tr>\n",
              "    <tr>\n",
              "      <th>8751</th>\n",
              "      <td>12/30/2012 15:00</td>\n",
              "      <td>-11.3</td>\n",
              "      <td>-15.6</td>\n",
              "      <td>70</td>\n",
              "      <td>32</td>\n",
              "      <td>48.3</td>\n",
              "      <td>101.05</td>\n",
              "      <td>NaN</td>\n",
              "    </tr>\n",
              "    <tr>\n",
              "      <th>8752</th>\n",
              "      <td>12/30/2012 16:00</td>\n",
              "      <td>-11.4</td>\n",
              "      <td>-15.5</td>\n",
              "      <td>72</td>\n",
              "      <td>26</td>\n",
              "      <td>48.3</td>\n",
              "      <td>101.15</td>\n",
              "      <td>NaN</td>\n",
              "    </tr>\n",
              "  </tbody>\n",
              "</table>\n",
              "<p>2014 rows × 8 columns</p>\n",
              "</div>"
            ],
            "text/plain": [
              "              dataHora  temperatura  tempOrvalho  ...  visibilidade  pressao  clima\n",
              "106     1/5/2012 10:00         -6.0        -10.0  ...          48.3   100.45    NaN\n",
              "107     1/5/2012 11:00         -5.6        -10.2  ...          48.3   100.41    NaN\n",
              "108     1/5/2012 12:00         -4.7         -9.6  ...          48.3   100.38    NaN\n",
              "109     1/5/2012 13:00         -4.4         -9.7  ...          48.3   100.40    NaN\n",
              "110     1/5/2012 14:00         -5.1        -10.7  ...          48.3   100.46    NaN\n",
              "...                ...          ...          ...  ...           ...      ...    ...\n",
              "8748  12/30/2012 12:00        -12.2        -15.7  ...          48.3   100.91    NaN\n",
              "8749  12/30/2012 13:00        -12.4        -16.2  ...          48.3   100.92    NaN\n",
              "8750  12/30/2012 14:00        -11.8        -16.1  ...          48.3   100.96    NaN\n",
              "8751  12/30/2012 15:00        -11.3        -15.6  ...          48.3   101.05    NaN\n",
              "8752  12/30/2012 16:00        -11.4        -15.5  ...          48.3   101.15    NaN\n",
              "\n",
              "[2014 rows x 8 columns]"
            ]
          },
          "metadata": {},
          "execution_count": 44
        }
      ]
    }
  ]
}