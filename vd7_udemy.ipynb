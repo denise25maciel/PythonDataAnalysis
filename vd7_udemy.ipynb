{
  "nbformat": 4,
  "nbformat_minor": 0,
  "metadata": {
    "colab": {
      "name": "vd7_udemy.ipynb",
      "provenance": [],
      "toc_visible": true,
      "authorship_tag": "ABX9TyMQ8bB3fB0yqg/G3q1swe/h",
      "include_colab_link": true
    },
    "kernelspec": {
      "name": "python3",
      "display_name": "Python 3"
    },
    "language_info": {
      "name": "python"
    }
  },
  "cells": [
    {
      "cell_type": "markdown",
      "metadata": {
        "id": "view-in-github",
        "colab_type": "text"
      },
      "source": [
        "<a href=\"https://colab.research.google.com/github/denise25maciel/analiseDadosPython/blob/main/vd7_udemy.ipynb\" target=\"_parent\"><img src=\"https://colab.research.google.com/assets/colab-badge.svg\" alt=\"Open In Colab\"/></a>"
      ]
    },
    {
      "cell_type": "markdown",
      "source": [
        "# Projeto 7: dados udemy"
      ],
      "metadata": {
        "id": "XVa1G17dwRje"
      }
    },
    {
      "cell_type": "markdown",
      "source": [
        "O dataset contém dados de todos os cursos por assunto. "
      ],
      "metadata": {
        "id": "oTYjkIwnBIwQ"
      }
    },
    {
      "cell_type": "markdown",
      "source": [
        "# Etapa 1: importando arquivos e bibliotecas"
      ],
      "metadata": {
        "id": "2uh9K-S8wZxa"
      }
    },
    {
      "cell_type": "code",
      "source": [
        "import pandas as pd\n",
        "import seaborn as sns"
      ],
      "metadata": {
        "id": "nEfb-vj8wr-5"
      },
      "execution_count": null,
      "outputs": []
    },
    {
      "cell_type": "code",
      "source": [
        "df = pd.read_csv('/content/vd7_udemy.csv')"
      ],
      "metadata": {
        "id": "vn8eNJ5-wufq"
      },
      "execution_count": null,
      "outputs": []
    },
    {
      "cell_type": "markdown",
      "source": [
        "# Etapa 2: conhecendo os dados"
      ],
      "metadata": {
        "id": "7nKa-UZCwf_H"
      }
    },
    {
      "cell_type": "code",
      "source": [
        "df.head()"
      ],
      "metadata": {
        "colab": {
          "base_uri": "https://localhost:8080/",
          "height": 573
        },
        "id": "7ZH39QAqw6xS",
        "outputId": "3661b8f8-bbf9-4d16-ffa7-c3fcb0b0680a"
      },
      "execution_count": null,
      "outputs": [
        {
          "output_type": "execute_result",
          "data": {
            "text/html": [
              "<div>\n",
              "<style scoped>\n",
              "    .dataframe tbody tr th:only-of-type {\n",
              "        vertical-align: middle;\n",
              "    }\n",
              "\n",
              "    .dataframe tbody tr th {\n",
              "        vertical-align: top;\n",
              "    }\n",
              "\n",
              "    .dataframe thead th {\n",
              "        text-align: right;\n",
              "    }\n",
              "</style>\n",
              "<table border=\"1\" class=\"dataframe\">\n",
              "  <thead>\n",
              "    <tr style=\"text-align: right;\">\n",
              "      <th></th>\n",
              "      <th>course_id</th>\n",
              "      <th>course_title</th>\n",
              "      <th>is_paid</th>\n",
              "      <th>price</th>\n",
              "      <th>num_subscribers</th>\n",
              "      <th>num_reviews</th>\n",
              "      <th>num_lectures</th>\n",
              "      <th>level</th>\n",
              "      <th>content_duration</th>\n",
              "      <th>published_timestamp</th>\n",
              "      <th>subject</th>\n",
              "    </tr>\n",
              "  </thead>\n",
              "  <tbody>\n",
              "    <tr>\n",
              "      <th>0</th>\n",
              "      <td>288942</td>\n",
              "      <td>#1 Piano Hand Coordination: Play 10th Ballad i...</td>\n",
              "      <td>True</td>\n",
              "      <td>35</td>\n",
              "      <td>3137</td>\n",
              "      <td>18</td>\n",
              "      <td>68</td>\n",
              "      <td>All Levels</td>\n",
              "      <td>1.5 hours</td>\n",
              "      <td>2014-09-18T05:07:05Z</td>\n",
              "      <td>Musical Instruments</td>\n",
              "    </tr>\n",
              "    <tr>\n",
              "      <th>1</th>\n",
              "      <td>1170074</td>\n",
              "      <td>#10 Hand Coordination - Transfer Chord Ballad ...</td>\n",
              "      <td>True</td>\n",
              "      <td>75</td>\n",
              "      <td>1593</td>\n",
              "      <td>1</td>\n",
              "      <td>41</td>\n",
              "      <td>Intermediate Level</td>\n",
              "      <td>1 hour</td>\n",
              "      <td>2017-04-12T19:06:34Z</td>\n",
              "      <td>Musical Instruments</td>\n",
              "    </tr>\n",
              "    <tr>\n",
              "      <th>2</th>\n",
              "      <td>1193886</td>\n",
              "      <td>#12 Hand Coordination: Let your Hands dance wi...</td>\n",
              "      <td>True</td>\n",
              "      <td>75</td>\n",
              "      <td>482</td>\n",
              "      <td>1</td>\n",
              "      <td>47</td>\n",
              "      <td>Intermediate Level</td>\n",
              "      <td>1.5 hours</td>\n",
              "      <td>2017-04-26T18:34:57Z</td>\n",
              "      <td>Musical Instruments</td>\n",
              "    </tr>\n",
              "    <tr>\n",
              "      <th>3</th>\n",
              "      <td>1116700</td>\n",
              "      <td>#4 Piano Hand Coordination: Fun Piano Runs in ...</td>\n",
              "      <td>True</td>\n",
              "      <td>75</td>\n",
              "      <td>850</td>\n",
              "      <td>3</td>\n",
              "      <td>43</td>\n",
              "      <td>Intermediate Level</td>\n",
              "      <td>1 hour</td>\n",
              "      <td>2017-02-21T23:48:18Z</td>\n",
              "      <td>Musical Instruments</td>\n",
              "    </tr>\n",
              "    <tr>\n",
              "      <th>4</th>\n",
              "      <td>1120410</td>\n",
              "      <td>#5  Piano Hand Coordination:  Piano Runs in 2 ...</td>\n",
              "      <td>True</td>\n",
              "      <td>75</td>\n",
              "      <td>940</td>\n",
              "      <td>3</td>\n",
              "      <td>32</td>\n",
              "      <td>Intermediate Level</td>\n",
              "      <td>37 mins</td>\n",
              "      <td>2017-02-21T23:44:49Z</td>\n",
              "      <td>Musical Instruments</td>\n",
              "    </tr>\n",
              "  </tbody>\n",
              "</table>\n",
              "</div>"
            ],
            "text/plain": [
              "   course_id  ...              subject\n",
              "0     288942  ...  Musical Instruments\n",
              "1    1170074  ...  Musical Instruments\n",
              "2    1193886  ...  Musical Instruments\n",
              "3    1116700  ...  Musical Instruments\n",
              "4    1120410  ...  Musical Instruments\n",
              "\n",
              "[5 rows x 11 columns]"
            ]
          },
          "metadata": {},
          "execution_count": 3
        }
      ]
    },
    {
      "cell_type": "code",
      "source": [
        "df.columns"
      ],
      "metadata": {
        "colab": {
          "base_uri": "https://localhost:8080/"
        },
        "id": "CKkbCLAhw-RW",
        "outputId": "219ca95a-73c5-4e1d-b180-66763b33dd3b"
      },
      "execution_count": null,
      "outputs": [
        {
          "output_type": "execute_result",
          "data": {
            "text/plain": [
              "Index(['course_id', 'course_title', 'is_paid', 'price', 'num_subscribers',\n",
              "       'num_reviews', 'num_lectures', 'level', 'content_duration',\n",
              "       'published_timestamp', 'subject'],\n",
              "      dtype='object')"
            ]
          },
          "metadata": {},
          "execution_count": 4
        }
      ]
    },
    {
      "cell_type": "code",
      "source": [
        "df.shape"
      ],
      "metadata": {
        "id": "krtV0q7pxB3q",
        "outputId": "e83f24cf-3d8f-47c8-c2f5-ef528c445303",
        "colab": {
          "base_uri": "https://localhost:8080/"
        }
      },
      "execution_count": null,
      "outputs": [
        {
          "output_type": "execute_result",
          "data": {
            "text/plain": [
              "(3682, 11)"
            ]
          },
          "metadata": {},
          "execution_count": 5
        }
      ]
    },
    {
      "cell_type": "code",
      "source": [
        "df.isnull().sum()"
      ],
      "metadata": {
        "colab": {
          "base_uri": "https://localhost:8080/"
        },
        "id": "uH-VUR78Ct_E",
        "outputId": "7e824f45-49c6-40eb-e4d5-8872b174eda4"
      },
      "execution_count": null,
      "outputs": [
        {
          "output_type": "execute_result",
          "data": {
            "text/plain": [
              "course_id              0\n",
              "course_title           0\n",
              "is_paid                0\n",
              "price                  0\n",
              "num_subscribers        0\n",
              "num_reviews            0\n",
              "num_lectures           0\n",
              "level                  0\n",
              "content_duration       0\n",
              "published_timestamp    0\n",
              "subject                0\n",
              "dtype: int64"
            ]
          },
          "metadata": {},
          "execution_count": 6
        }
      ]
    },
    {
      "cell_type": "code",
      "source": [
        "sns.heatmap(df.isnull())"
      ],
      "metadata": {
        "id": "rsLfpbk1xEJj",
        "colab": {
          "base_uri": "https://localhost:8080/",
          "height": 385
        },
        "outputId": "16d6aef0-adaf-4aad-825f-a4a052629af5"
      },
      "execution_count": null,
      "outputs": [
        {
          "output_type": "execute_result",
          "data": {
            "text/plain": [
              "<matplotlib.axes._subplots.AxesSubplot at 0x7f6a84031c90>"
            ]
          },
          "metadata": {},
          "execution_count": 7
        },
        {
          "output_type": "display_data",
          "data": {
            "image/png": "[encoded data removed]",
            "text/plain": [
              "<Figure size 432x288 with 2 Axes>"
            ]
          },
          "metadata": {
            "needs_background": "light"
          }
        }
      ]
    },
    {
      "cell_type": "markdown",
      "source": [
        "# Etapa 3: respondendo as questões"
      ],
      "metadata": {
        "id": "To8QmgFrwlLx"
      }
    },
    {
      "cell_type": "markdown",
      "source": [
        "# Q1: Quais os diferentes assuntos (subjects) abordados nos cursos da Udemy?"
      ],
      "metadata": {
        "id": "ss_sNwTZBoxC"
      }
    },
    {
      "cell_type": "code",
      "execution_count": null,
      "metadata": {
        "id": "SE1AtAfbsyVh",
        "colab": {
          "base_uri": "https://localhost:8080/"
        },
        "outputId": "adbb00d8-d4c4-4afd-e748-958bfcc9b389"
      },
      "outputs": [
        {
          "output_type": "execute_result",
          "data": {
            "text/plain": [
              "Index(['course_id', 'course_title', 'is_paid', 'price', 'num_subscribers',\n",
              "       'num_reviews', 'num_lectures', 'level', 'content_duration',\n",
              "       'published_timestamp', 'subject'],\n",
              "      dtype='object')"
            ]
          },
          "metadata": {},
          "execution_count": 8
        }
      ],
      "source": [
        "df.columns"
      ]
    },
    {
      "cell_type": "code",
      "source": [
        "df.head()"
      ],
      "metadata": {
        "colab": {
          "base_uri": "https://localhost:8080/",
          "height": 573
        },
        "id": "okG-jtlbB7Pq",
        "outputId": "3ecef468-2935-4648-abaf-27727e98cc26"
      },
      "execution_count": null,
      "outputs": [
        {
          "output_type": "execute_result",
          "data": {
            "text/html": [
              "<div>\n",
              "<style scoped>\n",
              "    .dataframe tbody tr th:only-of-type {\n",
              "        vertical-align: middle;\n",
              "    }\n",
              "\n",
              "    .dataframe tbody tr th {\n",
              "        vertical-align: top;\n",
              "    }\n",
              "\n",
              "    .dataframe thead th {\n",
              "        text-align: right;\n",
              "    }\n",
              "</style>\n",
              "<table border=\"1\" class=\"dataframe\">\n",
              "  <thead>\n",
              "    <tr style=\"text-align: right;\">\n",
              "      <th></th>\n",
              "      <th>course_id</th>\n",
              "      <th>course_title</th>\n",
              "      <th>is_paid</th>\n",
              "      <th>price</th>\n",
              "      <th>num_subscribers</th>\n",
              "      <th>num_reviews</th>\n",
              "      <th>num_lectures</th>\n",
              "      <th>level</th>\n",
              "      <th>content_duration</th>\n",
              "      <th>published_timestamp</th>\n",
              "      <th>subject</th>\n",
              "    </tr>\n",
              "  </thead>\n",
              "  <tbody>\n",
              "    <tr>\n",
              "      <th>0</th>\n",
              "      <td>288942</td>\n",
              "      <td>#1 Piano Hand Coordination: Play 10th Ballad i...</td>\n",
              "      <td>True</td>\n",
              "      <td>35</td>\n",
              "      <td>3137</td>\n",
              "      <td>18</td>\n",
              "      <td>68</td>\n",
              "      <td>All Levels</td>\n",
              "      <td>1.5 hours</td>\n",
              "      <td>2014-09-18T05:07:05Z</td>\n",
              "      <td>Musical Instruments</td>\n",
              "    </tr>\n",
              "    <tr>\n",
              "      <th>1</th>\n",
              "      <td>1170074</td>\n",
              "      <td>#10 Hand Coordination - Transfer Chord Ballad ...</td>\n",
              "      <td>True</td>\n",
              "      <td>75</td>\n",
              "      <td>1593</td>\n",
              "      <td>1</td>\n",
              "      <td>41</td>\n",
              "      <td>Intermediate Level</td>\n",
              "      <td>1 hour</td>\n",
              "      <td>2017-04-12T19:06:34Z</td>\n",
              "      <td>Musical Instruments</td>\n",
              "    </tr>\n",
              "    <tr>\n",
              "      <th>2</th>\n",
              "      <td>1193886</td>\n",
              "      <td>#12 Hand Coordination: Let your Hands dance wi...</td>\n",
              "      <td>True</td>\n",
              "      <td>75</td>\n",
              "      <td>482</td>\n",
              "      <td>1</td>\n",
              "      <td>47</td>\n",
              "      <td>Intermediate Level</td>\n",
              "      <td>1.5 hours</td>\n",
              "      <td>2017-04-26T18:34:57Z</td>\n",
              "      <td>Musical Instruments</td>\n",
              "    </tr>\n",
              "    <tr>\n",
              "      <th>3</th>\n",
              "      <td>1116700</td>\n",
              "      <td>#4 Piano Hand Coordination: Fun Piano Runs in ...</td>\n",
              "      <td>True</td>\n",
              "      <td>75</td>\n",
              "      <td>850</td>\n",
              "      <td>3</td>\n",
              "      <td>43</td>\n",
              "      <td>Intermediate Level</td>\n",
              "      <td>1 hour</td>\n",
              "      <td>2017-02-21T23:48:18Z</td>\n",
              "      <td>Musical Instruments</td>\n",
              "    </tr>\n",
              "    <tr>\n",
              "      <th>4</th>\n",
              "      <td>1120410</td>\n",
              "      <td>#5  Piano Hand Coordination:  Piano Runs in 2 ...</td>\n",
              "      <td>True</td>\n",
              "      <td>75</td>\n",
              "      <td>940</td>\n",
              "      <td>3</td>\n",
              "      <td>32</td>\n",
              "      <td>Intermediate Level</td>\n",
              "      <td>37 mins</td>\n",
              "      <td>2017-02-21T23:44:49Z</td>\n",
              "      <td>Musical Instruments</td>\n",
              "    </tr>\n",
              "  </tbody>\n",
              "</table>\n",
              "</div>"
            ],
            "text/plain": [
              "   course_id  ...              subject\n",
              "0     288942  ...  Musical Instruments\n",
              "1    1170074  ...  Musical Instruments\n",
              "2    1193886  ...  Musical Instruments\n",
              "3    1116700  ...  Musical Instruments\n",
              "4    1120410  ...  Musical Instruments\n",
              "\n",
              "[5 rows x 11 columns]"
            ]
          },
          "metadata": {},
          "execution_count": 9
        }
      ]
    },
    {
      "cell_type": "code",
      "source": [
        "df['subject'].value_counts()"
      ],
      "metadata": {
        "colab": {
          "base_uri": "https://localhost:8080/"
        },
        "id": "zxnnzTAqB-VO",
        "outputId": "8d8ed6ec-100d-43a3-983b-47b104f57782"
      },
      "execution_count": null,
      "outputs": [
        {
          "output_type": "execute_result",
          "data": {
            "text/plain": [
              "Web Development        1200\n",
              "Business Finance       1199\n",
              "Musical Instruments     680\n",
              "Graphic Design          603\n",
              "Name: subject, dtype: int64"
            ]
          },
          "metadata": {},
          "execution_count": 10
        }
      ]
    },
    {
      "cell_type": "code",
      "source": [
        "df['subject'].unique()"
      ],
      "metadata": {
        "colab": {
          "base_uri": "https://localhost:8080/"
        },
        "id": "OGhuAH-tC4VB",
        "outputId": "34cd7e4b-3d1c-4b71-ac0a-e77ca5687532"
      },
      "execution_count": null,
      "outputs": [
        {
          "output_type": "execute_result",
          "data": {
            "text/plain": [
              "array(['Musical Instruments', 'Business Finance', 'Graphic Design',\n",
              "       'Web Development'], dtype=object)"
            ]
          },
          "metadata": {},
          "execution_count": 11
        }
      ]
    },
    {
      "cell_type": "code",
      "source": [
        "df['subject'].nunique()"
      ],
      "metadata": {
        "colab": {
          "base_uri": "https://localhost:8080/"
        },
        "id": "J_BBrnrtC_EU",
        "outputId": "d5d33440-8573-4dad-9a49-230672044cc3"
      },
      "execution_count": null,
      "outputs": [
        {
          "output_type": "execute_result",
          "data": {
            "text/plain": [
              "4"
            ]
          },
          "metadata": {},
          "execution_count": 12
        }
      ]
    },
    {
      "cell_type": "markdown",
      "source": [
        "# Q2: Quais dos cursos são gratuítos ou pagos?"
      ],
      "metadata": {
        "id": "1yKHl0WkDDAl"
      }
    },
    {
      "cell_type": "code",
      "source": [
        "df.columns"
      ],
      "metadata": {
        "colab": {
          "base_uri": "https://localhost:8080/"
        },
        "id": "Kpgt27NtDKcY",
        "outputId": "9091db0a-eb22-4839-a5ac-41c925d95a65"
      },
      "execution_count": null,
      "outputs": [
        {
          "output_type": "execute_result",
          "data": {
            "text/plain": [
              "Index(['course_id', 'course_title', 'is_paid', 'price', 'num_subscribers',\n",
              "       'num_reviews', 'num_lectures', 'level', 'content_duration',\n",
              "       'published_timestamp', 'subject'],\n",
              "      dtype='object')"
            ]
          },
          "metadata": {},
          "execution_count": 13
        }
      ]
    },
    {
      "cell_type": "code",
      "source": [
        "df.head()"
      ],
      "metadata": {
        "colab": {
          "base_uri": "https://localhost:8080/",
          "height": 573
        },
        "id": "xTHYw9-6DPFR",
        "outputId": "52875dcc-be68-4e26-cfee-fcdc08987225"
      },
      "execution_count": null,
      "outputs": [
        {
          "output_type": "execute_result",
          "data": {
            "text/html": [
              "<div>\n",
              "<style scoped>\n",
              "    .dataframe tbody tr th:only-of-type {\n",
              "        vertical-align: middle;\n",
              "    }\n",
              "\n",
              "    .dataframe tbody tr th {\n",
              "        vertical-align: top;\n",
              "    }\n",
              "\n",
              "    .dataframe thead th {\n",
              "        text-align: right;\n",
              "    }\n",
              "</style>\n",
              "<table border=\"1\" class=\"dataframe\">\n",
              "  <thead>\n",
              "    <tr style=\"text-align: right;\">\n",
              "      <th></th>\n",
              "      <th>course_id</th>\n",
              "      <th>course_title</th>\n",
              "      <th>is_paid</th>\n",
              "      <th>price</th>\n",
              "      <th>num_subscribers</th>\n",
              "      <th>num_reviews</th>\n",
              "      <th>num_lectures</th>\n",
              "      <th>level</th>\n",
              "      <th>content_duration</th>\n",
              "      <th>published_timestamp</th>\n",
              "      <th>subject</th>\n",
              "    </tr>\n",
              "  </thead>\n",
              "  <tbody>\n",
              "    <tr>\n",
              "      <th>0</th>\n",
              "      <td>288942</td>\n",
              "      <td>#1 Piano Hand Coordination: Play 10th Ballad i...</td>\n",
              "      <td>True</td>\n",
              "      <td>35</td>\n",
              "      <td>3137</td>\n",
              "      <td>18</td>\n",
              "      <td>68</td>\n",
              "      <td>All Levels</td>\n",
              "      <td>1.5 hours</td>\n",
              "      <td>2014-09-18T05:07:05Z</td>\n",
              "      <td>Musical Instruments</td>\n",
              "    </tr>\n",
              "    <tr>\n",
              "      <th>1</th>\n",
              "      <td>1170074</td>\n",
              "      <td>#10 Hand Coordination - Transfer Chord Ballad ...</td>\n",
              "      <td>True</td>\n",
              "      <td>75</td>\n",
              "      <td>1593</td>\n",
              "      <td>1</td>\n",
              "      <td>41</td>\n",
              "      <td>Intermediate Level</td>\n",
              "      <td>1 hour</td>\n",
              "      <td>2017-04-12T19:06:34Z</td>\n",
              "      <td>Musical Instruments</td>\n",
              "    </tr>\n",
              "    <tr>\n",
              "      <th>2</th>\n",
              "      <td>1193886</td>\n",
              "      <td>#12 Hand Coordination: Let your Hands dance wi...</td>\n",
              "      <td>True</td>\n",
              "      <td>75</td>\n",
              "      <td>482</td>\n",
              "      <td>1</td>\n",
              "      <td>47</td>\n",
              "      <td>Intermediate Level</td>\n",
              "      <td>1.5 hours</td>\n",
              "      <td>2017-04-26T18:34:57Z</td>\n",
              "      <td>Musical Instruments</td>\n",
              "    </tr>\n",
              "    <tr>\n",
              "      <th>3</th>\n",
              "      <td>1116700</td>\n",
              "      <td>#4 Piano Hand Coordination: Fun Piano Runs in ...</td>\n",
              "      <td>True</td>\n",
              "      <td>75</td>\n",
              "      <td>850</td>\n",
              "      <td>3</td>\n",
              "      <td>43</td>\n",
              "      <td>Intermediate Level</td>\n",
              "      <td>1 hour</td>\n",
              "      <td>2017-02-21T23:48:18Z</td>\n",
              "      <td>Musical Instruments</td>\n",
              "    </tr>\n",
              "    <tr>\n",
              "      <th>4</th>\n",
              "      <td>1120410</td>\n",
              "      <td>#5  Piano Hand Coordination:  Piano Runs in 2 ...</td>\n",
              "      <td>True</td>\n",
              "      <td>75</td>\n",
              "      <td>940</td>\n",
              "      <td>3</td>\n",
              "      <td>32</td>\n",
              "      <td>Intermediate Level</td>\n",
              "      <td>37 mins</td>\n",
              "      <td>2017-02-21T23:44:49Z</td>\n",
              "      <td>Musical Instruments</td>\n",
              "    </tr>\n",
              "  </tbody>\n",
              "</table>\n",
              "</div>"
            ],
            "text/plain": [
              "   course_id  ...              subject\n",
              "0     288942  ...  Musical Instruments\n",
              "1    1170074  ...  Musical Instruments\n",
              "2    1193886  ...  Musical Instruments\n",
              "3    1116700  ...  Musical Instruments\n",
              "4    1120410  ...  Musical Instruments\n",
              "\n",
              "[5 rows x 11 columns]"
            ]
          },
          "metadata": {},
          "execution_count": 14
        }
      ]
    },
    {
      "cell_type": "code",
      "source": [
        "df.groupby('is_paid').count()"
      ],
      "metadata": {
        "colab": {
          "base_uri": "https://localhost:8080/",
          "height": 163
        },
        "id": "PvwS35tIDTWV",
        "outputId": "dc967497-e35b-4c37-c22e-d8980058f844"
      },
      "execution_count": null,
      "outputs": [
        {
          "output_type": "execute_result",
          "data": {
            "text/html": [
              "<div>\n",
              "<style scoped>\n",
              "    .dataframe tbody tr th:only-of-type {\n",
              "        vertical-align: middle;\n",
              "    }\n",
              "\n",
              "    .dataframe tbody tr th {\n",
              "        vertical-align: top;\n",
              "    }\n",
              "\n",
              "    .dataframe thead th {\n",
              "        text-align: right;\n",
              "    }\n",
              "</style>\n",
              "<table border=\"1\" class=\"dataframe\">\n",
              "  <thead>\n",
              "    <tr style=\"text-align: right;\">\n",
              "      <th></th>\n",
              "      <th>course_id</th>\n",
              "      <th>course_title</th>\n",
              "      <th>price</th>\n",
              "      <th>num_subscribers</th>\n",
              "      <th>num_reviews</th>\n",
              "      <th>num_lectures</th>\n",
              "      <th>level</th>\n",
              "      <th>content_duration</th>\n",
              "      <th>published_timestamp</th>\n",
              "      <th>subject</th>\n",
              "    </tr>\n",
              "    <tr>\n",
              "      <th>is_paid</th>\n",
              "      <th></th>\n",
              "      <th></th>\n",
              "      <th></th>\n",
              "      <th></th>\n",
              "      <th></th>\n",
              "      <th></th>\n",
              "      <th></th>\n",
              "      <th></th>\n",
              "      <th></th>\n",
              "      <th></th>\n",
              "    </tr>\n",
              "  </thead>\n",
              "  <tbody>\n",
              "    <tr>\n",
              "      <th>False</th>\n",
              "      <td>310</td>\n",
              "      <td>310</td>\n",
              "      <td>310</td>\n",
              "      <td>310</td>\n",
              "      <td>310</td>\n",
              "      <td>310</td>\n",
              "      <td>310</td>\n",
              "      <td>310</td>\n",
              "      <td>310</td>\n",
              "      <td>310</td>\n",
              "    </tr>\n",
              "    <tr>\n",
              "      <th>True</th>\n",
              "      <td>3372</td>\n",
              "      <td>3372</td>\n",
              "      <td>3372</td>\n",
              "      <td>3372</td>\n",
              "      <td>3372</td>\n",
              "      <td>3372</td>\n",
              "      <td>3372</td>\n",
              "      <td>3372</td>\n",
              "      <td>3372</td>\n",
              "      <td>3372</td>\n",
              "    </tr>\n",
              "  </tbody>\n",
              "</table>\n",
              "</div>"
            ],
            "text/plain": [
              "         course_id  course_title  ...  published_timestamp  subject\n",
              "is_paid                           ...                              \n",
              "False          310           310  ...                  310      310\n",
              "True          3372          3372  ...                 3372     3372\n",
              "\n",
              "[2 rows x 10 columns]"
            ]
          },
          "metadata": {},
          "execution_count": 15
        }
      ]
    },
    {
      "cell_type": "code",
      "source": [
        "#alternativa\n",
        "df[df['is_paid']==True].count()"
      ],
      "metadata": {
        "colab": {
          "base_uri": "https://localhost:8080/"
        },
        "id": "HxtO2x-SDrir",
        "outputId": "d378b36f-4228-480b-ddf3-64e9bf61a688"
      },
      "execution_count": null,
      "outputs": [
        {
          "output_type": "execute_result",
          "data": {
            "text/plain": [
              "course_id              3372\n",
              "course_title           3372\n",
              "is_paid                3372\n",
              "price                  3372\n",
              "num_subscribers        3372\n",
              "num_reviews            3372\n",
              "num_lectures           3372\n",
              "level                  3372\n",
              "content_duration       3372\n",
              "published_timestamp    3372\n",
              "subject                3372\n",
              "dtype: int64"
            ]
          },
          "metadata": {},
          "execution_count": 16
        }
      ]
    },
    {
      "cell_type": "code",
      "source": [
        "#alternativa\n",
        "df[df['is_paid']==False].count()"
      ],
      "metadata": {
        "colab": {
          "base_uri": "https://localhost:8080/"
        },
        "id": "dFYLnjmYEPy0",
        "outputId": "12bffb6b-170a-4bb3-ce0e-7ca1f54054a0"
      },
      "execution_count": null,
      "outputs": [
        {
          "output_type": "execute_result",
          "data": {
            "text/plain": [
              "course_id              310\n",
              "course_title           310\n",
              "is_paid                310\n",
              "price                  310\n",
              "num_subscribers        310\n",
              "num_reviews            310\n",
              "num_lectures           310\n",
              "level                  310\n",
              "content_duration       310\n",
              "published_timestamp    310\n",
              "subject                310\n",
              "dtype: int64"
            ]
          },
          "metadata": {},
          "execution_count": 17
        }
      ]
    },
    {
      "cell_type": "markdown",
      "source": [
        "# Q3: apresentar os 5 cursos que mais vendem"
      ],
      "metadata": {
        "id": "SViUMdFVEcQT"
      }
    },
    {
      "cell_type": "code",
      "source": [
        "df.sort_values('num_subscribers', ascending = False).head(5)"
      ],
      "metadata": {
        "colab": {
          "base_uri": "https://localhost:8080/",
          "height": 435
        },
        "id": "zidPY9kFEg32",
        "outputId": "ce13eadf-7f2f-4b2c-bd30-69da373074c8"
      },
      "execution_count": null,
      "outputs": [
        {
          "output_type": "execute_result",
          "data": {
            "text/html": [
              "<div>\n",
              "<style scoped>\n",
              "    .dataframe tbody tr th:only-of-type {\n",
              "        vertical-align: middle;\n",
              "    }\n",
              "\n",
              "    .dataframe tbody tr th {\n",
              "        vertical-align: top;\n",
              "    }\n",
              "\n",
              "    .dataframe thead th {\n",
              "        text-align: right;\n",
              "    }\n",
              "</style>\n",
              "<table border=\"1\" class=\"dataframe\">\n",
              "  <thead>\n",
              "    <tr style=\"text-align: right;\">\n",
              "      <th></th>\n",
              "      <th>course_id</th>\n",
              "      <th>course_title</th>\n",
              "      <th>is_paid</th>\n",
              "      <th>price</th>\n",
              "      <th>num_subscribers</th>\n",
              "      <th>num_reviews</th>\n",
              "      <th>num_lectures</th>\n",
              "      <th>level</th>\n",
              "      <th>content_duration</th>\n",
              "      <th>published_timestamp</th>\n",
              "      <th>subject</th>\n",
              "    </tr>\n",
              "  </thead>\n",
              "  <tbody>\n",
              "    <tr>\n",
              "      <th>2230</th>\n",
              "      <td>41295</td>\n",
              "      <td>Learn HTML5 Programming From Scratch</td>\n",
              "      <td>False</td>\n",
              "      <td>Free</td>\n",
              "      <td>268923</td>\n",
              "      <td>8629</td>\n",
              "      <td>45</td>\n",
              "      <td>All Levels</td>\n",
              "      <td>10.5 hours</td>\n",
              "      <td>2013-02-14T07:03:41Z</td>\n",
              "      <td>Web Development</td>\n",
              "    </tr>\n",
              "    <tr>\n",
              "      <th>776</th>\n",
              "      <td>59014</td>\n",
              "      <td>Coding for Entrepreneurs Basic</td>\n",
              "      <td>False</td>\n",
              "      <td>Free</td>\n",
              "      <td>161029</td>\n",
              "      <td>279</td>\n",
              "      <td>27</td>\n",
              "      <td>Beginner Level</td>\n",
              "      <td>3.5 hours</td>\n",
              "      <td>2013-06-09T15:51:55Z</td>\n",
              "      <td>Web Development</td>\n",
              "    </tr>\n",
              "    <tr>\n",
              "      <th>3385</th>\n",
              "      <td>625204</td>\n",
              "      <td>The Web Developer Bootcamp</td>\n",
              "      <td>True</td>\n",
              "      <td>200</td>\n",
              "      <td>121584</td>\n",
              "      <td>27445</td>\n",
              "      <td>342</td>\n",
              "      <td>All Levels</td>\n",
              "      <td>43 hours</td>\n",
              "      <td>2015-11-02T21:13:27Z</td>\n",
              "      <td>Web Development</td>\n",
              "    </tr>\n",
              "    <tr>\n",
              "      <th>640</th>\n",
              "      <td>173548</td>\n",
              "      <td>Build Your First Website in 1 Week with HTML5 ...</td>\n",
              "      <td>False</td>\n",
              "      <td>Free</td>\n",
              "      <td>120291</td>\n",
              "      <td>5924</td>\n",
              "      <td>30</td>\n",
              "      <td>Beginner Level</td>\n",
              "      <td>3 hours</td>\n",
              "      <td>2014-04-08T16:21:30Z</td>\n",
              "      <td>Web Development</td>\n",
              "    </tr>\n",
              "    <tr>\n",
              "      <th>3316</th>\n",
              "      <td>764164</td>\n",
              "      <td>The Complete Web Developer Course 2.0</td>\n",
              "      <td>True</td>\n",
              "      <td>200</td>\n",
              "      <td>114512</td>\n",
              "      <td>22412</td>\n",
              "      <td>304</td>\n",
              "      <td>All Levels</td>\n",
              "      <td>30.5 hours</td>\n",
              "      <td>2016-03-08T22:28:36Z</td>\n",
              "      <td>Web Development</td>\n",
              "    </tr>\n",
              "  </tbody>\n",
              "</table>\n",
              "</div>"
            ],
            "text/plain": [
              "      course_id  ...          subject\n",
              "2230      41295  ...  Web Development\n",
              "776       59014  ...  Web Development\n",
              "3385     625204  ...  Web Development\n",
              "640      173548  ...  Web Development\n",
              "3316     764164  ...  Web Development\n",
              "\n",
              "[5 rows x 11 columns]"
            ]
          },
          "metadata": {},
          "execution_count": 18
        }
      ]
    },
    {
      "cell_type": "markdown",
      "source": [
        "# Q4: apresentar os 5 cursos que menos vendem"
      ],
      "metadata": {
        "id": "PNipE4qjFa-5"
      }
    },
    {
      "cell_type": "markdown",
      "source": [
        "Considerando qualquer valor"
      ],
      "metadata": {
        "id": "H4yvBgkEHjBG"
      }
    },
    {
      "cell_type": "code",
      "source": [
        "df.sort_values('num_subscribers', ascending = True).head(5)"
      ],
      "metadata": {
        "colab": {
          "base_uri": "https://localhost:8080/",
          "height": 487
        },
        "id": "l8kHSrWPHpLp",
        "outputId": "8156b947-a1a1-4814-cd19-e05a450ab132"
      },
      "execution_count": null,
      "outputs": [
        {
          "output_type": "execute_result",
          "data": {
            "text/html": [
              "<div>\n",
              "<style scoped>\n",
              "    .dataframe tbody tr th:only-of-type {\n",
              "        vertical-align: middle;\n",
              "    }\n",
              "\n",
              "    .dataframe tbody tr th {\n",
              "        vertical-align: top;\n",
              "    }\n",
              "\n",
              "    .dataframe thead th {\n",
              "        text-align: right;\n",
              "    }\n",
              "</style>\n",
              "<table border=\"1\" class=\"dataframe\">\n",
              "  <thead>\n",
              "    <tr style=\"text-align: right;\">\n",
              "      <th></th>\n",
              "      <th>course_id</th>\n",
              "      <th>course_title</th>\n",
              "      <th>is_paid</th>\n",
              "      <th>price</th>\n",
              "      <th>num_subscribers</th>\n",
              "      <th>num_reviews</th>\n",
              "      <th>num_lectures</th>\n",
              "      <th>level</th>\n",
              "      <th>content_duration</th>\n",
              "      <th>published_timestamp</th>\n",
              "      <th>subject</th>\n",
              "    </tr>\n",
              "  </thead>\n",
              "  <tbody>\n",
              "    <tr>\n",
              "      <th>649</th>\n",
              "      <td>1233314</td>\n",
              "      <td>Building a Balanced Scorecard</td>\n",
              "      <td>True</td>\n",
              "      <td>50</td>\n",
              "      <td>0</td>\n",
              "      <td>0</td>\n",
              "      <td>11</td>\n",
              "      <td>Intermediate Level</td>\n",
              "      <td>2 hours</td>\n",
              "      <td>2017-07-03T21:38:22Z</td>\n",
              "      <td>Business Finance</td>\n",
              "    </tr>\n",
              "    <tr>\n",
              "      <th>3259</th>\n",
              "      <td>1232282</td>\n",
              "      <td>The Cash Flow Statement - An Introduction</td>\n",
              "      <td>True</td>\n",
              "      <td>50</td>\n",
              "      <td>0</td>\n",
              "      <td>0</td>\n",
              "      <td>10</td>\n",
              "      <td>Beginner Level</td>\n",
              "      <td>1.5 hours</td>\n",
              "      <td>2017-06-28T16:05:51Z</td>\n",
              "      <td>Business Finance</td>\n",
              "    </tr>\n",
              "    <tr>\n",
              "      <th>3261</th>\n",
              "      <td>1275872</td>\n",
              "      <td>The Complete Adobe Spark Course</td>\n",
              "      <td>True</td>\n",
              "      <td>150</td>\n",
              "      <td>0</td>\n",
              "      <td>0</td>\n",
              "      <td>29</td>\n",
              "      <td>All Levels</td>\n",
              "      <td>2 hours</td>\n",
              "      <td>2017-07-03T17:39:57Z</td>\n",
              "      <td>Graphic Design</td>\n",
              "    </tr>\n",
              "    <tr>\n",
              "      <th>910</th>\n",
              "      <td>726314</td>\n",
              "      <td>Create Beautiful Image Maps for Your Website</td>\n",
              "      <td>True</td>\n",
              "      <td>20</td>\n",
              "      <td>0</td>\n",
              "      <td>0</td>\n",
              "      <td>8</td>\n",
              "      <td>Intermediate Level</td>\n",
              "      <td>37 mins</td>\n",
              "      <td>2016-01-18T17:56:36Z</td>\n",
              "      <td>Graphic Design</td>\n",
              "    </tr>\n",
              "    <tr>\n",
              "      <th>3328</th>\n",
              "      <td>715476</td>\n",
              "      <td>The Cuckoo Strategy to get European Funding</td>\n",
              "      <td>True</td>\n",
              "      <td>160</td>\n",
              "      <td>0</td>\n",
              "      <td>0</td>\n",
              "      <td>6</td>\n",
              "      <td>All Levels</td>\n",
              "      <td>1 hour</td>\n",
              "      <td>2016-01-06T02:38:23Z</td>\n",
              "      <td>Business Finance</td>\n",
              "    </tr>\n",
              "  </tbody>\n",
              "</table>\n",
              "</div>"
            ],
            "text/plain": [
              "      course_id  ...           subject\n",
              "649     1233314  ...  Business Finance\n",
              "3259    1232282  ...  Business Finance\n",
              "3261    1275872  ...    Graphic Design\n",
              "910      726314  ...    Graphic Design\n",
              "3328     715476  ...  Business Finance\n",
              "\n",
              "[5 rows x 11 columns]"
            ]
          },
          "metadata": {},
          "execution_count": 19
        }
      ]
    },
    {
      "cell_type": "markdown",
      "source": [
        "Considerando valores maiores que 1"
      ],
      "metadata": {
        "id": "0ZWtbzBsHsOD"
      }
    },
    {
      "cell_type": "code",
      "source": [
        "df.query('num_subscribers>0').sort_values('num_subscribers', ascending = True).head(5)"
      ],
      "metadata": {
        "colab": {
          "base_uri": "https://localhost:8080/",
          "height": 539
        },
        "id": "nie5cvkAFgei",
        "outputId": "a163ad22-59d2-4670-b87b-ec2c3425706a"
      },
      "execution_count": null,
      "outputs": [
        {
          "output_type": "execute_result",
          "data": {
            "text/html": [
              "<div>\n",
              "<style scoped>\n",
              "    .dataframe tbody tr th:only-of-type {\n",
              "        vertical-align: middle;\n",
              "    }\n",
              "\n",
              "    .dataframe tbody tr th {\n",
              "        vertical-align: top;\n",
              "    }\n",
              "\n",
              "    .dataframe thead th {\n",
              "        text-align: right;\n",
              "    }\n",
              "</style>\n",
              "<table border=\"1\" class=\"dataframe\">\n",
              "  <thead>\n",
              "    <tr style=\"text-align: right;\">\n",
              "      <th></th>\n",
              "      <th>course_id</th>\n",
              "      <th>course_title</th>\n",
              "      <th>is_paid</th>\n",
              "      <th>price</th>\n",
              "      <th>num_subscribers</th>\n",
              "      <th>num_reviews</th>\n",
              "      <th>num_lectures</th>\n",
              "      <th>level</th>\n",
              "      <th>content_duration</th>\n",
              "      <th>published_timestamp</th>\n",
              "      <th>subject</th>\n",
              "    </tr>\n",
              "  </thead>\n",
              "  <tbody>\n",
              "    <tr>\n",
              "      <th>2253</th>\n",
              "      <td>1232728</td>\n",
              "      <td>Learn Loreena McKennitt Songs-Quicklessons Pia...</td>\n",
              "      <td>True</td>\n",
              "      <td>20</td>\n",
              "      <td>1</td>\n",
              "      <td>0</td>\n",
              "      <td>6</td>\n",
              "      <td>All Levels</td>\n",
              "      <td>34 mins</td>\n",
              "      <td>2017-05-29T03:40:21Z</td>\n",
              "      <td>Musical Instruments</td>\n",
              "    </tr>\n",
              "    <tr>\n",
              "      <th>167</th>\n",
              "      <td>872816</td>\n",
              "      <td>Adobe Illustrator in Under 10: Fast info at yo...</td>\n",
              "      <td>True</td>\n",
              "      <td>30</td>\n",
              "      <td>1</td>\n",
              "      <td>0</td>\n",
              "      <td>34</td>\n",
              "      <td>All Levels</td>\n",
              "      <td>3.5 hours</td>\n",
              "      <td>2016-06-23T03:51:13Z</td>\n",
              "      <td>Graphic Design</td>\n",
              "    </tr>\n",
              "    <tr>\n",
              "      <th>1612</th>\n",
              "      <td>1105636</td>\n",
              "      <td>How to Design A 2D Character in Illustrator</td>\n",
              "      <td>True</td>\n",
              "      <td>20</td>\n",
              "      <td>1</td>\n",
              "      <td>1</td>\n",
              "      <td>9</td>\n",
              "      <td>Beginner Level</td>\n",
              "      <td>1 hour</td>\n",
              "      <td>2017-02-08T22:04:43Z</td>\n",
              "      <td>Graphic Design</td>\n",
              "    </tr>\n",
              "    <tr>\n",
              "      <th>505</th>\n",
              "      <td>1276364</td>\n",
              "      <td>Bitcoin &amp; Ethereum Course (2 Course Bundle)</td>\n",
              "      <td>True</td>\n",
              "      <td>200</td>\n",
              "      <td>1</td>\n",
              "      <td>0</td>\n",
              "      <td>52</td>\n",
              "      <td>All Levels</td>\n",
              "      <td>2.5 hours</td>\n",
              "      <td>2017-07-05T19:06:26Z</td>\n",
              "      <td>Business Finance</td>\n",
              "    </tr>\n",
              "    <tr>\n",
              "      <th>2982</th>\n",
              "      <td>1165780</td>\n",
              "      <td>Ratio analysis for bankers and credit analysts</td>\n",
              "      <td>True</td>\n",
              "      <td>20</td>\n",
              "      <td>1</td>\n",
              "      <td>0</td>\n",
              "      <td>13</td>\n",
              "      <td>Beginner Level</td>\n",
              "      <td>3 hours</td>\n",
              "      <td>2017-04-12T16:55:26Z</td>\n",
              "      <td>Business Finance</td>\n",
              "    </tr>\n",
              "  </tbody>\n",
              "</table>\n",
              "</div>"
            ],
            "text/plain": [
              "      course_id  ...              subject\n",
              "2253    1232728  ...  Musical Instruments\n",
              "167      872816  ...       Graphic Design\n",
              "1612    1105636  ...       Graphic Design\n",
              "505     1276364  ...     Business Finance\n",
              "2982    1165780  ...     Business Finance\n",
              "\n",
              "[5 rows x 11 columns]"
            ]
          },
          "metadata": {},
          "execution_count": 20
        }
      ]
    },
    {
      "cell_type": "markdown",
      "source": [
        "# Q5: apresente todos os cursos de design gráfico em que o preço é menor do que 100"
      ],
      "metadata": {
        "id": "PZG21kNYICi9"
      }
    },
    {
      "cell_type": "code",
      "source": [
        "df.dtypes"
      ],
      "metadata": {
        "colab": {
          "base_uri": "https://localhost:8080/"
        },
        "id": "19BzF7RnKfWb",
        "outputId": "e15078a6-4bb6-4d7a-dafc-05817e68baf2"
      },
      "execution_count": null,
      "outputs": [
        {
          "output_type": "execute_result",
          "data": {
            "text/plain": [
              "course_id               int64\n",
              "course_title           object\n",
              "is_paid                  bool\n",
              "price                  object\n",
              "num_subscribers         int64\n",
              "num_reviews             int64\n",
              "num_lectures            int64\n",
              "level                  object\n",
              "content_duration       object\n",
              "published_timestamp    object\n",
              "subject                object\n",
              "dtype: object"
            ]
          },
          "metadata": {},
          "execution_count": 21
        }
      ]
    },
    {
      "cell_type": "markdown",
      "source": [
        "Convertendo coluna price para inteiro para que sejam realizadas comparações matemáticas\n",
        "\n",
        "1.   Inicialmente vamos substituir a strig 'Free por 0'\n",
        "2.   Depois realizamos a conversão\n",
        "\n"
      ],
      "metadata": {
        "id": "N5ut1wvgKmGw"
      }
    },
    {
      "cell_type": "code",
      "source": [
        "df['price'].value_counts()"
      ],
      "metadata": {
        "colab": {
          "base_uri": "https://localhost:8080/"
        },
        "id": "alBjY5ZDK146",
        "outputId": "526d807b-9541-4eb3-e78f-0837b08a9655"
      },
      "execution_count": null,
      "outputs": [
        {
          "output_type": "execute_result",
          "data": {
            "text/plain": [
              "20      830\n",
              "50      468\n",
              "Free    310\n",
              "200     295\n",
              "40      217\n",
              "30      170\n",
              "25      154\n",
              "95      152\n",
              "100     133\n",
              "195     127\n",
              "35      116\n",
              "150      88\n",
              "45       83\n",
              "75       81\n",
              "60       75\n",
              "120      37\n",
              "55       35\n",
              "85       31\n",
              "125      30\n",
              "65       30\n",
              "80       29\n",
              "145      27\n",
              "70       26\n",
              "90       19\n",
              "180      17\n",
              "115      16\n",
              "175      13\n",
              "105      11\n",
              "190      10\n",
              "140      10\n",
              "135       8\n",
              "110       8\n",
              "185       6\n",
              "165       6\n",
              "170       5\n",
              "160       4\n",
              "130       3\n",
              "155       2\n",
              "Name: price, dtype: int64"
            ]
          },
          "metadata": {},
          "execution_count": 22
        }
      ]
    },
    {
      "cell_type": "code",
      "source": [
        "df.loc[df.price=='Free','price']=0\n",
        "# a opção .map() não foi utilizada porque objetiva-se substituir apenas um dos valores da coluna\n"
      ],
      "metadata": {
        "id": "XUnsvA1hINK5"
      },
      "execution_count": null,
      "outputs": []
    },
    {
      "cell_type": "code",
      "source": [
        "df['price'].value_counts()"
      ],
      "metadata": {
        "colab": {
          "base_uri": "https://localhost:8080/"
        },
        "id": "RyJSjerZLu1G",
        "outputId": "4e5a9ca8-bd02-4f85-d2ca-06fca56ddd20"
      },
      "execution_count": null,
      "outputs": [
        {
          "output_type": "execute_result",
          "data": {
            "text/plain": [
              "20     830\n",
              "50     468\n",
              "0      310\n",
              "200    295\n",
              "40     217\n",
              "30     170\n",
              "25     154\n",
              "95     152\n",
              "100    133\n",
              "195    127\n",
              "35     116\n",
              "150     88\n",
              "45      83\n",
              "75      81\n",
              "60      75\n",
              "120     37\n",
              "55      35\n",
              "85      31\n",
              "65      30\n",
              "125     30\n",
              "80      29\n",
              "145     27\n",
              "70      26\n",
              "90      19\n",
              "180     17\n",
              "115     16\n",
              "175     13\n",
              "105     11\n",
              "140     10\n",
              "190     10\n",
              "135      8\n",
              "110      8\n",
              "165      6\n",
              "185      6\n",
              "170      5\n",
              "160      4\n",
              "130      3\n",
              "155      2\n",
              "Name: price, dtype: int64"
            ]
          },
          "metadata": {},
          "execution_count": 24
        }
      ]
    },
    {
      "cell_type": "markdown",
      "source": [
        "Convertendo para inteiro"
      ],
      "metadata": {
        "id": "ohTvWofuNcLD"
      }
    },
    {
      "cell_type": "code",
      "source": [
        "df[\"price\"] = pd.to_numeric(df[\"price\"])"
      ],
      "metadata": {
        "id": "cyaSOYHSNZBP"
      },
      "execution_count": null,
      "outputs": []
    },
    {
      "cell_type": "code",
      "source": [
        "df.columns"
      ],
      "metadata": {
        "colab": {
          "base_uri": "https://localhost:8080/"
        },
        "id": "CubkmqMrM9xv",
        "outputId": "e35fa4a8-4f29-4e61-bc8b-93c4593cdf1e"
      },
      "execution_count": null,
      "outputs": [
        {
          "output_type": "execute_result",
          "data": {
            "text/plain": [
              "Index(['course_id', 'course_title', 'is_paid', 'price', 'num_subscribers',\n",
              "       'num_reviews', 'num_lectures', 'level', 'content_duration',\n",
              "       'published_timestamp', 'subject'],\n",
              "      dtype='object')"
            ]
          },
          "metadata": {},
          "execution_count": 26
        }
      ]
    },
    {
      "cell_type": "code",
      "source": [
        "df.query('price<=100 & subject ==\"Web Development\"')"
      ],
      "metadata": {
        "colab": {
          "base_uri": "https://localhost:8080/",
          "height": 652
        },
        "id": "_NbsIpqZNEJ9",
        "outputId": "88b21920-fb13-41cd-a144-efa0bbb1d5ed"
      },
      "execution_count": null,
      "outputs": [
        {
          "output_type": "execute_result",
          "data": {
            "text/html": [
              "<div>\n",
              "<style scoped>\n",
              "    .dataframe tbody tr th:only-of-type {\n",
              "        vertical-align: middle;\n",
              "    }\n",
              "\n",
              "    .dataframe tbody tr th {\n",
              "        vertical-align: top;\n",
              "    }\n",
              "\n",
              "    .dataframe thead th {\n",
              "        text-align: right;\n",
              "    }\n",
              "</style>\n",
              "<table border=\"1\" class=\"dataframe\">\n",
              "  <thead>\n",
              "    <tr style=\"text-align: right;\">\n",
              "      <th></th>\n",
              "      <th>course_id</th>\n",
              "      <th>course_title</th>\n",
              "      <th>is_paid</th>\n",
              "      <th>price</th>\n",
              "      <th>num_subscribers</th>\n",
              "      <th>num_reviews</th>\n",
              "      <th>num_lectures</th>\n",
              "      <th>level</th>\n",
              "      <th>content_duration</th>\n",
              "      <th>published_timestamp</th>\n",
              "      <th>subject</th>\n",
              "    </tr>\n",
              "  </thead>\n",
              "  <tbody>\n",
              "    <tr>\n",
              "      <th>11</th>\n",
              "      <td>64605</td>\n",
              "      <td>1 Hour CSS</td>\n",
              "      <td>True</td>\n",
              "      <td>100</td>\n",
              "      <td>18324</td>\n",
              "      <td>333</td>\n",
              "      <td>16</td>\n",
              "      <td>Beginner Level</td>\n",
              "      <td>1 hour</td>\n",
              "      <td>2013-07-09T20:27:14Z</td>\n",
              "      <td>Web Development</td>\n",
              "    </tr>\n",
              "    <tr>\n",
              "      <th>14</th>\n",
              "      <td>72262</td>\n",
              "      <td>1 hour jQuery</td>\n",
              "      <td>True</td>\n",
              "      <td>100</td>\n",
              "      <td>5456</td>\n",
              "      <td>133</td>\n",
              "      <td>25</td>\n",
              "      <td>Beginner Level</td>\n",
              "      <td>1 hour</td>\n",
              "      <td>2013-08-03T14:20:52Z</td>\n",
              "      <td>Web Development</td>\n",
              "    </tr>\n",
              "    <tr>\n",
              "      <th>50</th>\n",
              "      <td>665042</td>\n",
              "      <td>8 Beautiful Ruby on Rails Apps in 30 Days &amp; TD...</td>\n",
              "      <td>True</td>\n",
              "      <td>100</td>\n",
              "      <td>5962</td>\n",
              "      <td>466</td>\n",
              "      <td>132</td>\n",
              "      <td>All Levels</td>\n",
              "      <td>16 hours</td>\n",
              "      <td>2016-03-08T07:36:40Z</td>\n",
              "      <td>Web Development</td>\n",
              "    </tr>\n",
              "    <tr>\n",
              "      <th>56</th>\n",
              "      <td>304490</td>\n",
              "      <td>A 13 Hour SQL Server 2014 /ASP.NET/CSS/C#/jQue...</td>\n",
              "      <td>True</td>\n",
              "      <td>35</td>\n",
              "      <td>4183</td>\n",
              "      <td>231</td>\n",
              "      <td>86</td>\n",
              "      <td>Intermediate Level</td>\n",
              "      <td>14 hours</td>\n",
              "      <td>2014-10-12T06:29:05Z</td>\n",
              "      <td>Web Development</td>\n",
              "    </tr>\n",
              "    <tr>\n",
              "      <th>61</th>\n",
              "      <td>221920</td>\n",
              "      <td>A Beginner's Guide to the Meteor JavaScript Fr...</td>\n",
              "      <td>True</td>\n",
              "      <td>50</td>\n",
              "      <td>898</td>\n",
              "      <td>132</td>\n",
              "      <td>40</td>\n",
              "      <td>Beginner Level</td>\n",
              "      <td>2 hours</td>\n",
              "      <td>2014-09-27T02:27:57Z</td>\n",
              "      <td>Web Development</td>\n",
              "    </tr>\n",
              "    <tr>\n",
              "      <th>...</th>\n",
              "      <td>...</td>\n",
              "      <td>...</td>\n",
              "      <td>...</td>\n",
              "      <td>...</td>\n",
              "      <td>...</td>\n",
              "      <td>...</td>\n",
              "      <td>...</td>\n",
              "      <td>...</td>\n",
              "      <td>...</td>\n",
              "      <td>...</td>\n",
              "      <td>...</td>\n",
              "    </tr>\n",
              "    <tr>\n",
              "      <th>3665</th>\n",
              "      <td>968304</td>\n",
              "      <td>XQUERY :basics for beginners</td>\n",
              "      <td>True</td>\n",
              "      <td>40</td>\n",
              "      <td>937</td>\n",
              "      <td>2</td>\n",
              "      <td>6</td>\n",
              "      <td>All Levels</td>\n",
              "      <td>38 mins</td>\n",
              "      <td>2016-09-27T15:26:05Z</td>\n",
              "      <td>Web Development</td>\n",
              "    </tr>\n",
              "    <tr>\n",
              "      <th>3666</th>\n",
              "      <td>969170</td>\n",
              "      <td>XSD :basics for beginners</td>\n",
              "      <td>True</td>\n",
              "      <td>35</td>\n",
              "      <td>755</td>\n",
              "      <td>0</td>\n",
              "      <td>7</td>\n",
              "      <td>All Levels</td>\n",
              "      <td>42 mins</td>\n",
              "      <td>2016-09-27T18:01:26Z</td>\n",
              "      <td>Web Development</td>\n",
              "    </tr>\n",
              "    <tr>\n",
              "      <th>3667</th>\n",
              "      <td>968278</td>\n",
              "      <td>XSLT :basics for beginners</td>\n",
              "      <td>True</td>\n",
              "      <td>35</td>\n",
              "      <td>877</td>\n",
              "      <td>6</td>\n",
              "      <td>7</td>\n",
              "      <td>All Levels</td>\n",
              "      <td>32 mins</td>\n",
              "      <td>2016-09-27T15:14:59Z</td>\n",
              "      <td>Web Development</td>\n",
              "    </tr>\n",
              "    <tr>\n",
              "      <th>3670</th>\n",
              "      <td>560996</td>\n",
              "      <td>You can create Incredible Websites with HTML C...</td>\n",
              "      <td>True</td>\n",
              "      <td>100</td>\n",
              "      <td>11892</td>\n",
              "      <td>50</td>\n",
              "      <td>28</td>\n",
              "      <td>All Levels</td>\n",
              "      <td>2.5 hours</td>\n",
              "      <td>2015-09-12T01:35:41Z</td>\n",
              "      <td>Web Development</td>\n",
              "    </tr>\n",
              "    <tr>\n",
              "      <th>3679</th>\n",
              "      <td>631754</td>\n",
              "      <td>Zend Framework 2: Learn the PHP framework ZF2 ...</td>\n",
              "      <td>True</td>\n",
              "      <td>40</td>\n",
              "      <td>723</td>\n",
              "      <td>130</td>\n",
              "      <td>37</td>\n",
              "      <td>All Levels</td>\n",
              "      <td>6.5 hours</td>\n",
              "      <td>2015-11-11T18:55:45Z</td>\n",
              "      <td>Web Development</td>\n",
              "    </tr>\n",
              "  </tbody>\n",
              "</table>\n",
              "<p>887 rows × 11 columns</p>\n",
              "</div>"
            ],
            "text/plain": [
              "      course_id  ...          subject\n",
              "11        64605  ...  Web Development\n",
              "14        72262  ...  Web Development\n",
              "50       665042  ...  Web Development\n",
              "56       304490  ...  Web Development\n",
              "61       221920  ...  Web Development\n",
              "...         ...  ...              ...\n",
              "3665     968304  ...  Web Development\n",
              "3666     969170  ...  Web Development\n",
              "3667     968278  ...  Web Development\n",
              "3670     560996  ...  Web Development\n",
              "3679     631754  ...  Web Development\n",
              "\n",
              "[887 rows x 11 columns]"
            ]
          },
          "metadata": {},
          "execution_count": 27
        }
      ]
    },
    {
      "cell_type": "code",
      "source": [
        "df[(df.price<=100) & (df.subject ==\"Web Development\")]"
      ],
      "metadata": {
        "colab": {
          "base_uri": "https://localhost:8080/",
          "height": 652
        },
        "id": "7zAxePlmNzom",
        "outputId": "919619b2-38f7-44d9-9d9e-2065fa88a189"
      },
      "execution_count": null,
      "outputs": [
        {
          "output_type": "execute_result",
          "data": {
            "text/html": [
              "<div>\n",
              "<style scoped>\n",
              "    .dataframe tbody tr th:only-of-type {\n",
              "        vertical-align: middle;\n",
              "    }\n",
              "\n",
              "    .dataframe tbody tr th {\n",
              "        vertical-align: top;\n",
              "    }\n",
              "\n",
              "    .dataframe thead th {\n",
              "        text-align: right;\n",
              "    }\n",
              "</style>\n",
              "<table border=\"1\" class=\"dataframe\">\n",
              "  <thead>\n",
              "    <tr style=\"text-align: right;\">\n",
              "      <th></th>\n",
              "      <th>course_id</th>\n",
              "      <th>course_title</th>\n",
              "      <th>is_paid</th>\n",
              "      <th>price</th>\n",
              "      <th>num_subscribers</th>\n",
              "      <th>num_reviews</th>\n",
              "      <th>num_lectures</th>\n",
              "      <th>level</th>\n",
              "      <th>content_duration</th>\n",
              "      <th>published_timestamp</th>\n",
              "      <th>subject</th>\n",
              "    </tr>\n",
              "  </thead>\n",
              "  <tbody>\n",
              "    <tr>\n",
              "      <th>11</th>\n",
              "      <td>64605</td>\n",
              "      <td>1 Hour CSS</td>\n",
              "      <td>True</td>\n",
              "      <td>100</td>\n",
              "      <td>18324</td>\n",
              "      <td>333</td>\n",
              "      <td>16</td>\n",
              "      <td>Beginner Level</td>\n",
              "      <td>1 hour</td>\n",
              "      <td>2013-07-09T20:27:14Z</td>\n",
              "      <td>Web Development</td>\n",
              "    </tr>\n",
              "    <tr>\n",
              "      <th>14</th>\n",
              "      <td>72262</td>\n",
              "      <td>1 hour jQuery</td>\n",
              "      <td>True</td>\n",
              "      <td>100</td>\n",
              "      <td>5456</td>\n",
              "      <td>133</td>\n",
              "      <td>25</td>\n",
              "      <td>Beginner Level</td>\n",
              "      <td>1 hour</td>\n",
              "      <td>2013-08-03T14:20:52Z</td>\n",
              "      <td>Web Development</td>\n",
              "    </tr>\n",
              "    <tr>\n",
              "      <th>50</th>\n",
              "      <td>665042</td>\n",
              "      <td>8 Beautiful Ruby on Rails Apps in 30 Days &amp; TD...</td>\n",
              "      <td>True</td>\n",
              "      <td>100</td>\n",
              "      <td>5962</td>\n",
              "      <td>466</td>\n",
              "      <td>132</td>\n",
              "      <td>All Levels</td>\n",
              "      <td>16 hours</td>\n",
              "      <td>2016-03-08T07:36:40Z</td>\n",
              "      <td>Web Development</td>\n",
              "    </tr>\n",
              "    <tr>\n",
              "      <th>56</th>\n",
              "      <td>304490</td>\n",
              "      <td>A 13 Hour SQL Server 2014 /ASP.NET/CSS/C#/jQue...</td>\n",
              "      <td>True</td>\n",
              "      <td>35</td>\n",
              "      <td>4183</td>\n",
              "      <td>231</td>\n",
              "      <td>86</td>\n",
              "      <td>Intermediate Level</td>\n",
              "      <td>14 hours</td>\n",
              "      <td>2014-10-12T06:29:05Z</td>\n",
              "      <td>Web Development</td>\n",
              "    </tr>\n",
              "    <tr>\n",
              "      <th>61</th>\n",
              "      <td>221920</td>\n",
              "      <td>A Beginner's Guide to the Meteor JavaScript Fr...</td>\n",
              "      <td>True</td>\n",
              "      <td>50</td>\n",
              "      <td>898</td>\n",
              "      <td>132</td>\n",
              "      <td>40</td>\n",
              "      <td>Beginner Level</td>\n",
              "      <td>2 hours</td>\n",
              "      <td>2014-09-27T02:27:57Z</td>\n",
              "      <td>Web Development</td>\n",
              "    </tr>\n",
              "    <tr>\n",
              "      <th>...</th>\n",
              "      <td>...</td>\n",
              "      <td>...</td>\n",
              "      <td>...</td>\n",
              "      <td>...</td>\n",
              "      <td>...</td>\n",
              "      <td>...</td>\n",
              "      <td>...</td>\n",
              "      <td>...</td>\n",
              "      <td>...</td>\n",
              "      <td>...</td>\n",
              "      <td>...</td>\n",
              "    </tr>\n",
              "    <tr>\n",
              "      <th>3665</th>\n",
              "      <td>968304</td>\n",
              "      <td>XQUERY :basics for beginners</td>\n",
              "      <td>True</td>\n",
              "      <td>40</td>\n",
              "      <td>937</td>\n",
              "      <td>2</td>\n",
              "      <td>6</td>\n",
              "      <td>All Levels</td>\n",
              "      <td>38 mins</td>\n",
              "      <td>2016-09-27T15:26:05Z</td>\n",
              "      <td>Web Development</td>\n",
              "    </tr>\n",
              "    <tr>\n",
              "      <th>3666</th>\n",
              "      <td>969170</td>\n",
              "      <td>XSD :basics for beginners</td>\n",
              "      <td>True</td>\n",
              "      <td>35</td>\n",
              "      <td>755</td>\n",
              "      <td>0</td>\n",
              "      <td>7</td>\n",
              "      <td>All Levels</td>\n",
              "      <td>42 mins</td>\n",
              "      <td>2016-09-27T18:01:26Z</td>\n",
              "      <td>Web Development</td>\n",
              "    </tr>\n",
              "    <tr>\n",
              "      <th>3667</th>\n",
              "      <td>968278</td>\n",
              "      <td>XSLT :basics for beginners</td>\n",
              "      <td>True</td>\n",
              "      <td>35</td>\n",
              "      <td>877</td>\n",
              "      <td>6</td>\n",
              "      <td>7</td>\n",
              "      <td>All Levels</td>\n",
              "      <td>32 mins</td>\n",
              "      <td>2016-09-27T15:14:59Z</td>\n",
              "      <td>Web Development</td>\n",
              "    </tr>\n",
              "    <tr>\n",
              "      <th>3670</th>\n",
              "      <td>560996</td>\n",
              "      <td>You can create Incredible Websites with HTML C...</td>\n",
              "      <td>True</td>\n",
              "      <td>100</td>\n",
              "      <td>11892</td>\n",
              "      <td>50</td>\n",
              "      <td>28</td>\n",
              "      <td>All Levels</td>\n",
              "      <td>2.5 hours</td>\n",
              "      <td>2015-09-12T01:35:41Z</td>\n",
              "      <td>Web Development</td>\n",
              "    </tr>\n",
              "    <tr>\n",
              "      <th>3679</th>\n",
              "      <td>631754</td>\n",
              "      <td>Zend Framework 2: Learn the PHP framework ZF2 ...</td>\n",
              "      <td>True</td>\n",
              "      <td>40</td>\n",
              "      <td>723</td>\n",
              "      <td>130</td>\n",
              "      <td>37</td>\n",
              "      <td>All Levels</td>\n",
              "      <td>6.5 hours</td>\n",
              "      <td>2015-11-11T18:55:45Z</td>\n",
              "      <td>Web Development</td>\n",
              "    </tr>\n",
              "  </tbody>\n",
              "</table>\n",
              "<p>887 rows × 11 columns</p>\n",
              "</div>"
            ],
            "text/plain": [
              "      course_id  ...          subject\n",
              "11        64605  ...  Web Development\n",
              "14        72262  ...  Web Development\n",
              "50       665042  ...  Web Development\n",
              "56       304490  ...  Web Development\n",
              "61       221920  ...  Web Development\n",
              "...         ...  ...              ...\n",
              "3665     968304  ...  Web Development\n",
              "3666     969170  ...  Web Development\n",
              "3667     968278  ...  Web Development\n",
              "3670     560996  ...  Web Development\n",
              "3679     631754  ...  Web Development\n",
              "\n",
              "[887 rows x 11 columns]"
            ]
          },
          "metadata": {},
          "execution_count": 28
        }
      ]
    },
    {
      "cell_type": "markdown",
      "source": [
        "#Q5: liste todos os cursos que estão relacionados com Python"
      ],
      "metadata": {
        "id": "jqk4_0SiOPuU"
      }
    },
    {
      "cell_type": "code",
      "source": [
        "df[df['course_title'].str.contains('Python')].count()"
      ],
      "metadata": {
        "colab": {
          "base_uri": "https://localhost:8080/"
        },
        "id": "Jr1A86aTNLCc",
        "outputId": "a29bb041-91f5-4fbd-e92b-b3395aec1caf"
      },
      "execution_count": null,
      "outputs": [
        {
          "output_type": "execute_result",
          "data": {
            "text/plain": [
              "course_id              29\n",
              "course_title           29\n",
              "is_paid                29\n",
              "price                  29\n",
              "num_subscribers        29\n",
              "num_reviews            29\n",
              "num_lectures           29\n",
              "level                  29\n",
              "content_duration       29\n",
              "published_timestamp    29\n",
              "subject                29\n",
              "dtype: int64"
            ]
          },
          "metadata": {},
          "execution_count": 29
        }
      ]
    },
    {
      "cell_type": "code",
      "source": [
        "len(df[df['course_title'].str.contains('Python')])"
      ],
      "metadata": {
        "colab": {
          "base_uri": "https://localhost:8080/"
        },
        "id": "em-l0qwIUgbt",
        "outputId": "eb85fbf6-c57e-4e69-efd6-775484411251"
      },
      "execution_count": null,
      "outputs": [
        {
          "output_type": "execute_result",
          "data": {
            "text/plain": [
              "29"
            ]
          },
          "metadata": {},
          "execution_count": 30
        }
      ]
    },
    {
      "cell_type": "markdown",
      "source": [
        "# Q6: quantos cursos foram publicados no ano de 2015"
      ],
      "metadata": {
        "id": "T93imed5UVZG"
      }
    },
    {
      "cell_type": "code",
      "source": [
        "df.columns"
      ],
      "metadata": {
        "colab": {
          "base_uri": "https://localhost:8080/"
        },
        "id": "e7Qq9HsHUnc_",
        "outputId": "34857100-3c69-4ae0-9397-300805cffc1b"
      },
      "execution_count": null,
      "outputs": [
        {
          "output_type": "execute_result",
          "data": {
            "text/plain": [
              "Index(['course_id', 'course_title', 'is_paid', 'price', 'num_subscribers',\n",
              "       'num_reviews', 'num_lectures', 'level', 'content_duration',\n",
              "       'published_timestamp', 'subject'],\n",
              "      dtype='object')"
            ]
          },
          "metadata": {},
          "execution_count": 31
        }
      ]
    },
    {
      "cell_type": "code",
      "source": [
        "df['published_timestamp'].head()"
      ],
      "metadata": {
        "colab": {
          "base_uri": "https://localhost:8080/"
        },
        "id": "Y41QUvg7UxqN",
        "outputId": "4457219a-79bd-4976-fc40-1334b1b75552"
      },
      "execution_count": null,
      "outputs": [
        {
          "output_type": "execute_result",
          "data": {
            "text/plain": [
              "0    2014-09-18T05:07:05Z\n",
              "1    2017-04-12T19:06:34Z\n",
              "2    2017-04-26T18:34:57Z\n",
              "3    2017-02-21T23:48:18Z\n",
              "4    2017-02-21T23:44:49Z\n",
              "Name: published_timestamp, dtype: object"
            ]
          },
          "metadata": {},
          "execution_count": 32
        }
      ]
    },
    {
      "cell_type": "code",
      "source": [
        "df.dtypes"
      ],
      "metadata": {
        "colab": {
          "base_uri": "https://localhost:8080/"
        },
        "id": "BEJON8epVNkC",
        "outputId": "a167fb9a-a321-4a28-bf05-588f1383dc0f"
      },
      "execution_count": null,
      "outputs": [
        {
          "output_type": "execute_result",
          "data": {
            "text/plain": [
              "course_id               int64\n",
              "course_title           object\n",
              "is_paid                  bool\n",
              "price                   int64\n",
              "num_subscribers         int64\n",
              "num_reviews             int64\n",
              "num_lectures            int64\n",
              "level                  object\n",
              "content_duration       object\n",
              "published_timestamp    object\n",
              "subject                object\n",
              "dtype: object"
            ]
          },
          "metadata": {},
          "execution_count": 33
        }
      ]
    },
    {
      "cell_type": "markdown",
      "source": [
        "Converter coluna published_timestamp para data"
      ],
      "metadata": {
        "id": "mUzCLX9XVR_9"
      }
    },
    {
      "cell_type": "code",
      "source": [
        "df['published_timestamp'] = pd.to_datetime(df.published_timestamp)"
      ],
      "metadata": {
        "id": "U1GQqVO5VVYb"
      },
      "execution_count": null,
      "outputs": []
    },
    {
      "cell_type": "markdown",
      "source": [
        "Criando coluna para o ano"
      ],
      "metadata": {
        "id": "lFti6ckyVvNU"
      }
    },
    {
      "cell_type": "code",
      "source": [
        "df['year'] = df['published_timestamp'].dt.year"
      ],
      "metadata": {
        "id": "o_ineD1uVzjH"
      },
      "execution_count": null,
      "outputs": []
    },
    {
      "cell_type": "markdown",
      "source": [
        "Filtrando os dados\n",
        "\n"
      ],
      "metadata": {
        "id": "c1CkzvXzWC9i"
      }
    },
    {
      "cell_type": "code",
      "source": [
        "df[df.year ==2015]"
      ],
      "metadata": {
        "colab": {
          "base_uri": "https://localhost:8080/",
          "height": 1000
        },
        "id": "4kTIe_OyWCkP",
        "outputId": "01cc08f2-4541-4598-9fa1-b6fb1dd29d67"
      },
      "execution_count": null,
      "outputs": [
        {
          "output_type": "execute_result",
          "data": {
            "text/html": [
              "<div>\n",
              "<style scoped>\n",
              "    .dataframe tbody tr th:only-of-type {\n",
              "        vertical-align: middle;\n",
              "    }\n",
              "\n",
              "    .dataframe tbody tr th {\n",
              "        vertical-align: top;\n",
              "    }\n",
              "\n",
              "    .dataframe thead th {\n",
              "        text-align: right;\n",
              "    }\n",
              "</style>\n",
              "<table border=\"1\" class=\"dataframe\">\n",
              "  <thead>\n",
              "    <tr style=\"text-align: right;\">\n",
              "      <th></th>\n",
              "      <th>course_id</th>\n",
              "      <th>course_title</th>\n",
              "      <th>is_paid</th>\n",
              "      <th>price</th>\n",
              "      <th>num_subscribers</th>\n",
              "      <th>num_reviews</th>\n",
              "      <th>num_lectures</th>\n",
              "      <th>level</th>\n",
              "      <th>content_duration</th>\n",
              "      <th>published_timestamp</th>\n",
              "      <th>subject</th>\n",
              "      <th>year</th>\n",
              "    </tr>\n",
              "  </thead>\n",
              "  <tbody>\n",
              "    <tr>\n",
              "      <th>10</th>\n",
              "      <td>591880</td>\n",
              "      <td>1 - Concepts of Statistics For Beginners Step ...</td>\n",
              "      <td>True</td>\n",
              "      <td>200</td>\n",
              "      <td>273</td>\n",
              "      <td>4</td>\n",
              "      <td>15</td>\n",
              "      <td>Beginner Level</td>\n",
              "      <td>31 mins</td>\n",
              "      <td>2015-08-30 22:48:34+00:00</td>\n",
              "      <td>Business Finance</td>\n",
              "      <td>2015</td>\n",
              "    </tr>\n",
              "    <tr>\n",
              "      <th>16</th>\n",
              "      <td>302450</td>\n",
              "      <td>10 Numbers Every Business Owner Should Know</td>\n",
              "      <td>True</td>\n",
              "      <td>20</td>\n",
              "      <td>13</td>\n",
              "      <td>1</td>\n",
              "      <td>9</td>\n",
              "      <td>All Levels</td>\n",
              "      <td>1 hour</td>\n",
              "      <td>2015-03-08 19:11:24+00:00</td>\n",
              "      <td>Business Finance</td>\n",
              "      <td>2015</td>\n",
              "    </tr>\n",
              "    <tr>\n",
              "      <th>19</th>\n",
              "      <td>384928</td>\n",
              "      <td>101 Blues riffs - learn how the harmonica supe...</td>\n",
              "      <td>True</td>\n",
              "      <td>200</td>\n",
              "      <td>1350</td>\n",
              "      <td>65</td>\n",
              "      <td>55</td>\n",
              "      <td>Intermediate Level</td>\n",
              "      <td>6.5 hours</td>\n",
              "      <td>2015-01-04 21:14:31+00:00</td>\n",
              "      <td>Musical Instruments</td>\n",
              "      <td>2015</td>\n",
              "    </tr>\n",
              "    <tr>\n",
              "      <th>23</th>\n",
              "      <td>550842</td>\n",
              "      <td>16 Guitar Chords to Jam With - (Beginner - Int...</td>\n",
              "      <td>True</td>\n",
              "      <td>20</td>\n",
              "      <td>1224</td>\n",
              "      <td>19</td>\n",
              "      <td>20</td>\n",
              "      <td>Beginner Level</td>\n",
              "      <td>1 hour</td>\n",
              "      <td>2015-07-10 19:53:56+00:00</td>\n",
              "      <td>Musical Instruments</td>\n",
              "      <td>2015</td>\n",
              "    </tr>\n",
              "    <tr>\n",
              "      <th>26</th>\n",
              "      <td>486240</td>\n",
              "      <td>2 Easy Steps To Investment And Avoiding Traps</td>\n",
              "      <td>True</td>\n",
              "      <td>20</td>\n",
              "      <td>828</td>\n",
              "      <td>1</td>\n",
              "      <td>20</td>\n",
              "      <td>All Levels</td>\n",
              "      <td>1 hour</td>\n",
              "      <td>2015-04-27 23:18:59+00:00</td>\n",
              "      <td>Business Finance</td>\n",
              "      <td>2015</td>\n",
              "    </tr>\n",
              "    <tr>\n",
              "      <th>...</th>\n",
              "      <td>...</td>\n",
              "      <td>...</td>\n",
              "      <td>...</td>\n",
              "      <td>...</td>\n",
              "      <td>...</td>\n",
              "      <td>...</td>\n",
              "      <td>...</td>\n",
              "      <td>...</td>\n",
              "      <td>...</td>\n",
              "      <td>...</td>\n",
              "      <td>...</td>\n",
              "      <td>...</td>\n",
              "    </tr>\n",
              "    <tr>\n",
              "      <th>3675</th>\n",
              "      <td>551170</td>\n",
              "      <td>Your First Course on Piano</td>\n",
              "      <td>True</td>\n",
              "      <td>70</td>\n",
              "      <td>2002</td>\n",
              "      <td>34</td>\n",
              "      <td>33</td>\n",
              "      <td>Beginner Level</td>\n",
              "      <td>4 hours</td>\n",
              "      <td>2015-07-16 17:07:49+00:00</td>\n",
              "      <td>Musical Instruments</td>\n",
              "      <td>2015</td>\n",
              "    </tr>\n",
              "    <tr>\n",
              "      <th>3676</th>\n",
              "      <td>498488</td>\n",
              "      <td>Your First Successful Forex Trades - With Case...</td>\n",
              "      <td>True</td>\n",
              "      <td>200</td>\n",
              "      <td>1079</td>\n",
              "      <td>34</td>\n",
              "      <td>16</td>\n",
              "      <td>All Levels</td>\n",
              "      <td>2.5 hours</td>\n",
              "      <td>2015-05-26 20:48:48+00:00</td>\n",
              "      <td>Business Finance</td>\n",
              "      <td>2015</td>\n",
              "    </tr>\n",
              "    <tr>\n",
              "      <th>3677</th>\n",
              "      <td>328960</td>\n",
              "      <td>Your Own Site in 45 Min: The Complete Wordpres...</td>\n",
              "      <td>True</td>\n",
              "      <td>120</td>\n",
              "      <td>1566</td>\n",
              "      <td>29</td>\n",
              "      <td>36</td>\n",
              "      <td>All Levels</td>\n",
              "      <td>4 hours</td>\n",
              "      <td>2015-04-20 22:15:17+00:00</td>\n",
              "      <td>Web Development</td>\n",
              "      <td>2015</td>\n",
              "    </tr>\n",
              "    <tr>\n",
              "      <th>3678</th>\n",
              "      <td>552700</td>\n",
              "      <td>Your Second Course on Piano: Two Handed Playing</td>\n",
              "      <td>True</td>\n",
              "      <td>70</td>\n",
              "      <td>1018</td>\n",
              "      <td>12</td>\n",
              "      <td>22</td>\n",
              "      <td>Beginner Level</td>\n",
              "      <td>5 hours</td>\n",
              "      <td>2015-10-26 20:04:21+00:00</td>\n",
              "      <td>Musical Instruments</td>\n",
              "      <td>2015</td>\n",
              "    </tr>\n",
              "    <tr>\n",
              "      <th>3679</th>\n",
              "      <td>631754</td>\n",
              "      <td>Zend Framework 2: Learn the PHP framework ZF2 ...</td>\n",
              "      <td>True</td>\n",
              "      <td>40</td>\n",
              "      <td>723</td>\n",
              "      <td>130</td>\n",
              "      <td>37</td>\n",
              "      <td>All Levels</td>\n",
              "      <td>6.5 hours</td>\n",
              "      <td>2015-11-11 18:55:45+00:00</td>\n",
              "      <td>Web Development</td>\n",
              "      <td>2015</td>\n",
              "    </tr>\n",
              "  </tbody>\n",
              "</table>\n",
              "<p>1014 rows × 12 columns</p>\n",
              "</div>"
            ],
            "text/plain": [
              "      course_id  ...  year\n",
              "10       591880  ...  2015\n",
              "16       302450  ...  2015\n",
              "19       384928  ...  2015\n",
              "23       550842  ...  2015\n",
              "26       486240  ...  2015\n",
              "...         ...  ...   ...\n",
              "3675     551170  ...  2015\n",
              "3676     498488  ...  2015\n",
              "3677     328960  ...  2015\n",
              "3678     552700  ...  2015\n",
              "3679     631754  ...  2015\n",
              "\n",
              "[1014 rows x 12 columns]"
            ]
          },
          "metadata": {},
          "execution_count": 42
        }
      ]
    },
    {
      "cell_type": "markdown",
      "source": [
        "# Q7: qual o número máximo de inscritos em cada nível do curso"
      ],
      "metadata": {
        "id": "vpD2JeM8XYtP"
      }
    },
    {
      "cell_type": "code",
      "source": [
        "df.columns"
      ],
      "metadata": {
        "colab": {
          "base_uri": "https://localhost:8080/"
        },
        "id": "onk1yT1TXrCv",
        "outputId": "27b9bd6f-c6af-4b36-bf24-9b76a08fc3a3"
      },
      "execution_count": null,
      "outputs": [
        {
          "output_type": "execute_result",
          "data": {
            "text/plain": [
              "Index(['course_id', 'course_title', 'is_paid', 'price', 'num_subscribers',\n",
              "       'num_reviews', 'num_lectures', 'level', 'content_duration',\n",
              "       'published_timestamp', 'subject', 'year'],\n",
              "      dtype='object')"
            ]
          },
          "metadata": {},
          "execution_count": 44
        }
      ]
    },
    {
      "cell_type": "code",
      "source": [
        "df[['course_title', 'level']]\n",
        "#nota-se que a relação entre o título do curso e o nível é de 1 para um, logo não será necessário agrupamento adicional"
      ],
      "metadata": {
        "colab": {
          "base_uri": "https://localhost:8080/",
          "height": 423
        },
        "id": "wcTABgdwX22F",
        "outputId": "7b0e81b2-4545-42b8-97b7-52cbbe7237b3"
      },
      "execution_count": null,
      "outputs": [
        {
          "output_type": "execute_result",
          "data": {
            "text/html": [
              "<div>\n",
              "<style scoped>\n",
              "    .dataframe tbody tr th:only-of-type {\n",
              "        vertical-align: middle;\n",
              "    }\n",
              "\n",
              "    .dataframe tbody tr th {\n",
              "        vertical-align: top;\n",
              "    }\n",
              "\n",
              "    .dataframe thead th {\n",
              "        text-align: right;\n",
              "    }\n",
              "</style>\n",
              "<table border=\"1\" class=\"dataframe\">\n",
              "  <thead>\n",
              "    <tr style=\"text-align: right;\">\n",
              "      <th></th>\n",
              "      <th>course_title</th>\n",
              "      <th>level</th>\n",
              "    </tr>\n",
              "  </thead>\n",
              "  <tbody>\n",
              "    <tr>\n",
              "      <th>0</th>\n",
              "      <td>#1 Piano Hand Coordination: Play 10th Ballad i...</td>\n",
              "      <td>All Levels</td>\n",
              "    </tr>\n",
              "    <tr>\n",
              "      <th>1</th>\n",
              "      <td>#10 Hand Coordination - Transfer Chord Ballad ...</td>\n",
              "      <td>Intermediate Level</td>\n",
              "    </tr>\n",
              "    <tr>\n",
              "      <th>2</th>\n",
              "      <td>#12 Hand Coordination: Let your Hands dance wi...</td>\n",
              "      <td>Intermediate Level</td>\n",
              "    </tr>\n",
              "    <tr>\n",
              "      <th>3</th>\n",
              "      <td>#4 Piano Hand Coordination: Fun Piano Runs in ...</td>\n",
              "      <td>Intermediate Level</td>\n",
              "    </tr>\n",
              "    <tr>\n",
              "      <th>4</th>\n",
              "      <td>#5  Piano Hand Coordination:  Piano Runs in 2 ...</td>\n",
              "      <td>Intermediate Level</td>\n",
              "    </tr>\n",
              "    <tr>\n",
              "      <th>...</th>\n",
              "      <td>...</td>\n",
              "      <td>...</td>\n",
              "    </tr>\n",
              "    <tr>\n",
              "      <th>3677</th>\n",
              "      <td>Your Own Site in 45 Min: The Complete Wordpres...</td>\n",
              "      <td>All Levels</td>\n",
              "    </tr>\n",
              "    <tr>\n",
              "      <th>3678</th>\n",
              "      <td>Your Second Course on Piano: Two Handed Playing</td>\n",
              "      <td>Beginner Level</td>\n",
              "    </tr>\n",
              "    <tr>\n",
              "      <th>3679</th>\n",
              "      <td>Zend Framework 2: Learn the PHP framework ZF2 ...</td>\n",
              "      <td>All Levels</td>\n",
              "    </tr>\n",
              "    <tr>\n",
              "      <th>3680</th>\n",
              "      <td>Zoho Books Gestion Financière d'Entreprise pas...</td>\n",
              "      <td>All Levels</td>\n",
              "    </tr>\n",
              "    <tr>\n",
              "      <th>3681</th>\n",
              "      <td>Zombie Apocalypse Photoshop Actions</td>\n",
              "      <td>All Levels</td>\n",
              "    </tr>\n",
              "  </tbody>\n",
              "</table>\n",
              "<p>3682 rows × 2 columns</p>\n",
              "</div>"
            ],
            "text/plain": [
              "                                           course_title               level\n",
              "0     #1 Piano Hand Coordination: Play 10th Ballad i...          All Levels\n",
              "1     #10 Hand Coordination - Transfer Chord Ballad ...  Intermediate Level\n",
              "2     #12 Hand Coordination: Let your Hands dance wi...  Intermediate Level\n",
              "3     #4 Piano Hand Coordination: Fun Piano Runs in ...  Intermediate Level\n",
              "4     #5  Piano Hand Coordination:  Piano Runs in 2 ...  Intermediate Level\n",
              "...                                                 ...                 ...\n",
              "3677  Your Own Site in 45 Min: The Complete Wordpres...          All Levels\n",
              "3678    Your Second Course on Piano: Two Handed Playing      Beginner Level\n",
              "3679  Zend Framework 2: Learn the PHP framework ZF2 ...          All Levels\n",
              "3680  Zoho Books Gestion Financière d'Entreprise pas...          All Levels\n",
              "3681                Zombie Apocalypse Photoshop Actions          All Levels\n",
              "\n",
              "[3682 rows x 2 columns]"
            ]
          },
          "metadata": {},
          "execution_count": 49
        }
      ]
    },
    {
      "cell_type": "code",
      "source": [
        "df.columns"
      ],
      "metadata": {
        "colab": {
          "base_uri": "https://localhost:8080/"
        },
        "id": "wCuXEiu2Yqjg",
        "outputId": "a44f7634-a2e7-4f5e-a1a6-b955d3a09b0d"
      },
      "execution_count": null,
      "outputs": [
        {
          "output_type": "execute_result",
          "data": {
            "text/plain": [
              "Index(['course_id', 'course_title', 'is_paid', 'price', 'num_subscribers',\n",
              "       'num_reviews', 'num_lectures', 'level', 'content_duration',\n",
              "       'published_timestamp', 'subject', 'year'],\n",
              "      dtype='object')"
            ]
          },
          "metadata": {},
          "execution_count": 51
        }
      ]
    },
    {
      "cell_type": "code",
      "source": [
        "df[df[]]"
      ],
      "metadata": {
        "id": "cNwv9lLGYxaZ"
      },
      "execution_count": null,
      "outputs": []
    },
    {
      "cell_type": "code",
      "source": [
        "df.head()"
      ],
      "metadata": {
        "colab": {
          "base_uri": "https://localhost:8080/",
          "height": 573
        },
        "id": "D0wt7WvyXnnt",
        "outputId": "4a5ef8ff-0239-4e80-e2a9-9612ea8c394a"
      },
      "execution_count": null,
      "outputs": [
        {
          "output_type": "execute_result",
          "data": {
            "text/html": [
              "<div>\n",
              "<style scoped>\n",
              "    .dataframe tbody tr th:only-of-type {\n",
              "        vertical-align: middle;\n",
              "    }\n",
              "\n",
              "    .dataframe tbody tr th {\n",
              "        vertical-align: top;\n",
              "    }\n",
              "\n",
              "    .dataframe thead th {\n",
              "        text-align: right;\n",
              "    }\n",
              "</style>\n",
              "<table border=\"1\" class=\"dataframe\">\n",
              "  <thead>\n",
              "    <tr style=\"text-align: right;\">\n",
              "      <th></th>\n",
              "      <th>course_id</th>\n",
              "      <th>course_title</th>\n",
              "      <th>is_paid</th>\n",
              "      <th>price</th>\n",
              "      <th>num_subscribers</th>\n",
              "      <th>num_reviews</th>\n",
              "      <th>num_lectures</th>\n",
              "      <th>level</th>\n",
              "      <th>content_duration</th>\n",
              "      <th>published_timestamp</th>\n",
              "      <th>subject</th>\n",
              "      <th>year</th>\n",
              "    </tr>\n",
              "  </thead>\n",
              "  <tbody>\n",
              "    <tr>\n",
              "      <th>0</th>\n",
              "      <td>288942</td>\n",
              "      <td>#1 Piano Hand Coordination: Play 10th Ballad i...</td>\n",
              "      <td>True</td>\n",
              "      <td>35</td>\n",
              "      <td>3137</td>\n",
              "      <td>18</td>\n",
              "      <td>68</td>\n",
              "      <td>All Levels</td>\n",
              "      <td>1.5 hours</td>\n",
              "      <td>2014-09-18 05:07:05+00:00</td>\n",
              "      <td>Musical Instruments</td>\n",
              "      <td>2014</td>\n",
              "    </tr>\n",
              "    <tr>\n",
              "      <th>1</th>\n",
              "      <td>1170074</td>\n",
              "      <td>#10 Hand Coordination - Transfer Chord Ballad ...</td>\n",
              "      <td>True</td>\n",
              "      <td>75</td>\n",
              "      <td>1593</td>\n",
              "      <td>1</td>\n",
              "      <td>41</td>\n",
              "      <td>Intermediate Level</td>\n",
              "      <td>1 hour</td>\n",
              "      <td>2017-04-12 19:06:34+00:00</td>\n",
              "      <td>Musical Instruments</td>\n",
              "      <td>2017</td>\n",
              "    </tr>\n",
              "    <tr>\n",
              "      <th>2</th>\n",
              "      <td>1193886</td>\n",
              "      <td>#12 Hand Coordination: Let your Hands dance wi...</td>\n",
              "      <td>True</td>\n",
              "      <td>75</td>\n",
              "      <td>482</td>\n",
              "      <td>1</td>\n",
              "      <td>47</td>\n",
              "      <td>Intermediate Level</td>\n",
              "      <td>1.5 hours</td>\n",
              "      <td>2017-04-26 18:34:57+00:00</td>\n",
              "      <td>Musical Instruments</td>\n",
              "      <td>2017</td>\n",
              "    </tr>\n",
              "    <tr>\n",
              "      <th>3</th>\n",
              "      <td>1116700</td>\n",
              "      <td>#4 Piano Hand Coordination: Fun Piano Runs in ...</td>\n",
              "      <td>True</td>\n",
              "      <td>75</td>\n",
              "      <td>850</td>\n",
              "      <td>3</td>\n",
              "      <td>43</td>\n",
              "      <td>Intermediate Level</td>\n",
              "      <td>1 hour</td>\n",
              "      <td>2017-02-21 23:48:18+00:00</td>\n",
              "      <td>Musical Instruments</td>\n",
              "      <td>2017</td>\n",
              "    </tr>\n",
              "    <tr>\n",
              "      <th>4</th>\n",
              "      <td>1120410</td>\n",
              "      <td>#5  Piano Hand Coordination:  Piano Runs in 2 ...</td>\n",
              "      <td>True</td>\n",
              "      <td>75</td>\n",
              "      <td>940</td>\n",
              "      <td>3</td>\n",
              "      <td>32</td>\n",
              "      <td>Intermediate Level</td>\n",
              "      <td>37 mins</td>\n",
              "      <td>2017-02-21 23:44:49+00:00</td>\n",
              "      <td>Musical Instruments</td>\n",
              "      <td>2017</td>\n",
              "    </tr>\n",
              "  </tbody>\n",
              "</table>\n",
              "</div>"
            ],
            "text/plain": [
              "   course_id  ...  year\n",
              "0     288942  ...  2014\n",
              "1    1170074  ...  2017\n",
              "2    1193886  ...  2017\n",
              "3    1116700  ...  2017\n",
              "4    1120410  ...  2017\n",
              "\n",
              "[5 rows x 12 columns]"
            ]
          },
          "metadata": {},
          "execution_count": 43
        }
      ]
    },
    {
      "cell_type": "code",
      "source": [
        "df.columns"
      ],
      "metadata": {
        "colab": {
          "base_uri": "https://localhost:8080/"
        },
        "id": "quwja4sMZGCT",
        "outputId": "c1a9bb0a-6923-4798-c1eb-cd7c392dfb52"
      },
      "execution_count": 52,
      "outputs": [
        {
          "output_type": "execute_result",
          "data": {
            "text/plain": [
              "Index(['course_id', 'course_title', 'is_paid', 'price', 'num_subscribers',\n",
              "       'num_reviews', 'num_lectures', 'level', 'content_duration',\n",
              "       'published_timestamp', 'subject', 'year'],\n",
              "      dtype='object')"
            ]
          },
          "metadata": {},
          "execution_count": 52
        }
      ]
    },
    {
      "cell_type": "code",
      "source": [
        "df.groupby('level').num_subscribers.max()"
      ],
      "metadata": {
        "colab": {
          "base_uri": "https://localhost:8080/"
        },
        "id": "9WLCtMBwZII8",
        "outputId": "13591255-6cac-4bef-a4ce-d700e4b2ba50"
      },
      "execution_count": 54,
      "outputs": [
        {
          "output_type": "execute_result",
          "data": {
            "text/plain": [
              "level\n",
              "All Levels            268923\n",
              "Beginner Level        161029\n",
              "Expert Level            5172\n",
              "Intermediate Level     29167\n",
              "Name: num_subscribers, dtype: int64"
            ]
          },
          "metadata": {},
          "execution_count": 54
        }
      ]
    },
    {
      "cell_type": "code",
      "source": [
        "df.groupby('level').max()"
      ],
      "metadata": {
        "colab": {
          "base_uri": "https://localhost:8080/",
          "height": 504
        },
        "id": "10Rlm4vrZnHN",
        "outputId": "bf2c82b5-a133-49c6-b7a6-1ca97768b605"
      },
      "execution_count": 55,
      "outputs": [
        {
          "output_type": "execute_result",
          "data": {
            "text/html": [
              "<div>\n",
              "<style scoped>\n",
              "    .dataframe tbody tr th:only-of-type {\n",
              "        vertical-align: middle;\n",
              "    }\n",
              "\n",
              "    .dataframe tbody tr th {\n",
              "        vertical-align: top;\n",
              "    }\n",
              "\n",
              "    .dataframe thead th {\n",
              "        text-align: right;\n",
              "    }\n",
              "</style>\n",
              "<table border=\"1\" class=\"dataframe\">\n",
              "  <thead>\n",
              "    <tr style=\"text-align: right;\">\n",
              "      <th></th>\n",
              "      <th>course_id</th>\n",
              "      <th>course_title</th>\n",
              "      <th>is_paid</th>\n",
              "      <th>price</th>\n",
              "      <th>num_subscribers</th>\n",
              "      <th>num_reviews</th>\n",
              "      <th>num_lectures</th>\n",
              "      <th>content_duration</th>\n",
              "      <th>published_timestamp</th>\n",
              "      <th>subject</th>\n",
              "      <th>year</th>\n",
              "    </tr>\n",
              "    <tr>\n",
              "      <th>level</th>\n",
              "      <th></th>\n",
              "      <th></th>\n",
              "      <th></th>\n",
              "      <th></th>\n",
              "      <th></th>\n",
              "      <th></th>\n",
              "      <th></th>\n",
              "      <th></th>\n",
              "      <th></th>\n",
              "      <th></th>\n",
              "      <th></th>\n",
              "    </tr>\n",
              "  </thead>\n",
              "  <tbody>\n",
              "    <tr>\n",
              "      <th>All Levels</th>\n",
              "      <td>1277924</td>\n",
              "      <td>６時間でインターバンク市場を攻略！最短距離でトレード基礎力</td>\n",
              "      <td>True</td>\n",
              "      <td>200</td>\n",
              "      <td>268923</td>\n",
              "      <td>27445</td>\n",
              "      <td>544</td>\n",
              "      <td>9.5 hours</td>\n",
              "      <td>2017-07-06 21:16:13+00:00</td>\n",
              "      <td>Web Development</td>\n",
              "      <td>2017</td>\n",
              "    </tr>\n",
              "    <tr>\n",
              "      <th>Beginner Level</th>\n",
              "      <td>1282064</td>\n",
              "      <td>７日でマスター  ビギナー向け Adobe Illustrator　どきどきセミナー</td>\n",
              "      <td>True</td>\n",
              "      <td>200</td>\n",
              "      <td>161029</td>\n",
              "      <td>5924</td>\n",
              "      <td>779</td>\n",
              "      <td>9.5 hours</td>\n",
              "      <td>2017-07-06 21:46:30+00:00</td>\n",
              "      <td>Web Development</td>\n",
              "      <td>2017</td>\n",
              "    </tr>\n",
              "    <tr>\n",
              "      <th>Expert Level</th>\n",
              "      <td>1275790</td>\n",
              "      <td>[Value Investing] Where White People Keep Thei...</td>\n",
              "      <td>True</td>\n",
              "      <td>200</td>\n",
              "      <td>5172</td>\n",
              "      <td>249</td>\n",
              "      <td>157</td>\n",
              "      <td>9 hours</td>\n",
              "      <td>2017-07-04 18:08:01+00:00</td>\n",
              "      <td>Web Development</td>\n",
              "      <td>2017</td>\n",
              "    </tr>\n",
              "    <tr>\n",
              "      <th>Intermediate Level</th>\n",
              "      <td>1276182</td>\n",
              "      <td>株式投資で本当のテクニカル分析ができるようになる</td>\n",
              "      <td>True</td>\n",
              "      <td>200</td>\n",
              "      <td>29167</td>\n",
              "      <td>3326</td>\n",
              "      <td>320</td>\n",
              "      <td>9.5 hours</td>\n",
              "      <td>2017-07-05 04:41:54+00:00</td>\n",
              "      <td>Web Development</td>\n",
              "      <td>2017</td>\n",
              "    </tr>\n",
              "  </tbody>\n",
              "</table>\n",
              "</div>"
            ],
            "text/plain": [
              "                    course_id  ...  year\n",
              "level                          ...      \n",
              "All Levels            1277924  ...  2017\n",
              "Beginner Level        1282064  ...  2017\n",
              "Expert Level          1275790  ...  2017\n",
              "Intermediate Level    1276182  ...  2017\n",
              "\n",
              "[4 rows x 11 columns]"
            ]
          },
          "metadata": {},
          "execution_count": 55
        }
      ]
    }
  ]
}